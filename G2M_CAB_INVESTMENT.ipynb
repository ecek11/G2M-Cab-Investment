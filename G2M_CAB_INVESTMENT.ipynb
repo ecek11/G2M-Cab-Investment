{
  "nbformat": 4,
  "nbformat_minor": 0,
  "metadata": {
    "colab": {
      "name": "G2M CAB_INVESTMENT.ipynb",
      "provenance": [],
      "collapsed_sections": []
    },
    "kernelspec": {
      "name": "python3",
      "display_name": "Python 3"
    },
    "language_info": {
      "name": "python"
    }
  },
  "cells": [
    {
      "cell_type": "code",
      "metadata": {
        "id": "m5Qoh548Xx9F"
      },
      "source": [
        "import pandas as pd\n",
        "import numpy as np\n",
        "import matplotlib.pyplot as plt\n",
        "from os.path import join\n",
        "import seaborn as sns\n",
        "%matplotlib inline\n"
      ],
      "execution_count": 2,
      "outputs": []
    },
    {
      "cell_type": "markdown",
      "metadata": {
        "id": "pDnfvaf_6uqt"
      },
      "source": [
        "Hypothesis:\n",
        "\n",
        "Which cab company has the higher profit according to the years?\n",
        "\n",
        "Which cab company has the most profit?\n",
        "\n",
        "How the genders distribute according to cab companies?\n",
        "\n",
        "Which payment method is mostly used?\n",
        "\n",
        "How the cabs \tdissociate according to their colors , with observing their profits according to cities?\n",
        "\n",
        "How the payment method distribute over cab companies?\n",
        "\n",
        "Does the profit increase over years in cab industry?\n",
        "\n",
        "How does the charged price change over KM travelled?\n"
      ]
    },
    {
      "cell_type": "code",
      "metadata": {
        "colab": {
          "base_uri": "https://localhost:8080/",
          "height": 204
        },
        "id": "sO2p0FZ9WZhY",
        "outputId": "16351a72-2b39-4689-c433-a4706b9c1a10"
      },
      "source": [
        "import pandas as pd\n",
        "\n",
        "url_data = (r'https://raw.githubusercontent.com/DataGlacier/DataSets/main/Cab_Data.csv')\n",
        "\n",
        "Cab_Data= pd.read_csv(url_data)\n",
        "\n",
        "Cab_Data.head()"
      ],
      "execution_count": 3,
      "outputs": [
        {
          "output_type": "execute_result",
          "data": {
            "text/html": [
              "<div>\n",
              "<style scoped>\n",
              "    .dataframe tbody tr th:only-of-type {\n",
              "        vertical-align: middle;\n",
              "    }\n",
              "\n",
              "    .dataframe tbody tr th {\n",
              "        vertical-align: top;\n",
              "    }\n",
              "\n",
              "    .dataframe thead th {\n",
              "        text-align: right;\n",
              "    }\n",
              "</style>\n",
              "<table border=\"1\" class=\"dataframe\">\n",
              "  <thead>\n",
              "    <tr style=\"text-align: right;\">\n",
              "      <th></th>\n",
              "      <th>Transaction ID</th>\n",
              "      <th>Date of Travel</th>\n",
              "      <th>Company</th>\n",
              "      <th>City</th>\n",
              "      <th>KM Travelled</th>\n",
              "      <th>Price Charged</th>\n",
              "      <th>Cost of Trip</th>\n",
              "    </tr>\n",
              "  </thead>\n",
              "  <tbody>\n",
              "    <tr>\n",
              "      <th>0</th>\n",
              "      <td>10000011</td>\n",
              "      <td>42377</td>\n",
              "      <td>Pink Cab</td>\n",
              "      <td>ATLANTA GA</td>\n",
              "      <td>30.45</td>\n",
              "      <td>370.95</td>\n",
              "      <td>313.635</td>\n",
              "    </tr>\n",
              "    <tr>\n",
              "      <th>1</th>\n",
              "      <td>10000012</td>\n",
              "      <td>42375</td>\n",
              "      <td>Pink Cab</td>\n",
              "      <td>ATLANTA GA</td>\n",
              "      <td>28.62</td>\n",
              "      <td>358.52</td>\n",
              "      <td>334.854</td>\n",
              "    </tr>\n",
              "    <tr>\n",
              "      <th>2</th>\n",
              "      <td>10000013</td>\n",
              "      <td>42371</td>\n",
              "      <td>Pink Cab</td>\n",
              "      <td>ATLANTA GA</td>\n",
              "      <td>9.04</td>\n",
              "      <td>125.20</td>\n",
              "      <td>97.632</td>\n",
              "    </tr>\n",
              "    <tr>\n",
              "      <th>3</th>\n",
              "      <td>10000014</td>\n",
              "      <td>42376</td>\n",
              "      <td>Pink Cab</td>\n",
              "      <td>ATLANTA GA</td>\n",
              "      <td>33.17</td>\n",
              "      <td>377.40</td>\n",
              "      <td>351.602</td>\n",
              "    </tr>\n",
              "    <tr>\n",
              "      <th>4</th>\n",
              "      <td>10000015</td>\n",
              "      <td>42372</td>\n",
              "      <td>Pink Cab</td>\n",
              "      <td>ATLANTA GA</td>\n",
              "      <td>8.73</td>\n",
              "      <td>114.62</td>\n",
              "      <td>97.776</td>\n",
              "    </tr>\n",
              "  </tbody>\n",
              "</table>\n",
              "</div>"
            ],
            "text/plain": [
              "   Transaction ID  Date of Travel  ... Price Charged Cost of Trip\n",
              "0        10000011           42377  ...        370.95      313.635\n",
              "1        10000012           42375  ...        358.52      334.854\n",
              "2        10000013           42371  ...        125.20       97.632\n",
              "3        10000014           42376  ...        377.40      351.602\n",
              "4        10000015           42372  ...        114.62       97.776\n",
              "\n",
              "[5 rows x 7 columns]"
            ]
          },
          "metadata": {
            "tags": []
          },
          "execution_count": 3
        }
      ]
    },
    {
      "cell_type": "code",
      "metadata": {
        "colab": {
          "base_uri": "https://localhost:8080/"
        },
        "id": "rZzWcOMKL7bM",
        "outputId": "9d861b43-1561-4e04-a2bb-385728a563a9"
      },
      "source": [
        "Cab_Data.info"
      ],
      "execution_count": 131,
      "outputs": [
        {
          "output_type": "execute_result",
          "data": {
            "text/plain": [
              "<bound method DataFrame.info of         Transaction ID  Date of Travel  ... Price Charged Cost of Trip\n",
              "0             10000011           42377  ...        370.95     313.6350\n",
              "1             10000012           42375  ...        358.52     334.8540\n",
              "2             10000013           42371  ...        125.20      97.6320\n",
              "3             10000014           42376  ...        377.40     351.6020\n",
              "4             10000015           42372  ...        114.62      97.7760\n",
              "...                ...             ...  ...           ...          ...\n",
              "359387        10440101           43108  ...         69.24      63.3600\n",
              "359388        10440104           43104  ...        113.75     106.8480\n",
              "359389        10440105           43105  ...        437.07     349.6500\n",
              "359390        10440106           43105  ...        146.19     114.0480\n",
              "359391        10440107           43102  ...        191.58     177.6192\n",
              "\n",
              "[359392 rows x 7 columns]>"
            ]
          },
          "metadata": {
            "tags": []
          },
          "execution_count": 131
        }
      ]
    },
    {
      "cell_type": "code",
      "metadata": {
        "colab": {
          "base_uri": "https://localhost:8080/",
          "height": 204
        },
        "id": "7Xlve7E8Wu_j",
        "outputId": "1b275189-af5f-4a50-aa40-54d4afc1b9e9"
      },
      "source": [
        "url_data2 = (r'https://raw.githubusercontent.com/DataGlacier/DataSets/main/City.csv')\n",
        "\n",
        "City= pd.read_csv(url_data2)\n",
        "\n",
        "City.head()"
      ],
      "execution_count": 4,
      "outputs": [
        {
          "output_type": "execute_result",
          "data": {
            "text/html": [
              "<div>\n",
              "<style scoped>\n",
              "    .dataframe tbody tr th:only-of-type {\n",
              "        vertical-align: middle;\n",
              "    }\n",
              "\n",
              "    .dataframe tbody tr th {\n",
              "        vertical-align: top;\n",
              "    }\n",
              "\n",
              "    .dataframe thead th {\n",
              "        text-align: right;\n",
              "    }\n",
              "</style>\n",
              "<table border=\"1\" class=\"dataframe\">\n",
              "  <thead>\n",
              "    <tr style=\"text-align: right;\">\n",
              "      <th></th>\n",
              "      <th>City</th>\n",
              "      <th>Population</th>\n",
              "      <th>Users</th>\n",
              "    </tr>\n",
              "  </thead>\n",
              "  <tbody>\n",
              "    <tr>\n",
              "      <th>0</th>\n",
              "      <td>NEW YORK NY</td>\n",
              "      <td>8,405,837</td>\n",
              "      <td>302,149</td>\n",
              "    </tr>\n",
              "    <tr>\n",
              "      <th>1</th>\n",
              "      <td>CHICAGO IL</td>\n",
              "      <td>1,955,130</td>\n",
              "      <td>164,468</td>\n",
              "    </tr>\n",
              "    <tr>\n",
              "      <th>2</th>\n",
              "      <td>LOS ANGELES CA</td>\n",
              "      <td>1,595,037</td>\n",
              "      <td>144,132</td>\n",
              "    </tr>\n",
              "    <tr>\n",
              "      <th>3</th>\n",
              "      <td>MIAMI FL</td>\n",
              "      <td>1,339,155</td>\n",
              "      <td>17,675</td>\n",
              "    </tr>\n",
              "    <tr>\n",
              "      <th>4</th>\n",
              "      <td>SILICON VALLEY</td>\n",
              "      <td>1,177,609</td>\n",
              "      <td>27,247</td>\n",
              "    </tr>\n",
              "  </tbody>\n",
              "</table>\n",
              "</div>"
            ],
            "text/plain": [
              "             City   Population      Users\n",
              "0     NEW YORK NY   8,405,837    302,149 \n",
              "1      CHICAGO IL   1,955,130    164,468 \n",
              "2  LOS ANGELES CA   1,595,037    144,132 \n",
              "3        MIAMI FL   1,339,155     17,675 \n",
              "4  SILICON VALLEY   1,177,609     27,247 "
            ]
          },
          "metadata": {
            "tags": []
          },
          "execution_count": 4
        }
      ]
    },
    {
      "cell_type": "code",
      "metadata": {
        "colab": {
          "base_uri": "https://localhost:8080/"
        },
        "id": "djQBF7esxutn",
        "outputId": "bc3cee6f-5754-417d-c30f-63880d78cbf2"
      },
      "source": [
        "City.dtypes"
      ],
      "execution_count": 73,
      "outputs": [
        {
          "output_type": "execute_result",
          "data": {
            "text/plain": [
              "City          object\n",
              "Population    object\n",
              "Users         object\n",
              "dtype: object"
            ]
          },
          "metadata": {
            "tags": []
          },
          "execution_count": 73
        }
      ]
    },
    {
      "cell_type": "code",
      "metadata": {
        "colab": {
          "base_uri": "https://localhost:8080/"
        },
        "id": "OQfTTMOqxwYx",
        "outputId": "9631c34a-6307-4cb0-bd18-6d2f5cdc8105"
      },
      "source": [
        "City['Population'] = [x.replace(',','') for x in City['Population']]\n",
        "City['Users'] = [x.replace(',','') for x in City['Users']]\n",
        "City['Population'] = City['Population'].astype(float)\n",
        "City['Users'] = City['Users'].astype(float)\n",
        "City.dtypes"
      ],
      "execution_count": 76,
      "outputs": [
        {
          "output_type": "execute_result",
          "data": {
            "text/plain": [
              "City           object\n",
              "Population    float64\n",
              "Users         float64\n",
              "dtype: object"
            ]
          },
          "metadata": {
            "tags": []
          },
          "execution_count": 76
        }
      ]
    },
    {
      "cell_type": "code",
      "metadata": {
        "colab": {
          "base_uri": "https://localhost:8080/",
          "height": 204
        },
        "id": "J8CYtD-FXEDA",
        "outputId": "3ce53c09-ba0e-4b6a-8ca9-867d14d96fa3"
      },
      "source": [
        "url_data3 = (r'https://raw.githubusercontent.com/DataGlacier/DataSets/main/Customer_ID.csv')\n",
        "\n",
        "Customer_ID= pd.read_csv(url_data3)\n",
        "\n",
        "Customer_ID.head()"
      ],
      "execution_count": 5,
      "outputs": [
        {
          "output_type": "execute_result",
          "data": {
            "text/html": [
              "<div>\n",
              "<style scoped>\n",
              "    .dataframe tbody tr th:only-of-type {\n",
              "        vertical-align: middle;\n",
              "    }\n",
              "\n",
              "    .dataframe tbody tr th {\n",
              "        vertical-align: top;\n",
              "    }\n",
              "\n",
              "    .dataframe thead th {\n",
              "        text-align: right;\n",
              "    }\n",
              "</style>\n",
              "<table border=\"1\" class=\"dataframe\">\n",
              "  <thead>\n",
              "    <tr style=\"text-align: right;\">\n",
              "      <th></th>\n",
              "      <th>Customer ID</th>\n",
              "      <th>Gender</th>\n",
              "      <th>Age</th>\n",
              "      <th>Income (USD/Month)</th>\n",
              "    </tr>\n",
              "  </thead>\n",
              "  <tbody>\n",
              "    <tr>\n",
              "      <th>0</th>\n",
              "      <td>29290</td>\n",
              "      <td>Male</td>\n",
              "      <td>28</td>\n",
              "      <td>10813</td>\n",
              "    </tr>\n",
              "    <tr>\n",
              "      <th>1</th>\n",
              "      <td>27703</td>\n",
              "      <td>Male</td>\n",
              "      <td>27</td>\n",
              "      <td>9237</td>\n",
              "    </tr>\n",
              "    <tr>\n",
              "      <th>2</th>\n",
              "      <td>28712</td>\n",
              "      <td>Male</td>\n",
              "      <td>53</td>\n",
              "      <td>11242</td>\n",
              "    </tr>\n",
              "    <tr>\n",
              "      <th>3</th>\n",
              "      <td>28020</td>\n",
              "      <td>Male</td>\n",
              "      <td>23</td>\n",
              "      <td>23327</td>\n",
              "    </tr>\n",
              "    <tr>\n",
              "      <th>4</th>\n",
              "      <td>27182</td>\n",
              "      <td>Male</td>\n",
              "      <td>33</td>\n",
              "      <td>8536</td>\n",
              "    </tr>\n",
              "  </tbody>\n",
              "</table>\n",
              "</div>"
            ],
            "text/plain": [
              "   Customer ID Gender  Age  Income (USD/Month)\n",
              "0        29290   Male   28               10813\n",
              "1        27703   Male   27                9237\n",
              "2        28712   Male   53               11242\n",
              "3        28020   Male   23               23327\n",
              "4        27182   Male   33                8536"
            ]
          },
          "metadata": {
            "tags": []
          },
          "execution_count": 5
        }
      ]
    },
    {
      "cell_type": "code",
      "metadata": {
        "colab": {
          "base_uri": "https://localhost:8080/"
        },
        "id": "42zA3RDGyGz9",
        "outputId": "b7bc9a0c-1e41-4228-cac2-7131a9685e54"
      },
      "source": [
        "Customer_ID.dtypes"
      ],
      "execution_count": 78,
      "outputs": [
        {
          "output_type": "execute_result",
          "data": {
            "text/plain": [
              "Customer ID            int64\n",
              "Gender                object\n",
              "Age                    int64\n",
              "Income (USD/Month)     int64\n",
              "dtype: object"
            ]
          },
          "metadata": {
            "tags": []
          },
          "execution_count": 78
        }
      ]
    },
    {
      "cell_type": "code",
      "metadata": {
        "colab": {
          "base_uri": "https://localhost:8080/",
          "height": 204
        },
        "id": "O4lnssRvXX12",
        "outputId": "867cd0d2-eb78-4021-bdbf-67e621a432c7"
      },
      "source": [
        "\n",
        "url_data4 = (r'https://raw.githubusercontent.com/DataGlacier/DataSets/main/Transaction_ID.csv')\n",
        "\n",
        "Transaction_ID= pd.read_csv(url_data4)\n",
        "\n",
        "Transaction_ID.head()"
      ],
      "execution_count": 6,
      "outputs": [
        {
          "output_type": "execute_result",
          "data": {
            "text/html": [
              "<div>\n",
              "<style scoped>\n",
              "    .dataframe tbody tr th:only-of-type {\n",
              "        vertical-align: middle;\n",
              "    }\n",
              "\n",
              "    .dataframe tbody tr th {\n",
              "        vertical-align: top;\n",
              "    }\n",
              "\n",
              "    .dataframe thead th {\n",
              "        text-align: right;\n",
              "    }\n",
              "</style>\n",
              "<table border=\"1\" class=\"dataframe\">\n",
              "  <thead>\n",
              "    <tr style=\"text-align: right;\">\n",
              "      <th></th>\n",
              "      <th>Transaction ID</th>\n",
              "      <th>Customer ID</th>\n",
              "      <th>Payment_Mode</th>\n",
              "    </tr>\n",
              "  </thead>\n",
              "  <tbody>\n",
              "    <tr>\n",
              "      <th>0</th>\n",
              "      <td>10000011</td>\n",
              "      <td>29290</td>\n",
              "      <td>Card</td>\n",
              "    </tr>\n",
              "    <tr>\n",
              "      <th>1</th>\n",
              "      <td>10000012</td>\n",
              "      <td>27703</td>\n",
              "      <td>Card</td>\n",
              "    </tr>\n",
              "    <tr>\n",
              "      <th>2</th>\n",
              "      <td>10000013</td>\n",
              "      <td>28712</td>\n",
              "      <td>Cash</td>\n",
              "    </tr>\n",
              "    <tr>\n",
              "      <th>3</th>\n",
              "      <td>10000014</td>\n",
              "      <td>28020</td>\n",
              "      <td>Cash</td>\n",
              "    </tr>\n",
              "    <tr>\n",
              "      <th>4</th>\n",
              "      <td>10000015</td>\n",
              "      <td>27182</td>\n",
              "      <td>Card</td>\n",
              "    </tr>\n",
              "  </tbody>\n",
              "</table>\n",
              "</div>"
            ],
            "text/plain": [
              "   Transaction ID  Customer ID Payment_Mode\n",
              "0        10000011        29290         Card\n",
              "1        10000012        27703         Card\n",
              "2        10000013        28712         Cash\n",
              "3        10000014        28020         Cash\n",
              "4        10000015        27182         Card"
            ]
          },
          "metadata": {
            "tags": []
          },
          "execution_count": 6
        }
      ]
    },
    {
      "cell_type": "code",
      "metadata": {
        "colab": {
          "base_uri": "https://localhost:8080/"
        },
        "id": "p8AAnLhGXnTk",
        "outputId": "059902cc-42f9-4eaf-ecd2-51e0c4c3e276"
      },
      "source": [
        "numberofrows_1, numberofcolumns_1 = Transaction_ID.shape\n",
        "print(\"There are {} rows and {} columns\".format(numberofrows_1, numberofcolumns_1)+\" in our Transaction_ID Dataset.\")"
      ],
      "execution_count": 7,
      "outputs": [
        {
          "output_type": "stream",
          "text": [
            "There are 440098 rows and 3 columns in our Transaction_ID Dataset.\n"
          ],
          "name": "stdout"
        }
      ]
    },
    {
      "cell_type": "code",
      "metadata": {
        "colab": {
          "base_uri": "https://localhost:8080/"
        },
        "id": "I0lhQGLdYBm4",
        "outputId": "61a09ac2-0536-469e-9491-a37e92732112"
      },
      "source": [
        "numberofrows_2, numberofcolumns_2 = City.shape\n",
        "print(\"There are {} rows and {} columns\".format(numberofrows_2, numberofcolumns_2)+\" in our City Dataset.\")"
      ],
      "execution_count": 8,
      "outputs": [
        {
          "output_type": "stream",
          "text": [
            "There are 20 rows and 3 columns in our City Dataset.\n"
          ],
          "name": "stdout"
        }
      ]
    },
    {
      "cell_type": "code",
      "metadata": {
        "colab": {
          "base_uri": "https://localhost:8080/"
        },
        "id": "zvfkp28zjvKk",
        "outputId": "e9c47d65-243f-4dd7-9f44-7a8c4f69ffa5"
      },
      "source": [
        "numberofrows_3, numberofcolumns_3 = Customer_ID.shape\n",
        "print(\"There are {} rows and {} columns\".format(numberofrows_3, numberofcolumns_3)+\" in our Customer_ID Dataset.\")"
      ],
      "execution_count": 9,
      "outputs": [
        {
          "output_type": "stream",
          "text": [
            "There are 49171 rows and 4 columns in our Customer_ID Dataset.\n"
          ],
          "name": "stdout"
        }
      ]
    },
    {
      "cell_type": "code",
      "metadata": {
        "colab": {
          "base_uri": "https://localhost:8080/"
        },
        "id": "5lty4xWIj21M",
        "outputId": "bc68d158-fb52-4971-d3e9-b0e35e0f4bfd"
      },
      "source": [
        "numberofrows_4, numberofcolumns_4 = Cab_Data.shape\n",
        "print(\"There are {} rows and {} columns\".format(numberofrows_4, numberofcolumns_4)+\" in our Cab_Data Dataset.\")"
      ],
      "execution_count": 10,
      "outputs": [
        {
          "output_type": "stream",
          "text": [
            "There are 359392 rows and 7 columns in our Cab_Data Dataset.\n"
          ],
          "name": "stdout"
        }
      ]
    },
    {
      "cell_type": "code",
      "metadata": {
        "colab": {
          "base_uri": "https://localhost:8080/",
          "height": 359
        },
        "id": "__iCuBFij9Uc",
        "outputId": "8a2db061-ff00-4ff5-dfdd-4e1cb2b634cd"
      },
      "source": [
        "result_merged= pd.merge(left=Transaction_ID, right=Customer_ID, left_on='Customer ID', right_on='Customer ID')\n",
        "result_merged.head(10)"
      ],
      "execution_count": 11,
      "outputs": [
        {
          "output_type": "execute_result",
          "data": {
            "text/html": [
              "<div>\n",
              "<style scoped>\n",
              "    .dataframe tbody tr th:only-of-type {\n",
              "        vertical-align: middle;\n",
              "    }\n",
              "\n",
              "    .dataframe tbody tr th {\n",
              "        vertical-align: top;\n",
              "    }\n",
              "\n",
              "    .dataframe thead th {\n",
              "        text-align: right;\n",
              "    }\n",
              "</style>\n",
              "<table border=\"1\" class=\"dataframe\">\n",
              "  <thead>\n",
              "    <tr style=\"text-align: right;\">\n",
              "      <th></th>\n",
              "      <th>Transaction ID</th>\n",
              "      <th>Customer ID</th>\n",
              "      <th>Payment_Mode</th>\n",
              "      <th>Gender</th>\n",
              "      <th>Age</th>\n",
              "      <th>Income (USD/Month)</th>\n",
              "    </tr>\n",
              "  </thead>\n",
              "  <tbody>\n",
              "    <tr>\n",
              "      <th>0</th>\n",
              "      <td>10000011</td>\n",
              "      <td>29290</td>\n",
              "      <td>Card</td>\n",
              "      <td>Male</td>\n",
              "      <td>28</td>\n",
              "      <td>10813</td>\n",
              "    </tr>\n",
              "    <tr>\n",
              "      <th>1</th>\n",
              "      <td>10351127</td>\n",
              "      <td>29290</td>\n",
              "      <td>Cash</td>\n",
              "      <td>Male</td>\n",
              "      <td>28</td>\n",
              "      <td>10813</td>\n",
              "    </tr>\n",
              "    <tr>\n",
              "      <th>2</th>\n",
              "      <td>10412921</td>\n",
              "      <td>29290</td>\n",
              "      <td>Card</td>\n",
              "      <td>Male</td>\n",
              "      <td>28</td>\n",
              "      <td>10813</td>\n",
              "    </tr>\n",
              "    <tr>\n",
              "      <th>3</th>\n",
              "      <td>10000012</td>\n",
              "      <td>27703</td>\n",
              "      <td>Card</td>\n",
              "      <td>Male</td>\n",
              "      <td>27</td>\n",
              "      <td>9237</td>\n",
              "    </tr>\n",
              "    <tr>\n",
              "      <th>4</th>\n",
              "      <td>10320494</td>\n",
              "      <td>27703</td>\n",
              "      <td>Card</td>\n",
              "      <td>Male</td>\n",
              "      <td>27</td>\n",
              "      <td>9237</td>\n",
              "    </tr>\n",
              "    <tr>\n",
              "      <th>5</th>\n",
              "      <td>10324737</td>\n",
              "      <td>27703</td>\n",
              "      <td>Cash</td>\n",
              "      <td>Male</td>\n",
              "      <td>27</td>\n",
              "      <td>9237</td>\n",
              "    </tr>\n",
              "    <tr>\n",
              "      <th>6</th>\n",
              "      <td>10395626</td>\n",
              "      <td>27703</td>\n",
              "      <td>Card</td>\n",
              "      <td>Male</td>\n",
              "      <td>27</td>\n",
              "      <td>9237</td>\n",
              "    </tr>\n",
              "    <tr>\n",
              "      <th>7</th>\n",
              "      <td>10000013</td>\n",
              "      <td>28712</td>\n",
              "      <td>Cash</td>\n",
              "      <td>Male</td>\n",
              "      <td>53</td>\n",
              "      <td>11242</td>\n",
              "    </tr>\n",
              "    <tr>\n",
              "      <th>8</th>\n",
              "      <td>10079404</td>\n",
              "      <td>28712</td>\n",
              "      <td>Card</td>\n",
              "      <td>Male</td>\n",
              "      <td>53</td>\n",
              "      <td>11242</td>\n",
              "    </tr>\n",
              "    <tr>\n",
              "      <th>9</th>\n",
              "      <td>10186994</td>\n",
              "      <td>28712</td>\n",
              "      <td>Card</td>\n",
              "      <td>Male</td>\n",
              "      <td>53</td>\n",
              "      <td>11242</td>\n",
              "    </tr>\n",
              "  </tbody>\n",
              "</table>\n",
              "</div>"
            ],
            "text/plain": [
              "   Transaction ID  Customer ID Payment_Mode Gender  Age  Income (USD/Month)\n",
              "0        10000011        29290         Card   Male   28               10813\n",
              "1        10351127        29290         Cash   Male   28               10813\n",
              "2        10412921        29290         Card   Male   28               10813\n",
              "3        10000012        27703         Card   Male   27                9237\n",
              "4        10320494        27703         Card   Male   27                9237\n",
              "5        10324737        27703         Cash   Male   27                9237\n",
              "6        10395626        27703         Card   Male   27                9237\n",
              "7        10000013        28712         Cash   Male   53               11242\n",
              "8        10079404        28712         Card   Male   53               11242\n",
              "9        10186994        28712         Card   Male   53               11242"
            ]
          },
          "metadata": {
            "tags": []
          },
          "execution_count": 11
        }
      ]
    },
    {
      "cell_type": "code",
      "metadata": {
        "colab": {
          "base_uri": "https://localhost:8080/",
          "height": 359
        },
        "id": "F76dD5Dxkyh0",
        "outputId": "a370cc74-632a-4723-d693-7d4017d7cade"
      },
      "source": [
        "result= pd.merge(left=Transaction_ID, right=Cab_Data , left_on='Transaction ID', right_on='Transaction ID')\n",
        "result.head(10)"
      ],
      "execution_count": 12,
      "outputs": [
        {
          "output_type": "execute_result",
          "data": {
            "text/html": [
              "<div>\n",
              "<style scoped>\n",
              "    .dataframe tbody tr th:only-of-type {\n",
              "        vertical-align: middle;\n",
              "    }\n",
              "\n",
              "    .dataframe tbody tr th {\n",
              "        vertical-align: top;\n",
              "    }\n",
              "\n",
              "    .dataframe thead th {\n",
              "        text-align: right;\n",
              "    }\n",
              "</style>\n",
              "<table border=\"1\" class=\"dataframe\">\n",
              "  <thead>\n",
              "    <tr style=\"text-align: right;\">\n",
              "      <th></th>\n",
              "      <th>Transaction ID</th>\n",
              "      <th>Customer ID</th>\n",
              "      <th>Payment_Mode</th>\n",
              "      <th>Date of Travel</th>\n",
              "      <th>Company</th>\n",
              "      <th>City</th>\n",
              "      <th>KM Travelled</th>\n",
              "      <th>Price Charged</th>\n",
              "      <th>Cost of Trip</th>\n",
              "    </tr>\n",
              "  </thead>\n",
              "  <tbody>\n",
              "    <tr>\n",
              "      <th>0</th>\n",
              "      <td>10000011</td>\n",
              "      <td>29290</td>\n",
              "      <td>Card</td>\n",
              "      <td>42377</td>\n",
              "      <td>Pink Cab</td>\n",
              "      <td>ATLANTA GA</td>\n",
              "      <td>30.45</td>\n",
              "      <td>370.95</td>\n",
              "      <td>313.635</td>\n",
              "    </tr>\n",
              "    <tr>\n",
              "      <th>1</th>\n",
              "      <td>10000012</td>\n",
              "      <td>27703</td>\n",
              "      <td>Card</td>\n",
              "      <td>42375</td>\n",
              "      <td>Pink Cab</td>\n",
              "      <td>ATLANTA GA</td>\n",
              "      <td>28.62</td>\n",
              "      <td>358.52</td>\n",
              "      <td>334.854</td>\n",
              "    </tr>\n",
              "    <tr>\n",
              "      <th>2</th>\n",
              "      <td>10000013</td>\n",
              "      <td>28712</td>\n",
              "      <td>Cash</td>\n",
              "      <td>42371</td>\n",
              "      <td>Pink Cab</td>\n",
              "      <td>ATLANTA GA</td>\n",
              "      <td>9.04</td>\n",
              "      <td>125.20</td>\n",
              "      <td>97.632</td>\n",
              "    </tr>\n",
              "    <tr>\n",
              "      <th>3</th>\n",
              "      <td>10000014</td>\n",
              "      <td>28020</td>\n",
              "      <td>Cash</td>\n",
              "      <td>42376</td>\n",
              "      <td>Pink Cab</td>\n",
              "      <td>ATLANTA GA</td>\n",
              "      <td>33.17</td>\n",
              "      <td>377.40</td>\n",
              "      <td>351.602</td>\n",
              "    </tr>\n",
              "    <tr>\n",
              "      <th>4</th>\n",
              "      <td>10000015</td>\n",
              "      <td>27182</td>\n",
              "      <td>Card</td>\n",
              "      <td>42372</td>\n",
              "      <td>Pink Cab</td>\n",
              "      <td>ATLANTA GA</td>\n",
              "      <td>8.73</td>\n",
              "      <td>114.62</td>\n",
              "      <td>97.776</td>\n",
              "    </tr>\n",
              "    <tr>\n",
              "      <th>5</th>\n",
              "      <td>10000016</td>\n",
              "      <td>27318</td>\n",
              "      <td>Cash</td>\n",
              "      <td>42376</td>\n",
              "      <td>Pink Cab</td>\n",
              "      <td>ATLANTA GA</td>\n",
              "      <td>6.06</td>\n",
              "      <td>72.43</td>\n",
              "      <td>63.024</td>\n",
              "    </tr>\n",
              "    <tr>\n",
              "      <th>6</th>\n",
              "      <td>10000017</td>\n",
              "      <td>33788</td>\n",
              "      <td>Card</td>\n",
              "      <td>42372</td>\n",
              "      <td>Pink Cab</td>\n",
              "      <td>AUSTIN TX</td>\n",
              "      <td>44.00</td>\n",
              "      <td>576.15</td>\n",
              "      <td>475.200</td>\n",
              "    </tr>\n",
              "    <tr>\n",
              "      <th>7</th>\n",
              "      <td>10000018</td>\n",
              "      <td>34106</td>\n",
              "      <td>Card</td>\n",
              "      <td>42376</td>\n",
              "      <td>Pink Cab</td>\n",
              "      <td>AUSTIN TX</td>\n",
              "      <td>35.65</td>\n",
              "      <td>466.10</td>\n",
              "      <td>377.890</td>\n",
              "    </tr>\n",
              "    <tr>\n",
              "      <th>8</th>\n",
              "      <td>10000019</td>\n",
              "      <td>59799</td>\n",
              "      <td>Cash</td>\n",
              "      <td>42381</td>\n",
              "      <td>Pink Cab</td>\n",
              "      <td>BOSTON MA</td>\n",
              "      <td>14.40</td>\n",
              "      <td>191.61</td>\n",
              "      <td>146.880</td>\n",
              "    </tr>\n",
              "    <tr>\n",
              "      <th>9</th>\n",
              "      <td>10000020</td>\n",
              "      <td>57982</td>\n",
              "      <td>Cash</td>\n",
              "      <td>42375</td>\n",
              "      <td>Pink Cab</td>\n",
              "      <td>BOSTON MA</td>\n",
              "      <td>10.89</td>\n",
              "      <td>156.98</td>\n",
              "      <td>113.256</td>\n",
              "    </tr>\n",
              "  </tbody>\n",
              "</table>\n",
              "</div>"
            ],
            "text/plain": [
              "   Transaction ID  Customer ID  ... Price Charged  Cost of Trip\n",
              "0        10000011        29290  ...        370.95       313.635\n",
              "1        10000012        27703  ...        358.52       334.854\n",
              "2        10000013        28712  ...        125.20        97.632\n",
              "3        10000014        28020  ...        377.40       351.602\n",
              "4        10000015        27182  ...        114.62        97.776\n",
              "5        10000016        27318  ...         72.43        63.024\n",
              "6        10000017        33788  ...        576.15       475.200\n",
              "7        10000018        34106  ...        466.10       377.890\n",
              "8        10000019        59799  ...        191.61       146.880\n",
              "9        10000020        57982  ...        156.98       113.256\n",
              "\n",
              "[10 rows x 9 columns]"
            ]
          },
          "metadata": {
            "tags": []
          },
          "execution_count": 12
        }
      ]
    },
    {
      "cell_type": "code",
      "metadata": {
        "colab": {
          "base_uri": "https://localhost:8080/",
          "height": 546
        },
        "id": "EuOE_S1XlPst",
        "outputId": "c11e1f58-7e8b-4a90-caf2-4aafb1f4ac19"
      },
      "source": [
        "result_all= pd.merge(left=result, right=result_merged, left_on='Transaction ID', right_on='Transaction ID')\n",
        "result_all.head(10)"
      ],
      "execution_count": 13,
      "outputs": [
        {
          "output_type": "execute_result",
          "data": {
            "text/html": [
              "<div>\n",
              "<style scoped>\n",
              "    .dataframe tbody tr th:only-of-type {\n",
              "        vertical-align: middle;\n",
              "    }\n",
              "\n",
              "    .dataframe tbody tr th {\n",
              "        vertical-align: top;\n",
              "    }\n",
              "\n",
              "    .dataframe thead th {\n",
              "        text-align: right;\n",
              "    }\n",
              "</style>\n",
              "<table border=\"1\" class=\"dataframe\">\n",
              "  <thead>\n",
              "    <tr style=\"text-align: right;\">\n",
              "      <th></th>\n",
              "      <th>Transaction ID</th>\n",
              "      <th>Customer ID_x</th>\n",
              "      <th>Payment_Mode_x</th>\n",
              "      <th>Date of Travel</th>\n",
              "      <th>Company</th>\n",
              "      <th>City</th>\n",
              "      <th>KM Travelled</th>\n",
              "      <th>Price Charged</th>\n",
              "      <th>Cost of Trip</th>\n",
              "      <th>Customer ID_y</th>\n",
              "      <th>Payment_Mode_y</th>\n",
              "      <th>Gender</th>\n",
              "      <th>Age</th>\n",
              "      <th>Income (USD/Month)</th>\n",
              "    </tr>\n",
              "  </thead>\n",
              "  <tbody>\n",
              "    <tr>\n",
              "      <th>0</th>\n",
              "      <td>10000011</td>\n",
              "      <td>29290</td>\n",
              "      <td>Card</td>\n",
              "      <td>42377</td>\n",
              "      <td>Pink Cab</td>\n",
              "      <td>ATLANTA GA</td>\n",
              "      <td>30.45</td>\n",
              "      <td>370.95</td>\n",
              "      <td>313.635</td>\n",
              "      <td>29290</td>\n",
              "      <td>Card</td>\n",
              "      <td>Male</td>\n",
              "      <td>28</td>\n",
              "      <td>10813</td>\n",
              "    </tr>\n",
              "    <tr>\n",
              "      <th>1</th>\n",
              "      <td>10000012</td>\n",
              "      <td>27703</td>\n",
              "      <td>Card</td>\n",
              "      <td>42375</td>\n",
              "      <td>Pink Cab</td>\n",
              "      <td>ATLANTA GA</td>\n",
              "      <td>28.62</td>\n",
              "      <td>358.52</td>\n",
              "      <td>334.854</td>\n",
              "      <td>27703</td>\n",
              "      <td>Card</td>\n",
              "      <td>Male</td>\n",
              "      <td>27</td>\n",
              "      <td>9237</td>\n",
              "    </tr>\n",
              "    <tr>\n",
              "      <th>2</th>\n",
              "      <td>10000013</td>\n",
              "      <td>28712</td>\n",
              "      <td>Cash</td>\n",
              "      <td>42371</td>\n",
              "      <td>Pink Cab</td>\n",
              "      <td>ATLANTA GA</td>\n",
              "      <td>9.04</td>\n",
              "      <td>125.20</td>\n",
              "      <td>97.632</td>\n",
              "      <td>28712</td>\n",
              "      <td>Cash</td>\n",
              "      <td>Male</td>\n",
              "      <td>53</td>\n",
              "      <td>11242</td>\n",
              "    </tr>\n",
              "    <tr>\n",
              "      <th>3</th>\n",
              "      <td>10000014</td>\n",
              "      <td>28020</td>\n",
              "      <td>Cash</td>\n",
              "      <td>42376</td>\n",
              "      <td>Pink Cab</td>\n",
              "      <td>ATLANTA GA</td>\n",
              "      <td>33.17</td>\n",
              "      <td>377.40</td>\n",
              "      <td>351.602</td>\n",
              "      <td>28020</td>\n",
              "      <td>Cash</td>\n",
              "      <td>Male</td>\n",
              "      <td>23</td>\n",
              "      <td>23327</td>\n",
              "    </tr>\n",
              "    <tr>\n",
              "      <th>4</th>\n",
              "      <td>10000015</td>\n",
              "      <td>27182</td>\n",
              "      <td>Card</td>\n",
              "      <td>42372</td>\n",
              "      <td>Pink Cab</td>\n",
              "      <td>ATLANTA GA</td>\n",
              "      <td>8.73</td>\n",
              "      <td>114.62</td>\n",
              "      <td>97.776</td>\n",
              "      <td>27182</td>\n",
              "      <td>Card</td>\n",
              "      <td>Male</td>\n",
              "      <td>33</td>\n",
              "      <td>8536</td>\n",
              "    </tr>\n",
              "    <tr>\n",
              "      <th>5</th>\n",
              "      <td>10000016</td>\n",
              "      <td>27318</td>\n",
              "      <td>Cash</td>\n",
              "      <td>42376</td>\n",
              "      <td>Pink Cab</td>\n",
              "      <td>ATLANTA GA</td>\n",
              "      <td>6.06</td>\n",
              "      <td>72.43</td>\n",
              "      <td>63.024</td>\n",
              "      <td>27318</td>\n",
              "      <td>Cash</td>\n",
              "      <td>Male</td>\n",
              "      <td>25</td>\n",
              "      <td>13984</td>\n",
              "    </tr>\n",
              "    <tr>\n",
              "      <th>6</th>\n",
              "      <td>10000017</td>\n",
              "      <td>33788</td>\n",
              "      <td>Card</td>\n",
              "      <td>42372</td>\n",
              "      <td>Pink Cab</td>\n",
              "      <td>AUSTIN TX</td>\n",
              "      <td>44.00</td>\n",
              "      <td>576.15</td>\n",
              "      <td>475.200</td>\n",
              "      <td>33788</td>\n",
              "      <td>Card</td>\n",
              "      <td>Male</td>\n",
              "      <td>23</td>\n",
              "      <td>23788</td>\n",
              "    </tr>\n",
              "    <tr>\n",
              "      <th>7</th>\n",
              "      <td>10000018</td>\n",
              "      <td>34106</td>\n",
              "      <td>Card</td>\n",
              "      <td>42376</td>\n",
              "      <td>Pink Cab</td>\n",
              "      <td>AUSTIN TX</td>\n",
              "      <td>35.65</td>\n",
              "      <td>466.10</td>\n",
              "      <td>377.890</td>\n",
              "      <td>34106</td>\n",
              "      <td>Card</td>\n",
              "      <td>Male</td>\n",
              "      <td>19</td>\n",
              "      <td>19980</td>\n",
              "    </tr>\n",
              "    <tr>\n",
              "      <th>8</th>\n",
              "      <td>10000019</td>\n",
              "      <td>59799</td>\n",
              "      <td>Cash</td>\n",
              "      <td>42381</td>\n",
              "      <td>Pink Cab</td>\n",
              "      <td>BOSTON MA</td>\n",
              "      <td>14.40</td>\n",
              "      <td>191.61</td>\n",
              "      <td>146.880</td>\n",
              "      <td>59799</td>\n",
              "      <td>Cash</td>\n",
              "      <td>Male</td>\n",
              "      <td>33</td>\n",
              "      <td>19271</td>\n",
              "    </tr>\n",
              "    <tr>\n",
              "      <th>9</th>\n",
              "      <td>10000020</td>\n",
              "      <td>57982</td>\n",
              "      <td>Cash</td>\n",
              "      <td>42375</td>\n",
              "      <td>Pink Cab</td>\n",
              "      <td>BOSTON MA</td>\n",
              "      <td>10.89</td>\n",
              "      <td>156.98</td>\n",
              "      <td>113.256</td>\n",
              "      <td>57982</td>\n",
              "      <td>Cash</td>\n",
              "      <td>Male</td>\n",
              "      <td>57</td>\n",
              "      <td>5068</td>\n",
              "    </tr>\n",
              "  </tbody>\n",
              "</table>\n",
              "</div>"
            ],
            "text/plain": [
              "   Transaction ID  Customer ID_x Payment_Mode_x  ...  Gender Age Income (USD/Month)\n",
              "0        10000011          29290           Card  ...    Male  28              10813\n",
              "1        10000012          27703           Card  ...    Male  27               9237\n",
              "2        10000013          28712           Cash  ...    Male  53              11242\n",
              "3        10000014          28020           Cash  ...    Male  23              23327\n",
              "4        10000015          27182           Card  ...    Male  33               8536\n",
              "5        10000016          27318           Cash  ...    Male  25              13984\n",
              "6        10000017          33788           Card  ...    Male  23              23788\n",
              "7        10000018          34106           Card  ...    Male  19              19980\n",
              "8        10000019          59799           Cash  ...    Male  33              19271\n",
              "9        10000020          57982           Cash  ...    Male  57               5068\n",
              "\n",
              "[10 rows x 14 columns]"
            ]
          },
          "metadata": {
            "tags": []
          },
          "execution_count": 13
        }
      ]
    },
    {
      "cell_type": "markdown",
      "metadata": {
        "id": "M66LJOu7lhkN"
      },
      "source": [
        "**DATA** **CLEANING**"
      ]
    },
    {
      "cell_type": "code",
      "metadata": {
        "id": "0InvMuFxxBho"
      },
      "source": [
        "from datetime import datetime, timedelta"
      ],
      "execution_count": 65,
      "outputs": []
    },
    {
      "cell_type": "code",
      "metadata": {
        "id": "JZe1J0l9xDSD"
      },
      "source": [
        "def to_date_format(n):\n",
        "    date_str =(datetime(1899,12,30) + timedelta(n-1)).strftime(\"%d-%m-%Y\")\n",
        "    date_date =  datetime.strptime(date_str, \"%d-%m-%Y\")\n",
        "    return date_date"
      ],
      "execution_count": 66,
      "outputs": []
    },
    {
      "cell_type": "code",
      "metadata": {
        "id": "Or8eIvSSxhMs"
      },
      "source": [
        "result_all['Date of Travel']=result_all['Date of Travel'].apply(lambda x:to_date_format(x))\n"
      ],
      "execution_count": null,
      "outputs": []
    },
    {
      "cell_type": "code",
      "metadata": {
        "id": "JMx4uDuLxZGf"
      },
      "source": [
        "result_all=result_all.sort_values(by=['Date of Travel'])\n",
        "result_all=result_all.reset_index(drop= True )"
      ],
      "execution_count": 70,
      "outputs": []
    },
    {
      "cell_type": "code",
      "metadata": {
        "colab": {
          "base_uri": "https://localhost:8080/",
          "height": 495
        },
        "id": "IEDNNOOzxL2d",
        "outputId": "c901b2a8-46bb-4f62-d766-d835e733c485"
      },
      "source": [
        "result_all.head(10)"
      ],
      "execution_count": 71,
      "outputs": [
        {
          "output_type": "execute_result",
          "data": {
            "text/html": [
              "<div>\n",
              "<style scoped>\n",
              "    .dataframe tbody tr th:only-of-type {\n",
              "        vertical-align: middle;\n",
              "    }\n",
              "\n",
              "    .dataframe tbody tr th {\n",
              "        vertical-align: top;\n",
              "    }\n",
              "\n",
              "    .dataframe thead th {\n",
              "        text-align: right;\n",
              "    }\n",
              "</style>\n",
              "<table border=\"1\" class=\"dataframe\">\n",
              "  <thead>\n",
              "    <tr style=\"text-align: right;\">\n",
              "      <th></th>\n",
              "      <th>Transaction ID</th>\n",
              "      <th>Customer ID</th>\n",
              "      <th>Payment Mode</th>\n",
              "      <th>Date of Travel</th>\n",
              "      <th>Company</th>\n",
              "      <th>City</th>\n",
              "      <th>KM Travelled</th>\n",
              "      <th>Price Charged</th>\n",
              "      <th>Cost of Trip</th>\n",
              "      <th>Gender</th>\n",
              "      <th>Age</th>\n",
              "      <th>Income (USD/Month)</th>\n",
              "      <th>Profit</th>\n",
              "      <th>company</th>\n",
              "    </tr>\n",
              "  </thead>\n",
              "  <tbody>\n",
              "    <tr>\n",
              "      <th>0</th>\n",
              "      <td>10001219</td>\n",
              "      <td>37298</td>\n",
              "      <td>Cash</td>\n",
              "      <td>2016-01-01</td>\n",
              "      <td>Yellow Cab</td>\n",
              "      <td>SEATTLE WA</td>\n",
              "      <td>29.90</td>\n",
              "      <td>871.63</td>\n",
              "      <td>419.796</td>\n",
              "      <td>Male</td>\n",
              "      <td>49</td>\n",
              "      <td>22669</td>\n",
              "      <td>451.834</td>\n",
              "      <td>1.0</td>\n",
              "    </tr>\n",
              "    <tr>\n",
              "      <th>1</th>\n",
              "      <td>10000600</td>\n",
              "      <td>3363</td>\n",
              "      <td>Cash</td>\n",
              "      <td>2016-01-01</td>\n",
              "      <td>Yellow Cab</td>\n",
              "      <td>CHICAGO IL</td>\n",
              "      <td>23.75</td>\n",
              "      <td>531.25</td>\n",
              "      <td>336.300</td>\n",
              "      <td>Male</td>\n",
              "      <td>31</td>\n",
              "      <td>23320</td>\n",
              "      <td>194.950</td>\n",
              "      <td>1.0</td>\n",
              "    </tr>\n",
              "    <tr>\n",
              "      <th>2</th>\n",
              "      <td>10001014</td>\n",
              "      <td>47687</td>\n",
              "      <td>Card</td>\n",
              "      <td>2016-01-01</td>\n",
              "      <td>Yellow Cab</td>\n",
              "      <td>SACRAMENTO CA</td>\n",
              "      <td>38.00</td>\n",
              "      <td>1065.42</td>\n",
              "      <td>547.200</td>\n",
              "      <td>Male</td>\n",
              "      <td>25</td>\n",
              "      <td>16088</td>\n",
              "      <td>518.220</td>\n",
              "      <td>1.0</td>\n",
              "    </tr>\n",
              "    <tr>\n",
              "      <th>3</th>\n",
              "      <td>10000592</td>\n",
              "      <td>4535</td>\n",
              "      <td>Card</td>\n",
              "      <td>2016-01-01</td>\n",
              "      <td>Yellow Cab</td>\n",
              "      <td>CHICAGO IL</td>\n",
              "      <td>9.63</td>\n",
              "      <td>240.10</td>\n",
              "      <td>127.116</td>\n",
              "      <td>Male</td>\n",
              "      <td>39</td>\n",
              "      <td>19199</td>\n",
              "      <td>112.984</td>\n",
              "      <td>1.0</td>\n",
              "    </tr>\n",
              "    <tr>\n",
              "      <th>4</th>\n",
              "      <td>10000163</td>\n",
              "      <td>22557</td>\n",
              "      <td>Cash</td>\n",
              "      <td>2016-01-01</td>\n",
              "      <td>Pink Cab</td>\n",
              "      <td>PHOENIX AZ</td>\n",
              "      <td>4.44</td>\n",
              "      <td>71.57</td>\n",
              "      <td>48.840</td>\n",
              "      <td>Male</td>\n",
              "      <td>38</td>\n",
              "      <td>8808</td>\n",
              "      <td>22.730</td>\n",
              "      <td>0.0</td>\n",
              "    </tr>\n",
              "    <tr>\n",
              "      <th>5</th>\n",
              "      <td>10000164</td>\n",
              "      <td>22469</td>\n",
              "      <td>Card</td>\n",
              "      <td>2016-01-01</td>\n",
              "      <td>Pink Cab</td>\n",
              "      <td>PHOENIX AZ</td>\n",
              "      <td>8.55</td>\n",
              "      <td>114.15</td>\n",
              "      <td>89.775</td>\n",
              "      <td>Male</td>\n",
              "      <td>37</td>\n",
              "      <td>4378</td>\n",
              "      <td>24.375</td>\n",
              "      <td>0.0</td>\n",
              "    </tr>\n",
              "    <tr>\n",
              "      <th>6</th>\n",
              "      <td>10000588</td>\n",
              "      <td>5211</td>\n",
              "      <td>Cash</td>\n",
              "      <td>2016-01-01</td>\n",
              "      <td>Yellow Cab</td>\n",
              "      <td>CHICAGO IL</td>\n",
              "      <td>12.00</td>\n",
              "      <td>275.99</td>\n",
              "      <td>156.960</td>\n",
              "      <td>Male</td>\n",
              "      <td>35</td>\n",
              "      <td>10393</td>\n",
              "      <td>119.030</td>\n",
              "      <td>1.0</td>\n",
              "    </tr>\n",
              "    <tr>\n",
              "      <th>7</th>\n",
              "      <td>10000171</td>\n",
              "      <td>20687</td>\n",
              "      <td>Cash</td>\n",
              "      <td>2016-01-01</td>\n",
              "      <td>Pink Cab</td>\n",
              "      <td>SAN DIEGO CA</td>\n",
              "      <td>14.28</td>\n",
              "      <td>269.15</td>\n",
              "      <td>147.084</td>\n",
              "      <td>Male</td>\n",
              "      <td>39</td>\n",
              "      <td>8926</td>\n",
              "      <td>122.066</td>\n",
              "      <td>0.0</td>\n",
              "    </tr>\n",
              "    <tr>\n",
              "      <th>8</th>\n",
              "      <td>10001025</td>\n",
              "      <td>20472</td>\n",
              "      <td>Cash</td>\n",
              "      <td>2016-01-01</td>\n",
              "      <td>Yellow Cab</td>\n",
              "      <td>SAN DIEGO CA</td>\n",
              "      <td>39.90</td>\n",
              "      <td>1019.44</td>\n",
              "      <td>497.952</td>\n",
              "      <td>Male</td>\n",
              "      <td>40</td>\n",
              "      <td>12616</td>\n",
              "      <td>521.488</td>\n",
              "      <td>1.0</td>\n",
              "    </tr>\n",
              "    <tr>\n",
              "      <th>9</th>\n",
              "      <td>10000564</td>\n",
              "      <td>5867</td>\n",
              "      <td>Card</td>\n",
              "      <td>2016-01-01</td>\n",
              "      <td>Yellow Cab</td>\n",
              "      <td>CHICAGO IL</td>\n",
              "      <td>36.30</td>\n",
              "      <td>761.20</td>\n",
              "      <td>483.516</td>\n",
              "      <td>Male</td>\n",
              "      <td>36</td>\n",
              "      <td>2103</td>\n",
              "      <td>277.684</td>\n",
              "      <td>1.0</td>\n",
              "    </tr>\n",
              "  </tbody>\n",
              "</table>\n",
              "</div>"
            ],
            "text/plain": [
              "   Transaction ID  Customer ID  ...   Profit company\n",
              "0        10001219        37298  ...  451.834     1.0\n",
              "1        10000600         3363  ...  194.950     1.0\n",
              "2        10001014        47687  ...  518.220     1.0\n",
              "3        10000592         4535  ...  112.984     1.0\n",
              "4        10000163        22557  ...   22.730     0.0\n",
              "5        10000164        22469  ...   24.375     0.0\n",
              "6        10000588         5211  ...  119.030     1.0\n",
              "7        10000171        20687  ...  122.066     0.0\n",
              "8        10001025        20472  ...  521.488     1.0\n",
              "9        10000564         5867  ...  277.684     1.0\n",
              "\n",
              "[10 rows x 14 columns]"
            ]
          },
          "metadata": {
            "tags": []
          },
          "execution_count": 71
        }
      ]
    },
    {
      "cell_type": "code",
      "metadata": {
        "colab": {
          "base_uri": "https://localhost:8080/"
        },
        "id": "ncJcPZ0_mHOC",
        "outputId": "9827dce0-5bce-4b2e-e05c-7b5a84dd5b6c"
      },
      "source": [
        "result_all.columns"
      ],
      "execution_count": 15,
      "outputs": [
        {
          "output_type": "execute_result",
          "data": {
            "text/plain": [
              "Index(['Transaction ID', 'Customer ID_x', 'Payment_Mode_x', 'Date of Travel',\n",
              "       'Company', 'City', 'KM Travelled', 'Price Charged', 'Cost of Trip',\n",
              "       'Customer ID_y', 'Payment_Mode_y', 'Gender', 'Age',\n",
              "       'Income (USD/Month)'],\n",
              "      dtype='object')"
            ]
          },
          "metadata": {
            "tags": []
          },
          "execution_count": 15
        }
      ]
    },
    {
      "cell_type": "code",
      "metadata": {
        "colab": {
          "base_uri": "https://localhost:8080/"
        },
        "id": "ZWeoNF97mQHM",
        "outputId": "fe5908a2-f093-44d9-992b-cb336d3ce9ce"
      },
      "source": [
        "result_all.isnull().sum().sum()"
      ],
      "execution_count": 16,
      "outputs": [
        {
          "output_type": "execute_result",
          "data": {
            "text/plain": [
              "0"
            ]
          },
          "metadata": {
            "tags": []
          },
          "execution_count": 16
        }
      ]
    },
    {
      "cell_type": "markdown",
      "metadata": {
        "id": "FOWeyarEmXtF"
      },
      "source": [
        "ADD THIS TO PRESENTATION\n"
      ]
    },
    {
      "cell_type": "code",
      "metadata": {
        "colab": {
          "base_uri": "https://localhost:8080/",
          "height": 648
        },
        "id": "nhoWNSuemR-9",
        "outputId": "f82e4e90-23b5-47de-ea85-8de8fd2f41a2"
      },
      "source": [
        "import missingno as msno\n",
        "%matplotlib inline\n",
        "msno.matrix(result_all)"
      ],
      "execution_count": 17,
      "outputs": [
        {
          "output_type": "execute_result",
          "data": {
            "text/plain": [
              "<matplotlib.axes._subplots.AxesSubplot at 0x7f7ec0549750>"
            ]
          },
          "metadata": {
            "tags": []
          },
          "execution_count": 17
        },
        {
          "output_type": "display_data",
          "data": {
            "image/png": "[encoded data removed]",
            "text/plain": [
              "<Figure size 1800x720 with 2 Axes>"
            ]
          },
          "metadata": {
            "tags": [],
            "needs_background": "light"
          }
        }
      ]
    },
    {
      "cell_type": "markdown",
      "metadata": {
        "id": "ZQN6EMsbb6PG"
      },
      "source": [
        "No missing attributes in our datasets."
      ]
    },
    {
      "cell_type": "code",
      "metadata": {
        "colab": {
          "base_uri": "https://localhost:8080/"
        },
        "id": "jgUEEWfimbMI",
        "outputId": "e1106be2-dcc0-4370-f4c0-9b605744d248"
      },
      "source": [
        "print('\\nNumber of missing values by columns :') \n",
        "result_all.isnull().sum()"
      ],
      "execution_count": 18,
      "outputs": [
        {
          "output_type": "stream",
          "text": [
            "\n",
            "Number of missing values by columns :\n"
          ],
          "name": "stdout"
        },
        {
          "output_type": "execute_result",
          "data": {
            "text/plain": [
              "Transaction ID        0\n",
              "Customer ID_x         0\n",
              "Payment_Mode_x        0\n",
              "Date of Travel        0\n",
              "Company               0\n",
              "City                  0\n",
              "KM Travelled          0\n",
              "Price Charged         0\n",
              "Cost of Trip          0\n",
              "Customer ID_y         0\n",
              "Payment_Mode_y        0\n",
              "Gender                0\n",
              "Age                   0\n",
              "Income (USD/Month)    0\n",
              "dtype: int64"
            ]
          },
          "metadata": {
            "tags": []
          },
          "execution_count": 18
        }
      ]
    },
    {
      "cell_type": "code",
      "metadata": {
        "colab": {
          "base_uri": "https://localhost:8080/",
          "height": 162
        },
        "id": "-d7IAvk3mfzo",
        "outputId": "207c5c15-2a43-436e-8ba5-4a23a8db7245"
      },
      "source": [
        "result_all.drop([\"Payment_Mode_y\", \"Customer ID_y\"],axis=1,inplace=True)\n",
        "result_all .head(2)"
      ],
      "execution_count": 19,
      "outputs": [
        {
          "output_type": "execute_result",
          "data": {
            "text/html": [
              "<div>\n",
              "<style scoped>\n",
              "    .dataframe tbody tr th:only-of-type {\n",
              "        vertical-align: middle;\n",
              "    }\n",
              "\n",
              "    .dataframe tbody tr th {\n",
              "        vertical-align: top;\n",
              "    }\n",
              "\n",
              "    .dataframe thead th {\n",
              "        text-align: right;\n",
              "    }\n",
              "</style>\n",
              "<table border=\"1\" class=\"dataframe\">\n",
              "  <thead>\n",
              "    <tr style=\"text-align: right;\">\n",
              "      <th></th>\n",
              "      <th>Transaction ID</th>\n",
              "      <th>Customer ID_x</th>\n",
              "      <th>Payment_Mode_x</th>\n",
              "      <th>Date of Travel</th>\n",
              "      <th>Company</th>\n",
              "      <th>City</th>\n",
              "      <th>KM Travelled</th>\n",
              "      <th>Price Charged</th>\n",
              "      <th>Cost of Trip</th>\n",
              "      <th>Gender</th>\n",
              "      <th>Age</th>\n",
              "      <th>Income (USD/Month)</th>\n",
              "    </tr>\n",
              "  </thead>\n",
              "  <tbody>\n",
              "    <tr>\n",
              "      <th>0</th>\n",
              "      <td>10000011</td>\n",
              "      <td>29290</td>\n",
              "      <td>Card</td>\n",
              "      <td>42377</td>\n",
              "      <td>Pink Cab</td>\n",
              "      <td>ATLANTA GA</td>\n",
              "      <td>30.45</td>\n",
              "      <td>370.95</td>\n",
              "      <td>313.635</td>\n",
              "      <td>Male</td>\n",
              "      <td>28</td>\n",
              "      <td>10813</td>\n",
              "    </tr>\n",
              "    <tr>\n",
              "      <th>1</th>\n",
              "      <td>10000012</td>\n",
              "      <td>27703</td>\n",
              "      <td>Card</td>\n",
              "      <td>42375</td>\n",
              "      <td>Pink Cab</td>\n",
              "      <td>ATLANTA GA</td>\n",
              "      <td>28.62</td>\n",
              "      <td>358.52</td>\n",
              "      <td>334.854</td>\n",
              "      <td>Male</td>\n",
              "      <td>27</td>\n",
              "      <td>9237</td>\n",
              "    </tr>\n",
              "  </tbody>\n",
              "</table>\n",
              "</div>"
            ],
            "text/plain": [
              "   Transaction ID  Customer ID_x Payment_Mode_x  ...  Gender Age Income (USD/Month)\n",
              "0        10000011          29290           Card  ...    Male  28              10813\n",
              "1        10000012          27703           Card  ...    Male  27               9237\n",
              "\n",
              "[2 rows x 12 columns]"
            ]
          },
          "metadata": {
            "tags": []
          },
          "execution_count": 19
        }
      ]
    },
    {
      "cell_type": "code",
      "metadata": {
        "colab": {
          "base_uri": "https://localhost:8080/",
          "height": 204
        },
        "id": "FNWjpPkynlos",
        "outputId": "ed1d6182-c2c2-427e-eec9-d6ac6f753483"
      },
      "source": [
        "result_all.rename(columns={\"Customer ID_x\":\"Customer ID\",\"Payment_Mode_x\":\"Payment Mode\"}, inplace=True)\n",
        "result_all.head(5)"
      ],
      "execution_count": 20,
      "outputs": [
        {
          "output_type": "execute_result",
          "data": {
            "text/html": [
              "<div>\n",
              "<style scoped>\n",
              "    .dataframe tbody tr th:only-of-type {\n",
              "        vertical-align: middle;\n",
              "    }\n",
              "\n",
              "    .dataframe tbody tr th {\n",
              "        vertical-align: top;\n",
              "    }\n",
              "\n",
              "    .dataframe thead th {\n",
              "        text-align: right;\n",
              "    }\n",
              "</style>\n",
              "<table border=\"1\" class=\"dataframe\">\n",
              "  <thead>\n",
              "    <tr style=\"text-align: right;\">\n",
              "      <th></th>\n",
              "      <th>Transaction ID</th>\n",
              "      <th>Customer ID</th>\n",
              "      <th>Payment Mode</th>\n",
              "      <th>Date of Travel</th>\n",
              "      <th>Company</th>\n",
              "      <th>City</th>\n",
              "      <th>KM Travelled</th>\n",
              "      <th>Price Charged</th>\n",
              "      <th>Cost of Trip</th>\n",
              "      <th>Gender</th>\n",
              "      <th>Age</th>\n",
              "      <th>Income (USD/Month)</th>\n",
              "    </tr>\n",
              "  </thead>\n",
              "  <tbody>\n",
              "    <tr>\n",
              "      <th>0</th>\n",
              "      <td>10000011</td>\n",
              "      <td>29290</td>\n",
              "      <td>Card</td>\n",
              "      <td>42377</td>\n",
              "      <td>Pink Cab</td>\n",
              "      <td>ATLANTA GA</td>\n",
              "      <td>30.45</td>\n",
              "      <td>370.95</td>\n",
              "      <td>313.635</td>\n",
              "      <td>Male</td>\n",
              "      <td>28</td>\n",
              "      <td>10813</td>\n",
              "    </tr>\n",
              "    <tr>\n",
              "      <th>1</th>\n",
              "      <td>10000012</td>\n",
              "      <td>27703</td>\n",
              "      <td>Card</td>\n",
              "      <td>42375</td>\n",
              "      <td>Pink Cab</td>\n",
              "      <td>ATLANTA GA</td>\n",
              "      <td>28.62</td>\n",
              "      <td>358.52</td>\n",
              "      <td>334.854</td>\n",
              "      <td>Male</td>\n",
              "      <td>27</td>\n",
              "      <td>9237</td>\n",
              "    </tr>\n",
              "    <tr>\n",
              "      <th>2</th>\n",
              "      <td>10000013</td>\n",
              "      <td>28712</td>\n",
              "      <td>Cash</td>\n",
              "      <td>42371</td>\n",
              "      <td>Pink Cab</td>\n",
              "      <td>ATLANTA GA</td>\n",
              "      <td>9.04</td>\n",
              "      <td>125.20</td>\n",
              "      <td>97.632</td>\n",
              "      <td>Male</td>\n",
              "      <td>53</td>\n",
              "      <td>11242</td>\n",
              "    </tr>\n",
              "    <tr>\n",
              "      <th>3</th>\n",
              "      <td>10000014</td>\n",
              "      <td>28020</td>\n",
              "      <td>Cash</td>\n",
              "      <td>42376</td>\n",
              "      <td>Pink Cab</td>\n",
              "      <td>ATLANTA GA</td>\n",
              "      <td>33.17</td>\n",
              "      <td>377.40</td>\n",
              "      <td>351.602</td>\n",
              "      <td>Male</td>\n",
              "      <td>23</td>\n",
              "      <td>23327</td>\n",
              "    </tr>\n",
              "    <tr>\n",
              "      <th>4</th>\n",
              "      <td>10000015</td>\n",
              "      <td>27182</td>\n",
              "      <td>Card</td>\n",
              "      <td>42372</td>\n",
              "      <td>Pink Cab</td>\n",
              "      <td>ATLANTA GA</td>\n",
              "      <td>8.73</td>\n",
              "      <td>114.62</td>\n",
              "      <td>97.776</td>\n",
              "      <td>Male</td>\n",
              "      <td>33</td>\n",
              "      <td>8536</td>\n",
              "    </tr>\n",
              "  </tbody>\n",
              "</table>\n",
              "</div>"
            ],
            "text/plain": [
              "   Transaction ID  Customer ID Payment Mode  ...  Gender Age Income (USD/Month)\n",
              "0        10000011        29290         Card  ...    Male  28              10813\n",
              "1        10000012        27703         Card  ...    Male  27               9237\n",
              "2        10000013        28712         Cash  ...    Male  53              11242\n",
              "3        10000014        28020         Cash  ...    Male  23              23327\n",
              "4        10000015        27182         Card  ...    Male  33               8536\n",
              "\n",
              "[5 rows x 12 columns]"
            ]
          },
          "metadata": {
            "tags": []
          },
          "execution_count": 20
        }
      ]
    },
    {
      "cell_type": "code",
      "metadata": {
        "colab": {
          "base_uri": "https://localhost:8080/"
        },
        "id": "GGeKbdQTomoN",
        "outputId": "9d2e8b42-194d-49f2-914f-f53f77a9c58f"
      },
      "source": [
        "result_all.info()"
      ],
      "execution_count": 26,
      "outputs": [
        {
          "output_type": "stream",
          "text": [
            "<class 'pandas.core.frame.DataFrame'>\n",
            "Int64Index: 359392 entries, 0 to 359391\n",
            "Data columns (total 12 columns):\n",
            " #   Column              Non-Null Count   Dtype  \n",
            "---  ------              --------------   -----  \n",
            " 0   Transaction ID      359392 non-null  int64  \n",
            " 1   Customer ID         359392 non-null  int64  \n",
            " 2   Payment Mode        359392 non-null  object \n",
            " 3   Date of Travel      359392 non-null  int64  \n",
            " 4   Company             359392 non-null  object \n",
            " 5   City                359392 non-null  object \n",
            " 6   KM Travelled        359392 non-null  float64\n",
            " 7   Price Charged       359392 non-null  float64\n",
            " 8   Cost of Trip        359392 non-null  float64\n",
            " 9   Gender              359392 non-null  object \n",
            " 10  Age                 359392 non-null  int64  \n",
            " 11  Income (USD/Month)  359392 non-null  int64  \n",
            "dtypes: float64(3), int64(5), object(4)\n",
            "memory usage: 35.6+ MB\n"
          ],
          "name": "stdout"
        }
      ]
    },
    {
      "cell_type": "markdown",
      "metadata": {
        "id": "D1UGiS1Wr1cO"
      },
      "source": [
        "**REMOVING** **OUTLIERS**"
      ]
    },
    {
      "cell_type": "code",
      "metadata": {
        "id": "GaZ_D9AHoqMJ"
      },
      "source": [
        "from scipy import stats\n",
        "\n",
        "def drop_numerical_outliers(df, z_thresh=3):\n",
        "    # Constrains will contain `True` or `False` depending on if it is a value below the threshold.\n",
        "    constrains = df.select_dtypes(include=[np.number]) \\\n",
        "        .apply(lambda x: np.abs(stats.zscore(x)) < z_thresh) \\\n",
        "        .all(axis=1)\n",
        "    # Drop (inplace) values set to be rejected\n",
        "    df.drop(df.index[~constrains], inplace=True)"
      ],
      "execution_count": 42,
      "outputs": []
    },
    {
      "cell_type": "code",
      "metadata": {
        "id": "H4jzDH6bq9u1"
      },
      "source": [
        "drop_numerical_outliers(result_all)"
      ],
      "execution_count": 43,
      "outputs": []
    },
    {
      "cell_type": "code",
      "metadata": {
        "colab": {
          "base_uri": "https://localhost:8080/",
          "height": 296
        },
        "id": "iCwZ9hSYq4mI",
        "outputId": "b15adaca-be7a-4211-fb2d-ef66c77ca3ba"
      },
      "source": [
        "import seaborn as sns\n",
        "sns.boxplot(data = result_all, y = 'Company', x = \"Profit\")"
      ],
      "execution_count": 86,
      "outputs": [
        {
          "output_type": "execute_result",
          "data": {
            "text/plain": [
              "<matplotlib.axes._subplots.AxesSubplot at 0x7f7e51585ad0>"
            ]
          },
          "metadata": {
            "tags": []
          },
          "execution_count": 86
        },
        {
          "output_type": "display_data",
          "data": {
            "image/png": "[encoded data removed]",
            "text/plain": [
              "<Figure size 432x288 with 1 Axes>"
            ]
          },
          "metadata": {
            "tags": [],
            "needs_background": "light"
          }
        }
      ]
    },
    {
      "cell_type": "code",
      "metadata": {
        "id": "JFi9rOY-cIgo"
      },
      "source": [
        "no spesific outliers here."
      ],
      "execution_count": null,
      "outputs": []
    },
    {
      "cell_type": "code",
      "metadata": {
        "colab": {
          "base_uri": "https://localhost:8080/"
        },
        "id": "c1bGsgT0vthg",
        "outputId": "394f3d12-1877-474f-9625-9f3b764a88a4"
      },
      "source": [
        "result_all['Company'].value_counts()"
      ],
      "execution_count": 28,
      "outputs": [
        {
          "output_type": "execute_result",
          "data": {
            "text/plain": [
              "Yellow Cab    274681\n",
              "Pink Cab       84711\n",
              "Name: Company, dtype: int64"
            ]
          },
          "metadata": {
            "tags": []
          },
          "execution_count": 28
        }
      ]
    },
    {
      "cell_type": "markdown",
      "metadata": {
        "id": "uspmViIUcST4"
      },
      "source": [
        "yellow cab useage is more common than pink cab usage."
      ]
    },
    {
      "cell_type": "code",
      "metadata": {
        "colab": {
          "base_uri": "https://localhost:8080/"
        },
        "id": "kh4Iba4zw4_a",
        "outputId": "e22c1139-5352-4dbc-8156-5155335fbfce"
      },
      "source": [
        "result_all['KM Travelled'].value_counts()"
      ],
      "execution_count": 29,
      "outputs": [
        {
          "output_type": "execute_result",
          "data": {
            "text/plain": [
              "33.60    1536\n",
              "24.00    1080\n",
              "22.80    1075\n",
              "35.70    1069\n",
              "16.80    1065\n",
              "         ... \n",
              "29.58     308\n",
              "12.24     306\n",
              "3.51      301\n",
              "39.39     300\n",
              "21.84     293\n",
              "Name: KM Travelled, Length: 874, dtype: int64"
            ]
          },
          "metadata": {
            "tags": []
          },
          "execution_count": 29
        }
      ]
    },
    {
      "cell_type": "code",
      "metadata": {
        "colab": {
          "base_uri": "https://localhost:8080/"
        },
        "id": "dc3QGjT7xA0F",
        "outputId": "3d19e680-288a-42f3-a112-3379886a11e2"
      },
      "source": [
        "result_all['Payment Mode'].value_counts()"
      ],
      "execution_count": 30,
      "outputs": [
        {
          "output_type": "execute_result",
          "data": {
            "text/plain": [
              "Card    215504\n",
              "Cash    143888\n",
              "Name: Payment Mode, dtype: int64"
            ]
          },
          "metadata": {
            "tags": []
          },
          "execution_count": 30
        }
      ]
    },
    {
      "cell_type": "markdown",
      "metadata": {
        "id": "D-rxmDMpxb_U"
      },
      "source": [
        "Customers used card more as paymnet method."
      ]
    },
    {
      "cell_type": "code",
      "metadata": {
        "colab": {
          "base_uri": "https://localhost:8080/"
        },
        "id": "FPO6i2GixjpK",
        "outputId": "d9306c6e-12c2-47ed-bafd-1b89da985b93"
      },
      "source": [
        "result_all['Gender'].value_counts()"
      ],
      "execution_count": 31,
      "outputs": [
        {
          "output_type": "execute_result",
          "data": {
            "text/plain": [
              "Male      205912\n",
              "Female    153480\n",
              "Name: Gender, dtype: int64"
            ]
          },
          "metadata": {
            "tags": []
          },
          "execution_count": 31
        }
      ]
    },
    {
      "cell_type": "markdown",
      "metadata": {
        "id": "4yDGQuPex3gq"
      },
      "source": [
        "Gender male is more frequent."
      ]
    },
    {
      "cell_type": "code",
      "metadata": {
        "colab": {
          "base_uri": "https://localhost:8080/"
        },
        "id": "BBGoJ31Fx8Yt",
        "outputId": "047555ac-141b-4487-a6d3-12d204728b28"
      },
      "source": [
        "result_all['Age'].value_counts(ascending=True)"
      ],
      "execution_count": 32,
      "outputs": [
        {
          "output_type": "execute_result",
          "data": {
            "text/plain": [
              "65     3379\n",
              "55     3442\n",
              "57     3473\n",
              "62     3530\n",
              "53     3641\n",
              "48     3700\n",
              "44     3725\n",
              "63     3733\n",
              "56     3742\n",
              "60     3775\n",
              "52     3784\n",
              "54     3810\n",
              "43     3823\n",
              "41     3852\n",
              "64     3908\n",
              "46     3918\n",
              "51     3931\n",
              "42     3970\n",
              "59     4068\n",
              "47     4087\n",
              "50     4089\n",
              "58     4107\n",
              "49     4158\n",
              "45     4248\n",
              "61     4361\n",
              "35    10555\n",
              "29    10675\n",
              "18    10846\n",
              "38    10906\n",
              "31    10930\n",
              "36    11054\n",
              "37    11086\n",
              "24    11151\n",
              "28    11163\n",
              "30    11165\n",
              "21    11431\n",
              "33    11457\n",
              "40    11536\n",
              "19    11591\n",
              "26    11655\n",
              "22    11796\n",
              "39    11798\n",
              "34    11825\n",
              "32    11959\n",
              "25    11973\n",
              "27    12030\n",
              "20    12229\n",
              "23    12327\n",
              "Name: Age, dtype: int64"
            ]
          },
          "metadata": {
            "tags": []
          },
          "execution_count": 32
        }
      ]
    },
    {
      "cell_type": "markdown",
      "metadata": {
        "id": "yyg785Y4yO_2"
      },
      "source": [
        "The age for cab usage is most frequent at age 20-35,elders don't use cab as much as them."
      ]
    },
    {
      "cell_type": "code",
      "metadata": {
        "colab": {
          "base_uri": "https://localhost:8080/"
        },
        "id": "fn4nQOVgyc9V",
        "outputId": "0826a847-2332-4d57-f4d1-244ae0645cce"
      },
      "source": [
        "result_all['Income (USD/Month)'].value_counts()"
      ],
      "execution_count": 33,
      "outputs": [
        {
          "output_type": "execute_result",
          "data": {
            "text/plain": [
              "20884    134\n",
              "8899     133\n",
              "22525    129\n",
              "16512    121\n",
              "16137    118\n",
              "        ... \n",
              "23800      1\n",
              "23943      1\n",
              "11657      1\n",
              "4056       1\n",
              "14285      1\n",
              "Name: Income (USD/Month), Length: 22725, dtype: int64"
            ]
          },
          "metadata": {
            "tags": []
          },
          "execution_count": 33
        }
      ]
    },
    {
      "cell_type": "code",
      "metadata": {
        "colab": {
          "base_uri": "https://localhost:8080/"
        },
        "id": "AZaGaUz9u32D",
        "outputId": "0b88ecec-2fe3-4b95-ec85-ce5921fae10e"
      },
      "source": [
        "result_all['City'].value_counts()"
      ],
      "execution_count": 58,
      "outputs": [
        {
          "output_type": "execute_result",
          "data": {
            "text/plain": [
              "NEW YORK NY       93014\n",
              "CHICAGO IL        56621\n",
              "LOS ANGELES CA    47981\n",
              "WASHINGTON DC     43737\n",
              "BOSTON MA         29692\n",
              "SAN DIEGO CA      20485\n",
              "SILICON VALLEY     8434\n",
              "SEATTLE WA         7993\n",
              "ATLANTA GA         7544\n",
              "DALLAS TX          6913\n",
              "MIAMI FL           6414\n",
              "AUSTIN TX          4876\n",
              "ORANGE COUNTY      3941\n",
              "DENVER CO          3811\n",
              "NASHVILLE TN       3007\n",
              "SACRAMENTO CA      2364\n",
              "PHOENIX AZ         2063\n",
              "TUCSON AZ          1928\n",
              "PITTSBURGH PA      1303\n",
              "Name: City, dtype: int64"
            ]
          },
          "metadata": {
            "tags": []
          },
          "execution_count": 58
        }
      ]
    },
    {
      "cell_type": "code",
      "metadata": {
        "id": "c2-hwFS2zZFS"
      },
      "source": [
        "profit=result_all['Price Charged']-result_all['Cost of Trip']\n",
        "result_all['Profit']= profit"
      ],
      "execution_count": 34,
      "outputs": []
    },
    {
      "cell_type": "code",
      "metadata": {
        "colab": {
          "base_uri": "https://localhost:8080/",
          "height": 328
        },
        "id": "PdvNgEJ52UYU",
        "outputId": "b477d4cc-6799-4403-eef1-99afa71e2edb"
      },
      "source": [
        "correlations = result_all.corr()\n",
        "correlations"
      ],
      "execution_count": 35,
      "outputs": [
        {
          "output_type": "execute_result",
          "data": {
            "text/html": [
              "<div>\n",
              "<style scoped>\n",
              "    .dataframe tbody tr th:only-of-type {\n",
              "        vertical-align: middle;\n",
              "    }\n",
              "\n",
              "    .dataframe tbody tr th {\n",
              "        vertical-align: top;\n",
              "    }\n",
              "\n",
              "    .dataframe thead th {\n",
              "        text-align: right;\n",
              "    }\n",
              "</style>\n",
              "<table border=\"1\" class=\"dataframe\">\n",
              "  <thead>\n",
              "    <tr style=\"text-align: right;\">\n",
              "      <th></th>\n",
              "      <th>Transaction ID</th>\n",
              "      <th>Customer ID</th>\n",
              "      <th>Date of Travel</th>\n",
              "      <th>KM Travelled</th>\n",
              "      <th>Price Charged</th>\n",
              "      <th>Cost of Trip</th>\n",
              "      <th>Age</th>\n",
              "      <th>Income (USD/Month)</th>\n",
              "      <th>Profit</th>\n",
              "    </tr>\n",
              "  </thead>\n",
              "  <tbody>\n",
              "    <tr>\n",
              "      <th>Transaction ID</th>\n",
              "      <td>1.000000</td>\n",
              "      <td>-0.016912</td>\n",
              "      <td>0.993030</td>\n",
              "      <td>-0.001429</td>\n",
              "      <td>-0.052902</td>\n",
              "      <td>-0.003462</td>\n",
              "      <td>-0.001267</td>\n",
              "      <td>-0.001570</td>\n",
              "      <td>-0.087130</td>\n",
              "    </tr>\n",
              "    <tr>\n",
              "      <th>Customer ID</th>\n",
              "      <td>-0.016912</td>\n",
              "      <td>1.000000</td>\n",
              "      <td>-0.017653</td>\n",
              "      <td>0.000389</td>\n",
              "      <td>-0.177324</td>\n",
              "      <td>0.003077</td>\n",
              "      <td>-0.004735</td>\n",
              "      <td>-0.013608</td>\n",
              "      <td>-0.306527</td>\n",
              "    </tr>\n",
              "    <tr>\n",
              "      <th>Date of Travel</th>\n",
              "      <td>0.993030</td>\n",
              "      <td>-0.017653</td>\n",
              "      <td>1.000000</td>\n",
              "      <td>-0.001621</td>\n",
              "      <td>-0.055559</td>\n",
              "      <td>-0.004484</td>\n",
              "      <td>-0.001346</td>\n",
              "      <td>-0.001368</td>\n",
              "      <td>-0.090672</td>\n",
              "    </tr>\n",
              "    <tr>\n",
              "      <th>KM Travelled</th>\n",
              "      <td>-0.001429</td>\n",
              "      <td>0.000389</td>\n",
              "      <td>-0.001621</td>\n",
              "      <td>1.000000</td>\n",
              "      <td>0.835753</td>\n",
              "      <td>0.981848</td>\n",
              "      <td>-0.000369</td>\n",
              "      <td>-0.000544</td>\n",
              "      <td>0.462768</td>\n",
              "    </tr>\n",
              "    <tr>\n",
              "      <th>Price Charged</th>\n",
              "      <td>-0.052902</td>\n",
              "      <td>-0.177324</td>\n",
              "      <td>-0.055559</td>\n",
              "      <td>0.835753</td>\n",
              "      <td>1.000000</td>\n",
              "      <td>0.859812</td>\n",
              "      <td>-0.003084</td>\n",
              "      <td>0.003228</td>\n",
              "      <td>0.864154</td>\n",
              "    </tr>\n",
              "    <tr>\n",
              "      <th>Cost of Trip</th>\n",
              "      <td>-0.003462</td>\n",
              "      <td>0.003077</td>\n",
              "      <td>-0.004484</td>\n",
              "      <td>0.981848</td>\n",
              "      <td>0.859812</td>\n",
              "      <td>1.000000</td>\n",
              "      <td>-0.000189</td>\n",
              "      <td>-0.000633</td>\n",
              "      <td>0.486056</td>\n",
              "    </tr>\n",
              "    <tr>\n",
              "      <th>Age</th>\n",
              "      <td>-0.001267</td>\n",
              "      <td>-0.004735</td>\n",
              "      <td>-0.001346</td>\n",
              "      <td>-0.000369</td>\n",
              "      <td>-0.003084</td>\n",
              "      <td>-0.000189</td>\n",
              "      <td>1.000000</td>\n",
              "      <td>0.003907</td>\n",
              "      <td>-0.005093</td>\n",
              "    </tr>\n",
              "    <tr>\n",
              "      <th>Income (USD/Month)</th>\n",
              "      <td>-0.001570</td>\n",
              "      <td>-0.013608</td>\n",
              "      <td>-0.001368</td>\n",
              "      <td>-0.000544</td>\n",
              "      <td>0.003228</td>\n",
              "      <td>-0.000633</td>\n",
              "      <td>0.003907</td>\n",
              "      <td>1.000000</td>\n",
              "      <td>0.006148</td>\n",
              "    </tr>\n",
              "    <tr>\n",
              "      <th>Profit</th>\n",
              "      <td>-0.087130</td>\n",
              "      <td>-0.306527</td>\n",
              "      <td>-0.090672</td>\n",
              "      <td>0.462768</td>\n",
              "      <td>0.864154</td>\n",
              "      <td>0.486056</td>\n",
              "      <td>-0.005093</td>\n",
              "      <td>0.006148</td>\n",
              "      <td>1.000000</td>\n",
              "    </tr>\n",
              "  </tbody>\n",
              "</table>\n",
              "</div>"
            ],
            "text/plain": [
              "                    Transaction ID  Customer ID  ...  Income (USD/Month)    Profit\n",
              "Transaction ID            1.000000    -0.016912  ...           -0.001570 -0.087130\n",
              "Customer ID              -0.016912     1.000000  ...           -0.013608 -0.306527\n",
              "Date of Travel            0.993030    -0.017653  ...           -0.001368 -0.090672\n",
              "KM Travelled             -0.001429     0.000389  ...           -0.000544  0.462768\n",
              "Price Charged            -0.052902    -0.177324  ...            0.003228  0.864154\n",
              "Cost of Trip             -0.003462     0.003077  ...           -0.000633  0.486056\n",
              "Age                      -0.001267    -0.004735  ...            0.003907 -0.005093\n",
              "Income (USD/Month)       -0.001570    -0.013608  ...            1.000000  0.006148\n",
              "Profit                   -0.087130    -0.306527  ...            0.006148  1.000000\n",
              "\n",
              "[9 rows x 9 columns]"
            ]
          },
          "metadata": {
            "tags": []
          },
          "execution_count": 35
        }
      ]
    },
    {
      "cell_type": "markdown",
      "metadata": {
        "id": "sdXqiDPAcj23"
      },
      "source": [
        "Proift is obviously correlated to price charged,cost of trip\n",
        " km travelled,"
      ]
    },
    {
      "cell_type": "code",
      "metadata": {
        "colab": {
          "base_uri": "https://localhost:8080/"
        },
        "id": "7OQXQve02m_b",
        "outputId": "f6df8e01-4e16-4efa-9a9f-2c8a9190d1b6"
      },
      "source": [
        "print(correlations[\"Profit\"])"
      ],
      "execution_count": 36,
      "outputs": [
        {
          "output_type": "stream",
          "text": [
            "Transaction ID       -0.087130\n",
            "Customer ID          -0.306527\n",
            "Date of Travel       -0.090672\n",
            "KM Travelled          0.462768\n",
            "Price Charged         0.864154\n",
            "Cost of Trip          0.486056\n",
            "Age                  -0.005093\n",
            "Income (USD/Month)    0.006148\n",
            "Profit                1.000000\n",
            "Name: Profit, dtype: float64\n"
          ],
          "name": "stdout"
        }
      ]
    },
    {
      "cell_type": "code",
      "metadata": {
        "colab": {
          "base_uri": "https://localhost:8080/",
          "height": 306
        },
        "id": "1V7hhEBd51iY",
        "outputId": "65e5816c-1491-4d3a-82b5-12ef93fd6eb6"
      },
      "source": [
        "from sklearn.preprocessing import OrdinalEncoder\n",
        "\n",
        "ord_enc = OrdinalEncoder()\n",
        "result_all[\"company\"] = ord_enc.fit_transform(result_all[[\"Company\"]])\n",
        "result_all.head(5)\n"
      ],
      "execution_count": 37,
      "outputs": [
        {
          "output_type": "execute_result",
          "data": {
            "text/html": [
              "<div>\n",
              "<style scoped>\n",
              "    .dataframe tbody tr th:only-of-type {\n",
              "        vertical-align: middle;\n",
              "    }\n",
              "\n",
              "    .dataframe tbody tr th {\n",
              "        vertical-align: top;\n",
              "    }\n",
              "\n",
              "    .dataframe thead th {\n",
              "        text-align: right;\n",
              "    }\n",
              "</style>\n",
              "<table border=\"1\" class=\"dataframe\">\n",
              "  <thead>\n",
              "    <tr style=\"text-align: right;\">\n",
              "      <th></th>\n",
              "      <th>Transaction ID</th>\n",
              "      <th>Customer ID</th>\n",
              "      <th>Payment Mode</th>\n",
              "      <th>Date of Travel</th>\n",
              "      <th>Company</th>\n",
              "      <th>City</th>\n",
              "      <th>KM Travelled</th>\n",
              "      <th>Price Charged</th>\n",
              "      <th>Cost of Trip</th>\n",
              "      <th>Gender</th>\n",
              "      <th>Age</th>\n",
              "      <th>Income (USD/Month)</th>\n",
              "      <th>Profit</th>\n",
              "      <th>company</th>\n",
              "    </tr>\n",
              "  </thead>\n",
              "  <tbody>\n",
              "    <tr>\n",
              "      <th>0</th>\n",
              "      <td>10000011</td>\n",
              "      <td>29290</td>\n",
              "      <td>Card</td>\n",
              "      <td>42377</td>\n",
              "      <td>Pink Cab</td>\n",
              "      <td>ATLANTA GA</td>\n",
              "      <td>30.45</td>\n",
              "      <td>370.95</td>\n",
              "      <td>313.635</td>\n",
              "      <td>Male</td>\n",
              "      <td>28</td>\n",
              "      <td>10813</td>\n",
              "      <td>57.315</td>\n",
              "      <td>0.0</td>\n",
              "    </tr>\n",
              "    <tr>\n",
              "      <th>1</th>\n",
              "      <td>10000012</td>\n",
              "      <td>27703</td>\n",
              "      <td>Card</td>\n",
              "      <td>42375</td>\n",
              "      <td>Pink Cab</td>\n",
              "      <td>ATLANTA GA</td>\n",
              "      <td>28.62</td>\n",
              "      <td>358.52</td>\n",
              "      <td>334.854</td>\n",
              "      <td>Male</td>\n",
              "      <td>27</td>\n",
              "      <td>9237</td>\n",
              "      <td>23.666</td>\n",
              "      <td>0.0</td>\n",
              "    </tr>\n",
              "    <tr>\n",
              "      <th>2</th>\n",
              "      <td>10000013</td>\n",
              "      <td>28712</td>\n",
              "      <td>Cash</td>\n",
              "      <td>42371</td>\n",
              "      <td>Pink Cab</td>\n",
              "      <td>ATLANTA GA</td>\n",
              "      <td>9.04</td>\n",
              "      <td>125.20</td>\n",
              "      <td>97.632</td>\n",
              "      <td>Male</td>\n",
              "      <td>53</td>\n",
              "      <td>11242</td>\n",
              "      <td>27.568</td>\n",
              "      <td>0.0</td>\n",
              "    </tr>\n",
              "    <tr>\n",
              "      <th>3</th>\n",
              "      <td>10000014</td>\n",
              "      <td>28020</td>\n",
              "      <td>Cash</td>\n",
              "      <td>42376</td>\n",
              "      <td>Pink Cab</td>\n",
              "      <td>ATLANTA GA</td>\n",
              "      <td>33.17</td>\n",
              "      <td>377.40</td>\n",
              "      <td>351.602</td>\n",
              "      <td>Male</td>\n",
              "      <td>23</td>\n",
              "      <td>23327</td>\n",
              "      <td>25.798</td>\n",
              "      <td>0.0</td>\n",
              "    </tr>\n",
              "    <tr>\n",
              "      <th>4</th>\n",
              "      <td>10000015</td>\n",
              "      <td>27182</td>\n",
              "      <td>Card</td>\n",
              "      <td>42372</td>\n",
              "      <td>Pink Cab</td>\n",
              "      <td>ATLANTA GA</td>\n",
              "      <td>8.73</td>\n",
              "      <td>114.62</td>\n",
              "      <td>97.776</td>\n",
              "      <td>Male</td>\n",
              "      <td>33</td>\n",
              "      <td>8536</td>\n",
              "      <td>16.844</td>\n",
              "      <td>0.0</td>\n",
              "    </tr>\n",
              "  </tbody>\n",
              "</table>\n",
              "</div>"
            ],
            "text/plain": [
              "   Transaction ID  Customer ID  ...  Profit  company\n",
              "0        10000011        29290  ...  57.315      0.0\n",
              "1        10000012        27703  ...  23.666      0.0\n",
              "2        10000013        28712  ...  27.568      0.0\n",
              "3        10000014        28020  ...  25.798      0.0\n",
              "4        10000015        27182  ...  16.844      0.0\n",
              "\n",
              "[5 rows x 14 columns]"
            ]
          },
          "metadata": {
            "tags": []
          },
          "execution_count": 37
        }
      ]
    },
    {
      "cell_type": "code",
      "metadata": {
        "id": "Lw8NASm4tcnL"
      },
      "source": [
        "result_all2=result_all.sample(n = 250)"
      ],
      "execution_count": 53,
      "outputs": []
    },
    {
      "cell_type": "code",
      "metadata": {
        "colab": {
          "base_uri": "https://localhost:8080/",
          "height": 285
        },
        "id": "47O_8wNtvJ_W",
        "outputId": "604596c2-41a1-4076-ae14-77c034dd3d70"
      },
      "source": [
        "import matplotlib.pyplot as plt\n",
        "import pandas as pd\n",
        "\n",
        "result_all.groupby(['company','Payment Mode']).size().unstack().plot(kind='bar',stacked=True)\n",
        "plt.show()"
      ],
      "execution_count": 60,
      "outputs": [
        {
          "output_type": "display_data",
          "data": {
            "image/png": "[encoded data removed]",
            "text/plain": [
              "<Figure size 432x288 with 1 Axes>"
            ]
          },
          "metadata": {
            "tags": [],
            "needs_background": "light"
          }
        }
      ]
    },
    {
      "cell_type": "markdown",
      "metadata": {
        "id": "xqLCwJOTc0-P"
      },
      "source": [
        "1.0 is for yellow cab ,and 0.0 is for pink cab company. Card used more than cash."
      ]
    },
    {
      "cell_type": "code",
      "metadata": {
        "colab": {
          "base_uri": "https://localhost:8080/",
          "height": 265
        },
        "id": "mz5QOYMXvTVT",
        "outputId": "a64f1a66-6823-4875-8627-228251165bc4"
      },
      "source": [
        "import matplotlib.pyplot as plt\n",
        "import pandas as pd\n",
        "\n",
        "result_all[['Age']].plot(kind='hist',bins=[0,20,40,60,80,100],rwidth=0.8)\n",
        "plt.show()"
      ],
      "execution_count": 64,
      "outputs": [
        {
          "output_type": "display_data",
          "data": {
            "image/png": "[encoded data removed]",
            "text/plain": [
              "<Figure size 432x288 with 1 Axes>"
            ]
          },
          "metadata": {
            "tags": [],
            "needs_background": "light"
          }
        }
      ]
    },
    {
      "cell_type": "markdown",
      "metadata": {
        "id": "rOYyYz_IdPkp"
      },
      "source": [
        "Usage of cab is more common in the age gap 20-40."
      ]
    },
    {
      "cell_type": "code",
      "metadata": {
        "colab": {
          "base_uri": "https://localhost:8080/",
          "height": 365
        },
        "id": "ElqfvMmmyenw",
        "outputId": "3cc0bfad-de19-4c3f-f493-d3f06e85d57e"
      },
      "source": [
        "plt.figure(figsize=(7,5))\n",
        "sns.countplot(data=result_all, x=\"Gender\")\n",
        "plt.title(\"Gender plot\", fontsize=10)\n",
        "plt.ylabel('Frequency')\n",
        "plt.xlabel('Gender')"
      ],
      "execution_count": 91,
      "outputs": [
        {
          "output_type": "execute_result",
          "data": {
            "text/plain": [
              "Text(0.5, 0, 'Gender')"
            ]
          },
          "metadata": {
            "tags": []
          },
          "execution_count": 91
        },
        {
          "output_type": "display_data",
          "data": {
            "image/png": "[encoded data removed]",
            "text/plain": [
              "<Figure size 504x360 with 1 Axes>"
            ]
          },
          "metadata": {
            "tags": [],
            "needs_background": "light"
          }
        }
      ]
    },
    {
      "cell_type": "code",
      "metadata": {
        "id": "JcdwNE_AdWUW"
      },
      "source": [
        "Mostly males uses cab."
      ],
      "execution_count": null,
      "outputs": []
    },
    {
      "cell_type": "code",
      "metadata": {
        "colab": {
          "base_uri": "https://localhost:8080/",
          "height": 322
        },
        "id": "ibBjZgU9Bo5t",
        "outputId": "e637490a-c998-4853-ec33-456caca03360"
      },
      "source": [
        "import matplotlib.pyplot as plt\n",
        "import pandas as pd\n",
        "\n",
        "result_all.groupby(['Company','Gender']).size().unstack().plot(kind='bar',stacked=True)\n",
        "plt.show()"
      ],
      "execution_count": 126,
      "outputs": [
        {
          "output_type": "display_data",
          "data": {
            "image/png": "[encoded data removed]",
            "text/plain": [
              "<Figure size 432x288 with 1 Axes>"
            ]
          },
          "metadata": {
            "tags": [],
            "needs_background": "light"
          }
        }
      ]
    },
    {
      "cell_type": "markdown",
      "metadata": {
        "id": "xRwUbvfzdbPA"
      },
      "source": [
        "Males are more common in yellow cab and there is not a significant difference between gender in pink cab."
      ]
    },
    {
      "cell_type": "code",
      "metadata": {
        "id": "yvY5J5Bk0JTN"
      },
      "source": [
        "result_all['Year of Travel'] = result_all['Date of Travel'].dt.year"
      ],
      "execution_count": 95,
      "outputs": []
    },
    {
      "cell_type": "code",
      "metadata": {
        "colab": {
          "base_uri": "https://localhost:8080/",
          "height": 583
        },
        "id": "1hHrIPJl0MWy",
        "outputId": "cca2bd2d-cf28-4609-e0fd-ca170227e61b"
      },
      "source": [
        "result_all.head(10)"
      ],
      "execution_count": 96,
      "outputs": [
        {
          "output_type": "execute_result",
          "data": {
            "text/html": [
              "<div>\n",
              "<style scoped>\n",
              "    .dataframe tbody tr th:only-of-type {\n",
              "        vertical-align: middle;\n",
              "    }\n",
              "\n",
              "    .dataframe tbody tr th {\n",
              "        vertical-align: top;\n",
              "    }\n",
              "\n",
              "    .dataframe thead th {\n",
              "        text-align: right;\n",
              "    }\n",
              "</style>\n",
              "<table border=\"1\" class=\"dataframe\">\n",
              "  <thead>\n",
              "    <tr style=\"text-align: right;\">\n",
              "      <th></th>\n",
              "      <th>Transaction ID</th>\n",
              "      <th>Customer ID</th>\n",
              "      <th>Payment Mode</th>\n",
              "      <th>Date of Travel</th>\n",
              "      <th>Company</th>\n",
              "      <th>City</th>\n",
              "      <th>KM Travelled</th>\n",
              "      <th>Price Charged</th>\n",
              "      <th>Cost of Trip</th>\n",
              "      <th>Gender</th>\n",
              "      <th>Age</th>\n",
              "      <th>Income (USD/Month)</th>\n",
              "      <th>Profit</th>\n",
              "      <th>company</th>\n",
              "      <th>Year of Travel</th>\n",
              "    </tr>\n",
              "  </thead>\n",
              "  <tbody>\n",
              "    <tr>\n",
              "      <th>0</th>\n",
              "      <td>10001219</td>\n",
              "      <td>37298</td>\n",
              "      <td>Cash</td>\n",
              "      <td>2016-01-01</td>\n",
              "      <td>Yellow Cab</td>\n",
              "      <td>SEATTLE WA</td>\n",
              "      <td>29.90</td>\n",
              "      <td>871.63</td>\n",
              "      <td>419.796</td>\n",
              "      <td>Male</td>\n",
              "      <td>49</td>\n",
              "      <td>22669</td>\n",
              "      <td>451.834</td>\n",
              "      <td>1.0</td>\n",
              "      <td>2016</td>\n",
              "    </tr>\n",
              "    <tr>\n",
              "      <th>1</th>\n",
              "      <td>10000600</td>\n",
              "      <td>3363</td>\n",
              "      <td>Cash</td>\n",
              "      <td>2016-01-01</td>\n",
              "      <td>Yellow Cab</td>\n",
              "      <td>CHICAGO IL</td>\n",
              "      <td>23.75</td>\n",
              "      <td>531.25</td>\n",
              "      <td>336.300</td>\n",
              "      <td>Male</td>\n",
              "      <td>31</td>\n",
              "      <td>23320</td>\n",
              "      <td>194.950</td>\n",
              "      <td>1.0</td>\n",
              "      <td>2016</td>\n",
              "    </tr>\n",
              "    <tr>\n",
              "      <th>2</th>\n",
              "      <td>10001014</td>\n",
              "      <td>47687</td>\n",
              "      <td>Card</td>\n",
              "      <td>2016-01-01</td>\n",
              "      <td>Yellow Cab</td>\n",
              "      <td>SACRAMENTO CA</td>\n",
              "      <td>38.00</td>\n",
              "      <td>1065.42</td>\n",
              "      <td>547.200</td>\n",
              "      <td>Male</td>\n",
              "      <td>25</td>\n",
              "      <td>16088</td>\n",
              "      <td>518.220</td>\n",
              "      <td>1.0</td>\n",
              "      <td>2016</td>\n",
              "    </tr>\n",
              "    <tr>\n",
              "      <th>3</th>\n",
              "      <td>10000592</td>\n",
              "      <td>4535</td>\n",
              "      <td>Card</td>\n",
              "      <td>2016-01-01</td>\n",
              "      <td>Yellow Cab</td>\n",
              "      <td>CHICAGO IL</td>\n",
              "      <td>9.63</td>\n",
              "      <td>240.10</td>\n",
              "      <td>127.116</td>\n",
              "      <td>Male</td>\n",
              "      <td>39</td>\n",
              "      <td>19199</td>\n",
              "      <td>112.984</td>\n",
              "      <td>1.0</td>\n",
              "      <td>2016</td>\n",
              "    </tr>\n",
              "    <tr>\n",
              "      <th>4</th>\n",
              "      <td>10000163</td>\n",
              "      <td>22557</td>\n",
              "      <td>Cash</td>\n",
              "      <td>2016-01-01</td>\n",
              "      <td>Pink Cab</td>\n",
              "      <td>PHOENIX AZ</td>\n",
              "      <td>4.44</td>\n",
              "      <td>71.57</td>\n",
              "      <td>48.840</td>\n",
              "      <td>Male</td>\n",
              "      <td>38</td>\n",
              "      <td>8808</td>\n",
              "      <td>22.730</td>\n",
              "      <td>0.0</td>\n",
              "      <td>2016</td>\n",
              "    </tr>\n",
              "    <tr>\n",
              "      <th>5</th>\n",
              "      <td>10000164</td>\n",
              "      <td>22469</td>\n",
              "      <td>Card</td>\n",
              "      <td>2016-01-01</td>\n",
              "      <td>Pink Cab</td>\n",
              "      <td>PHOENIX AZ</td>\n",
              "      <td>8.55</td>\n",
              "      <td>114.15</td>\n",
              "      <td>89.775</td>\n",
              "      <td>Male</td>\n",
              "      <td>37</td>\n",
              "      <td>4378</td>\n",
              "      <td>24.375</td>\n",
              "      <td>0.0</td>\n",
              "      <td>2016</td>\n",
              "    </tr>\n",
              "    <tr>\n",
              "      <th>6</th>\n",
              "      <td>10000588</td>\n",
              "      <td>5211</td>\n",
              "      <td>Cash</td>\n",
              "      <td>2016-01-01</td>\n",
              "      <td>Yellow Cab</td>\n",
              "      <td>CHICAGO IL</td>\n",
              "      <td>12.00</td>\n",
              "      <td>275.99</td>\n",
              "      <td>156.960</td>\n",
              "      <td>Male</td>\n",
              "      <td>35</td>\n",
              "      <td>10393</td>\n",
              "      <td>119.030</td>\n",
              "      <td>1.0</td>\n",
              "      <td>2016</td>\n",
              "    </tr>\n",
              "    <tr>\n",
              "      <th>7</th>\n",
              "      <td>10000171</td>\n",
              "      <td>20687</td>\n",
              "      <td>Cash</td>\n",
              "      <td>2016-01-01</td>\n",
              "      <td>Pink Cab</td>\n",
              "      <td>SAN DIEGO CA</td>\n",
              "      <td>14.28</td>\n",
              "      <td>269.15</td>\n",
              "      <td>147.084</td>\n",
              "      <td>Male</td>\n",
              "      <td>39</td>\n",
              "      <td>8926</td>\n",
              "      <td>122.066</td>\n",
              "      <td>0.0</td>\n",
              "      <td>2016</td>\n",
              "    </tr>\n",
              "    <tr>\n",
              "      <th>8</th>\n",
              "      <td>10001025</td>\n",
              "      <td>20472</td>\n",
              "      <td>Cash</td>\n",
              "      <td>2016-01-01</td>\n",
              "      <td>Yellow Cab</td>\n",
              "      <td>SAN DIEGO CA</td>\n",
              "      <td>39.90</td>\n",
              "      <td>1019.44</td>\n",
              "      <td>497.952</td>\n",
              "      <td>Male</td>\n",
              "      <td>40</td>\n",
              "      <td>12616</td>\n",
              "      <td>521.488</td>\n",
              "      <td>1.0</td>\n",
              "      <td>2016</td>\n",
              "    </tr>\n",
              "    <tr>\n",
              "      <th>9</th>\n",
              "      <td>10000564</td>\n",
              "      <td>5867</td>\n",
              "      <td>Card</td>\n",
              "      <td>2016-01-01</td>\n",
              "      <td>Yellow Cab</td>\n",
              "      <td>CHICAGO IL</td>\n",
              "      <td>36.30</td>\n",
              "      <td>761.20</td>\n",
              "      <td>483.516</td>\n",
              "      <td>Male</td>\n",
              "      <td>36</td>\n",
              "      <td>2103</td>\n",
              "      <td>277.684</td>\n",
              "      <td>1.0</td>\n",
              "      <td>2016</td>\n",
              "    </tr>\n",
              "  </tbody>\n",
              "</table>\n",
              "</div>"
            ],
            "text/plain": [
              "   Transaction ID  Customer ID Payment Mode  ...   Profit company Year of Travel\n",
              "0        10001219        37298         Cash  ...  451.834     1.0           2016\n",
              "1        10000600         3363         Cash  ...  194.950     1.0           2016\n",
              "2        10001014        47687         Card  ...  518.220     1.0           2016\n",
              "3        10000592         4535         Card  ...  112.984     1.0           2016\n",
              "4        10000163        22557         Cash  ...   22.730     0.0           2016\n",
              "5        10000164        22469         Card  ...   24.375     0.0           2016\n",
              "6        10000588         5211         Cash  ...  119.030     1.0           2016\n",
              "7        10000171        20687         Cash  ...  122.066     0.0           2016\n",
              "8        10001025        20472         Cash  ...  521.488     1.0           2016\n",
              "9        10000564         5867         Card  ...  277.684     1.0           2016\n",
              "\n",
              "[10 rows x 15 columns]"
            ]
          },
          "metadata": {
            "tags": []
          },
          "execution_count": 96
        }
      ]
    },
    {
      "cell_type": "code",
      "metadata": {
        "colab": {
          "base_uri": "https://localhost:8080/",
          "height": 323
        },
        "id": "aooQCKD6zUrr",
        "outputId": "2b97e41a-3cd7-498d-e857-2ca9d4734b62"
      },
      "source": [
        "yellowcab= result_all[result_all.Company.isin(['Yellow Cab'])]\n",
        "print(yellowcab.shape)\n",
        "yellowcab.head()\n"
      ],
      "execution_count": 97,
      "outputs": [
        {
          "output_type": "stream",
          "text": [
            "(267439, 15)\n"
          ],
          "name": "stdout"
        },
        {
          "output_type": "execute_result",
          "data": {
            "text/html": [
              "<div>\n",
              "<style scoped>\n",
              "    .dataframe tbody tr th:only-of-type {\n",
              "        vertical-align: middle;\n",
              "    }\n",
              "\n",
              "    .dataframe tbody tr th {\n",
              "        vertical-align: top;\n",
              "    }\n",
              "\n",
              "    .dataframe thead th {\n",
              "        text-align: right;\n",
              "    }\n",
              "</style>\n",
              "<table border=\"1\" class=\"dataframe\">\n",
              "  <thead>\n",
              "    <tr style=\"text-align: right;\">\n",
              "      <th></th>\n",
              "      <th>Transaction ID</th>\n",
              "      <th>Customer ID</th>\n",
              "      <th>Payment Mode</th>\n",
              "      <th>Date of Travel</th>\n",
              "      <th>Company</th>\n",
              "      <th>City</th>\n",
              "      <th>KM Travelled</th>\n",
              "      <th>Price Charged</th>\n",
              "      <th>Cost of Trip</th>\n",
              "      <th>Gender</th>\n",
              "      <th>Age</th>\n",
              "      <th>Income (USD/Month)</th>\n",
              "      <th>Profit</th>\n",
              "      <th>company</th>\n",
              "      <th>Year of Travel</th>\n",
              "    </tr>\n",
              "  </thead>\n",
              "  <tbody>\n",
              "    <tr>\n",
              "      <th>0</th>\n",
              "      <td>10001219</td>\n",
              "      <td>37298</td>\n",
              "      <td>Cash</td>\n",
              "      <td>2016-01-01</td>\n",
              "      <td>Yellow Cab</td>\n",
              "      <td>SEATTLE WA</td>\n",
              "      <td>29.90</td>\n",
              "      <td>871.63</td>\n",
              "      <td>419.796</td>\n",
              "      <td>Male</td>\n",
              "      <td>49</td>\n",
              "      <td>22669</td>\n",
              "      <td>451.834</td>\n",
              "      <td>1.0</td>\n",
              "      <td>2016</td>\n",
              "    </tr>\n",
              "    <tr>\n",
              "      <th>1</th>\n",
              "      <td>10000600</td>\n",
              "      <td>3363</td>\n",
              "      <td>Cash</td>\n",
              "      <td>2016-01-01</td>\n",
              "      <td>Yellow Cab</td>\n",
              "      <td>CHICAGO IL</td>\n",
              "      <td>23.75</td>\n",
              "      <td>531.25</td>\n",
              "      <td>336.300</td>\n",
              "      <td>Male</td>\n",
              "      <td>31</td>\n",
              "      <td>23320</td>\n",
              "      <td>194.950</td>\n",
              "      <td>1.0</td>\n",
              "      <td>2016</td>\n",
              "    </tr>\n",
              "    <tr>\n",
              "      <th>2</th>\n",
              "      <td>10001014</td>\n",
              "      <td>47687</td>\n",
              "      <td>Card</td>\n",
              "      <td>2016-01-01</td>\n",
              "      <td>Yellow Cab</td>\n",
              "      <td>SACRAMENTO CA</td>\n",
              "      <td>38.00</td>\n",
              "      <td>1065.42</td>\n",
              "      <td>547.200</td>\n",
              "      <td>Male</td>\n",
              "      <td>25</td>\n",
              "      <td>16088</td>\n",
              "      <td>518.220</td>\n",
              "      <td>1.0</td>\n",
              "      <td>2016</td>\n",
              "    </tr>\n",
              "    <tr>\n",
              "      <th>3</th>\n",
              "      <td>10000592</td>\n",
              "      <td>4535</td>\n",
              "      <td>Card</td>\n",
              "      <td>2016-01-01</td>\n",
              "      <td>Yellow Cab</td>\n",
              "      <td>CHICAGO IL</td>\n",
              "      <td>9.63</td>\n",
              "      <td>240.10</td>\n",
              "      <td>127.116</td>\n",
              "      <td>Male</td>\n",
              "      <td>39</td>\n",
              "      <td>19199</td>\n",
              "      <td>112.984</td>\n",
              "      <td>1.0</td>\n",
              "      <td>2016</td>\n",
              "    </tr>\n",
              "    <tr>\n",
              "      <th>6</th>\n",
              "      <td>10000588</td>\n",
              "      <td>5211</td>\n",
              "      <td>Cash</td>\n",
              "      <td>2016-01-01</td>\n",
              "      <td>Yellow Cab</td>\n",
              "      <td>CHICAGO IL</td>\n",
              "      <td>12.00</td>\n",
              "      <td>275.99</td>\n",
              "      <td>156.960</td>\n",
              "      <td>Male</td>\n",
              "      <td>35</td>\n",
              "      <td>10393</td>\n",
              "      <td>119.030</td>\n",
              "      <td>1.0</td>\n",
              "      <td>2016</td>\n",
              "    </tr>\n",
              "  </tbody>\n",
              "</table>\n",
              "</div>"
            ],
            "text/plain": [
              "   Transaction ID  Customer ID Payment Mode  ...   Profit company Year of Travel\n",
              "0        10001219        37298         Cash  ...  451.834     1.0           2016\n",
              "1        10000600         3363         Cash  ...  194.950     1.0           2016\n",
              "2        10001014        47687         Card  ...  518.220     1.0           2016\n",
              "3        10000592         4535         Card  ...  112.984     1.0           2016\n",
              "6        10000588         5211         Cash  ...  119.030     1.0           2016\n",
              "\n",
              "[5 rows x 15 columns]"
            ]
          },
          "metadata": {
            "tags": []
          },
          "execution_count": 97
        }
      ]
    },
    {
      "cell_type": "code",
      "metadata": {
        "colab": {
          "base_uri": "https://localhost:8080/",
          "height": 323
        },
        "id": "h0m4C3ixysfc",
        "outputId": "bc315569-fa6f-4dd2-fa0c-7eee61151ec3"
      },
      "source": [
        "pinkcab= result_all[result_all.Company.isin(['Pink Cab'])]\n",
        "print(pinkcab.shape)\n",
        "pinkcab.head()"
      ],
      "execution_count": 98,
      "outputs": [
        {
          "output_type": "stream",
          "text": [
            "(84682, 15)\n"
          ],
          "name": "stdout"
        },
        {
          "output_type": "execute_result",
          "data": {
            "text/html": [
              "<div>\n",
              "<style scoped>\n",
              "    .dataframe tbody tr th:only-of-type {\n",
              "        vertical-align: middle;\n",
              "    }\n",
              "\n",
              "    .dataframe tbody tr th {\n",
              "        vertical-align: top;\n",
              "    }\n",
              "\n",
              "    .dataframe thead th {\n",
              "        text-align: right;\n",
              "    }\n",
              "</style>\n",
              "<table border=\"1\" class=\"dataframe\">\n",
              "  <thead>\n",
              "    <tr style=\"text-align: right;\">\n",
              "      <th></th>\n",
              "      <th>Transaction ID</th>\n",
              "      <th>Customer ID</th>\n",
              "      <th>Payment Mode</th>\n",
              "      <th>Date of Travel</th>\n",
              "      <th>Company</th>\n",
              "      <th>City</th>\n",
              "      <th>KM Travelled</th>\n",
              "      <th>Price Charged</th>\n",
              "      <th>Cost of Trip</th>\n",
              "      <th>Gender</th>\n",
              "      <th>Age</th>\n",
              "      <th>Income (USD/Month)</th>\n",
              "      <th>Profit</th>\n",
              "      <th>company</th>\n",
              "      <th>Year of Travel</th>\n",
              "    </tr>\n",
              "  </thead>\n",
              "  <tbody>\n",
              "    <tr>\n",
              "      <th>4</th>\n",
              "      <td>10000163</td>\n",
              "      <td>22557</td>\n",
              "      <td>Cash</td>\n",
              "      <td>2016-01-01</td>\n",
              "      <td>Pink Cab</td>\n",
              "      <td>PHOENIX AZ</td>\n",
              "      <td>4.44</td>\n",
              "      <td>71.57</td>\n",
              "      <td>48.840</td>\n",
              "      <td>Male</td>\n",
              "      <td>38</td>\n",
              "      <td>8808</td>\n",
              "      <td>22.730</td>\n",
              "      <td>0.0</td>\n",
              "      <td>2016</td>\n",
              "    </tr>\n",
              "    <tr>\n",
              "      <th>5</th>\n",
              "      <td>10000164</td>\n",
              "      <td>22469</td>\n",
              "      <td>Card</td>\n",
              "      <td>2016-01-01</td>\n",
              "      <td>Pink Cab</td>\n",
              "      <td>PHOENIX AZ</td>\n",
              "      <td>8.55</td>\n",
              "      <td>114.15</td>\n",
              "      <td>89.775</td>\n",
              "      <td>Male</td>\n",
              "      <td>37</td>\n",
              "      <td>4378</td>\n",
              "      <td>24.375</td>\n",
              "      <td>0.0</td>\n",
              "      <td>2016</td>\n",
              "    </tr>\n",
              "    <tr>\n",
              "      <th>7</th>\n",
              "      <td>10000171</td>\n",
              "      <td>20687</td>\n",
              "      <td>Cash</td>\n",
              "      <td>2016-01-01</td>\n",
              "      <td>Pink Cab</td>\n",
              "      <td>SAN DIEGO CA</td>\n",
              "      <td>14.28</td>\n",
              "      <td>269.15</td>\n",
              "      <td>147.084</td>\n",
              "      <td>Male</td>\n",
              "      <td>39</td>\n",
              "      <td>8926</td>\n",
              "      <td>122.066</td>\n",
              "      <td>0.0</td>\n",
              "      <td>2016</td>\n",
              "    </tr>\n",
              "    <tr>\n",
              "      <th>14</th>\n",
              "      <td>10000182</td>\n",
              "      <td>18418</td>\n",
              "      <td>Cash</td>\n",
              "      <td>2016-01-01</td>\n",
              "      <td>Pink Cab</td>\n",
              "      <td>SAN DIEGO CA</td>\n",
              "      <td>2.36</td>\n",
              "      <td>47.89</td>\n",
              "      <td>23.600</td>\n",
              "      <td>Male</td>\n",
              "      <td>39</td>\n",
              "      <td>13112</td>\n",
              "      <td>24.290</td>\n",
              "      <td>0.0</td>\n",
              "      <td>2016</td>\n",
              "    </tr>\n",
              "    <tr>\n",
              "      <th>17</th>\n",
              "      <td>10000187</td>\n",
              "      <td>18817</td>\n",
              "      <td>Cash</td>\n",
              "      <td>2016-01-01</td>\n",
              "      <td>Pink Cab</td>\n",
              "      <td>SAN DIEGO CA</td>\n",
              "      <td>23.80</td>\n",
              "      <td>485.21</td>\n",
              "      <td>252.280</td>\n",
              "      <td>Male</td>\n",
              "      <td>40</td>\n",
              "      <td>5038</td>\n",
              "      <td>232.930</td>\n",
              "      <td>0.0</td>\n",
              "      <td>2016</td>\n",
              "    </tr>\n",
              "  </tbody>\n",
              "</table>\n",
              "</div>"
            ],
            "text/plain": [
              "    Transaction ID  Customer ID Payment Mode  ...   Profit company Year of Travel\n",
              "4         10000163        22557         Cash  ...   22.730     0.0           2016\n",
              "5         10000164        22469         Card  ...   24.375     0.0           2016\n",
              "7         10000171        20687         Cash  ...  122.066     0.0           2016\n",
              "14        10000182        18418         Cash  ...   24.290     0.0           2016\n",
              "17        10000187        18817         Cash  ...  232.930     0.0           2016\n",
              "\n",
              "[5 rows x 15 columns]"
            ]
          },
          "metadata": {
            "tags": []
          },
          "execution_count": 98
        }
      ]
    },
    {
      "cell_type": "code",
      "metadata": {
        "colab": {
          "base_uri": "https://localhost:8080/",
          "height": 306
        },
        "id": "rESPdf0N0ciZ",
        "outputId": "dc1be5ff-1fb3-485a-bd2b-734c8adcfe21"
      },
      "source": [
        "result_all.sort_values('Year of Travel').head()"
      ],
      "execution_count": 99,
      "outputs": [
        {
          "output_type": "execute_result",
          "data": {
            "text/html": [
              "<div>\n",
              "<style scoped>\n",
              "    .dataframe tbody tr th:only-of-type {\n",
              "        vertical-align: middle;\n",
              "    }\n",
              "\n",
              "    .dataframe tbody tr th {\n",
              "        vertical-align: top;\n",
              "    }\n",
              "\n",
              "    .dataframe thead th {\n",
              "        text-align: right;\n",
              "    }\n",
              "</style>\n",
              "<table border=\"1\" class=\"dataframe\">\n",
              "  <thead>\n",
              "    <tr style=\"text-align: right;\">\n",
              "      <th></th>\n",
              "      <th>Transaction ID</th>\n",
              "      <th>Customer ID</th>\n",
              "      <th>Payment Mode</th>\n",
              "      <th>Date of Travel</th>\n",
              "      <th>Company</th>\n",
              "      <th>City</th>\n",
              "      <th>KM Travelled</th>\n",
              "      <th>Price Charged</th>\n",
              "      <th>Cost of Trip</th>\n",
              "      <th>Gender</th>\n",
              "      <th>Age</th>\n",
              "      <th>Income (USD/Month)</th>\n",
              "      <th>Profit</th>\n",
              "      <th>company</th>\n",
              "      <th>Year of Travel</th>\n",
              "    </tr>\n",
              "  </thead>\n",
              "  <tbody>\n",
              "    <tr>\n",
              "      <th>0</th>\n",
              "      <td>10001219</td>\n",
              "      <td>37298</td>\n",
              "      <td>Cash</td>\n",
              "      <td>2016-01-01</td>\n",
              "      <td>Yellow Cab</td>\n",
              "      <td>SEATTLE WA</td>\n",
              "      <td>29.90</td>\n",
              "      <td>871.63</td>\n",
              "      <td>419.7960</td>\n",
              "      <td>Male</td>\n",
              "      <td>49</td>\n",
              "      <td>22669</td>\n",
              "      <td>451.8340</td>\n",
              "      <td>1.0</td>\n",
              "      <td>2016</td>\n",
              "    </tr>\n",
              "    <tr>\n",
              "      <th>70349</th>\n",
              "      <td>10089452</td>\n",
              "      <td>4453</td>\n",
              "      <td>Cash</td>\n",
              "      <td>2016-10-13</td>\n",
              "      <td>Yellow Cab</td>\n",
              "      <td>CHICAGO IL</td>\n",
              "      <td>4.52</td>\n",
              "      <td>68.75</td>\n",
              "      <td>62.9184</td>\n",
              "      <td>Male</td>\n",
              "      <td>30</td>\n",
              "      <td>2289</td>\n",
              "      <td>5.8316</td>\n",
              "      <td>1.0</td>\n",
              "      <td>2016</td>\n",
              "    </tr>\n",
              "    <tr>\n",
              "      <th>70348</th>\n",
              "      <td>10089171</td>\n",
              "      <td>58095</td>\n",
              "      <td>Cash</td>\n",
              "      <td>2016-10-13</td>\n",
              "      <td>Yellow Cab</td>\n",
              "      <td>BOSTON MA</td>\n",
              "      <td>18.36</td>\n",
              "      <td>313.37</td>\n",
              "      <td>231.3360</td>\n",
              "      <td>Female</td>\n",
              "      <td>48</td>\n",
              "      <td>6673</td>\n",
              "      <td>82.0340</td>\n",
              "      <td>1.0</td>\n",
              "      <td>2016</td>\n",
              "    </tr>\n",
              "    <tr>\n",
              "      <th>70347</th>\n",
              "      <td>10090306</td>\n",
              "      <td>648</td>\n",
              "      <td>Cash</td>\n",
              "      <td>2016-10-13</td>\n",
              "      <td>Yellow Cab</td>\n",
              "      <td>NEW YORK NY</td>\n",
              "      <td>17.28</td>\n",
              "      <td>339.98</td>\n",
              "      <td>211.5072</td>\n",
              "      <td>Male</td>\n",
              "      <td>39</td>\n",
              "      <td>2287</td>\n",
              "      <td>128.4728</td>\n",
              "      <td>1.0</td>\n",
              "      <td>2016</td>\n",
              "    </tr>\n",
              "    <tr>\n",
              "      <th>70346</th>\n",
              "      <td>10089444</td>\n",
              "      <td>3135</td>\n",
              "      <td>Cash</td>\n",
              "      <td>2016-10-13</td>\n",
              "      <td>Yellow Cab</td>\n",
              "      <td>CHICAGO IL</td>\n",
              "      <td>11.90</td>\n",
              "      <td>180.99</td>\n",
              "      <td>149.9400</td>\n",
              "      <td>Male</td>\n",
              "      <td>53</td>\n",
              "      <td>11458</td>\n",
              "      <td>31.0500</td>\n",
              "      <td>1.0</td>\n",
              "      <td>2016</td>\n",
              "    </tr>\n",
              "  </tbody>\n",
              "</table>\n",
              "</div>"
            ],
            "text/plain": [
              "       Transaction ID  Customer ID  ... company Year of Travel\n",
              "0            10001219        37298  ...     1.0           2016\n",
              "70349        10089452         4453  ...     1.0           2016\n",
              "70348        10089171        58095  ...     1.0           2016\n",
              "70347        10090306          648  ...     1.0           2016\n",
              "70346        10089444         3135  ...     1.0           2016\n",
              "\n",
              "[5 rows x 15 columns]"
            ]
          },
          "metadata": {
            "tags": []
          },
          "execution_count": 99
        }
      ]
    },
    {
      "cell_type": "code",
      "metadata": {
        "colab": {
          "base_uri": "https://localhost:8080/",
          "height": 173
        },
        "id": "HyKZ59md0sAv",
        "outputId": "acc6160b-c326-49bf-f588-5b9615f11efe"
      },
      "source": [
        "pinkcab_profit=pinkcab.groupby(['Company', 'Year of Travel']).Profit.sum().to_frame('Profit')\n",
        "pinkcab_profit.head(3)"
      ],
      "execution_count": 113,
      "outputs": [
        {
          "output_type": "execute_result",
          "data": {
            "text/html": [
              "<div>\n",
              "<style scoped>\n",
              "    .dataframe tbody tr th:only-of-type {\n",
              "        vertical-align: middle;\n",
              "    }\n",
              "\n",
              "    .dataframe tbody tr th {\n",
              "        vertical-align: top;\n",
              "    }\n",
              "\n",
              "    .dataframe thead th {\n",
              "        text-align: right;\n",
              "    }\n",
              "</style>\n",
              "<table border=\"1\" class=\"dataframe\">\n",
              "  <thead>\n",
              "    <tr style=\"text-align: right;\">\n",
              "      <th></th>\n",
              "      <th></th>\n",
              "      <th>Profit</th>\n",
              "    </tr>\n",
              "    <tr>\n",
              "      <th>Company</th>\n",
              "      <th>Year of Travel</th>\n",
              "      <th></th>\n",
              "    </tr>\n",
              "  </thead>\n",
              "  <tbody>\n",
              "    <tr>\n",
              "      <th rowspan=\"3\" valign=\"top\">Pink Cab</th>\n",
              "      <th>2016</th>\n",
              "      <td>1733832.342</td>\n",
              "    </tr>\n",
              "    <tr>\n",
              "      <th>2017</th>\n",
              "      <td>2004750.889</td>\n",
              "    </tr>\n",
              "    <tr>\n",
              "      <th>2018</th>\n",
              "      <td>1545756.488</td>\n",
              "    </tr>\n",
              "  </tbody>\n",
              "</table>\n",
              "</div>"
            ],
            "text/plain": [
              "                              Profit\n",
              "Company  Year of Travel             \n",
              "Pink Cab 2016            1733832.342\n",
              "         2017            2004750.889\n",
              "         2018            1545756.488"
            ]
          },
          "metadata": {
            "tags": []
          },
          "execution_count": 113
        }
      ]
    },
    {
      "cell_type": "markdown",
      "metadata": {
        "id": "VS0UImC8dvsn"
      },
      "source": [
        "Pink cab get the most profit in 2017."
      ]
    },
    {
      "cell_type": "code",
      "metadata": {
        "colab": {
          "base_uri": "https://localhost:8080/"
        },
        "id": "8vwZ4N3X1cMj",
        "outputId": "00df5069-6080-462a-f784-5937b6b391bc"
      },
      "source": [
        "pinkcab_profit['Profit'].sum(axis=0)\n"
      ],
      "execution_count": 114,
      "outputs": [
        {
          "output_type": "execute_result",
          "data": {
            "text/plain": [
              "5284339.719000008"
            ]
          },
          "metadata": {
            "tags": []
          },
          "execution_count": 114
        }
      ]
    },
    {
      "cell_type": "markdown",
      "metadata": {
        "id": "hCeT9P2Sd3hJ"
      },
      "source": [
        "Total profit of pink cab."
      ]
    },
    {
      "cell_type": "code",
      "metadata": {
        "colab": {
          "base_uri": "https://localhost:8080/",
          "height": 173
        },
        "id": "VWLKZ-YY1H3x",
        "outputId": "19a7d4fe-4828-4483-96ff-fd79f21b7980"
      },
      "source": [
        "yellowcab_profit=yellowcab.groupby(['Company', 'Year of Travel']).Profit.sum().to_frame('Profit')\n",
        "yellowcab_profit.head(3)"
      ],
      "execution_count": 107,
      "outputs": [
        {
          "output_type": "execute_result",
          "data": {
            "text/html": [
              "<div>\n",
              "<style scoped>\n",
              "    .dataframe tbody tr th:only-of-type {\n",
              "        vertical-align: middle;\n",
              "    }\n",
              "\n",
              "    .dataframe tbody tr th {\n",
              "        vertical-align: top;\n",
              "    }\n",
              "\n",
              "    .dataframe thead th {\n",
              "        text-align: right;\n",
              "    }\n",
              "</style>\n",
              "<table border=\"1\" class=\"dataframe\">\n",
              "  <thead>\n",
              "    <tr style=\"text-align: right;\">\n",
              "      <th></th>\n",
              "      <th></th>\n",
              "      <th>Profit</th>\n",
              "    </tr>\n",
              "    <tr>\n",
              "      <th>Company</th>\n",
              "      <th>Year of Travel</th>\n",
              "      <th></th>\n",
              "    </tr>\n",
              "  </thead>\n",
              "  <tbody>\n",
              "    <tr>\n",
              "      <th rowspan=\"3\" valign=\"top\">Yellow Cab</th>\n",
              "      <th>2016</th>\n",
              "      <td>1.204760e+07</td>\n",
              "    </tr>\n",
              "    <tr>\n",
              "      <th>2017</th>\n",
              "      <td>1.414065e+07</td>\n",
              "    </tr>\n",
              "    <tr>\n",
              "      <th>2018</th>\n",
              "      <td>1.243107e+07</td>\n",
              "    </tr>\n",
              "  </tbody>\n",
              "</table>\n",
              "</div>"
            ],
            "text/plain": [
              "                                 Profit\n",
              "Company    Year of Travel              \n",
              "Yellow Cab 2016            1.204760e+07\n",
              "           2017            1.414065e+07\n",
              "           2018            1.243107e+07"
            ]
          },
          "metadata": {
            "tags": []
          },
          "execution_count": 107
        }
      ]
    },
    {
      "cell_type": "markdown",
      "metadata": {
        "id": "vyq06VMQd7Gw"
      },
      "source": [
        "Also yellow cab got the most profit in 2017."
      ]
    },
    {
      "cell_type": "code",
      "metadata": {
        "colab": {
          "base_uri": "https://localhost:8080/"
        },
        "id": "993gPbVm2wia",
        "outputId": "2d42fdb8-b856-44bc-93e2-7af35861ed29"
      },
      "source": [
        "yellowcab_profit['Profit'].sum(axis=0)"
      ],
      "execution_count": 112,
      "outputs": [
        {
          "output_type": "execute_result",
          "data": {
            "text/plain": [
              "38619326.47319999"
            ]
          },
          "metadata": {
            "tags": []
          },
          "execution_count": 112
        }
      ]
    },
    {
      "cell_type": "markdown",
      "metadata": {
        "id": "E9NufIqEeA9W"
      },
      "source": [
        "Yellow cab's total profit is much higher than pink cab."
      ]
    },
    {
      "cell_type": "markdown",
      "metadata": {
        "id": "fA0oKm0H3-5v"
      },
      "source": [
        "## **Average profits per City**\n"
      ]
    },
    {
      "cell_type": "code",
      "metadata": {
        "colab": {
          "base_uri": "https://localhost:8080/",
          "height": 762
        },
        "id": "Sz9HzX0q3-Bn",
        "outputId": "059c3e06-3aa5-4823-89b5-309f4b933ab0"
      },
      "source": [
        "grp= yellowcab.groupby('City').Profit.sum()\n",
        "grp= pd.DataFrame(grp)\n",
        "grp = grp.sort_values(by='Profit', ascending= False )\n",
        "grp.head()\n",
        "\n",
        "plt.figure(figsize=(22,11))\n",
        "fig= grp.Profit.plot.bar(color = 'yellow',linewidth=1.5)\n",
        "plt.xticks(rotation=45)\n",
        "\n",
        "plt.ylabel('Profits', fontsize=16)\n",
        "plt.xlabel('Cities', fontsize=16)\n",
        "plt.title('Yellow Cab Profit distribution according to Cities',fontsize=20)\n"
      ],
      "execution_count": 124,
      "outputs": [
        {
          "output_type": "execute_result",
          "data": {
            "text/plain": [
              "Text(0.5, 1.0, 'Yellow Cab Profit distribution according to Cities')"
            ]
          },
          "metadata": {
            "tags": []
          },
          "execution_count": 124
        },
        {
          "output_type": "display_data",
          "data": {
            "image/png": "[encoded data removed]",
            "text/plain": [
              "<Figure size 1584x792 with 1 Axes>"
            ]
          },
          "metadata": {
            "tags": [],
            "needs_background": "light"
          }
        }
      ]
    },
    {
      "cell_type": "code",
      "metadata": {
        "colab": {
          "base_uri": "https://localhost:8080/",
          "height": 762
        },
        "id": "IyYgykMt6ZP4",
        "outputId": "5b10444a-b842-4090-d8fc-a4bf7ce21b3a"
      },
      "source": [
        "grp2= yellowcab.groupby('City').Profit.sum()\n",
        "grp2= pd.DataFrame(grp2)\n",
        "grp2 = grp2.sort_values(by='Profit', ascending= False )\n",
        "grp2.head()\n",
        "\n",
        "plt.figure(figsize=(22,11))\n",
        "fig= grp2.Profit.plot.bar(color = 'pink',linewidth=1.5)\n",
        "plt.xticks(rotation=45)\n",
        "\n",
        "plt.ylabel('Profits', fontsize=16)\n",
        "plt.xlabel('Cities', fontsize=16)\n",
        "plt.title('PinkCab Profit distribution according to Cities',fontsize=20)\n"
      ],
      "execution_count": 123,
      "outputs": [
        {
          "output_type": "execute_result",
          "data": {
            "text/plain": [
              "Text(0.5, 1.0, 'PinkCab Profit distribution according to Cities')"
            ]
          },
          "metadata": {
            "tags": []
          },
          "execution_count": 123
        },
        {
          "output_type": "display_data",
          "data": {
            "image/png": "[encoded data removed]",
            "text/plain": [
              "<Figure size 1584x792 with 1 Axes>"
            ]
          },
          "metadata": {
            "tags": [],
            "needs_background": "light"
          }
        }
      ]
    },
    {
      "cell_type": "code",
      "metadata": {
        "colab": {
          "base_uri": "https://localhost:8080/",
          "height": 568
        },
        "id": "gXl1ian_FFfp",
        "outputId": "2b122204-a18c-42e1-988a-93712825e312"
      },
      "source": [
        "plt.figure(figsize=(10,9))\n",
        "sns.lineplot(data=result_all, x=\"KM Travelled\",y='Price Charged', color= 'blue')\n",
        "plt.title('Cost of Trip / KM Travelled', fontsize=14)\n",
        "plt.xlabel('Travelled')\n",
        "plt.ylabel('Price Charged for Trip')\n",
        "plt.show()"
      ],
      "execution_count": 128,
      "outputs": [
        {
          "output_type": "display_data",
          "data": {
            "image/png": "[encoded data removed]",
            "text/plain": [
              "<Figure size 720x648 with 1 Axes>"
            ]
          },
          "metadata": {
            "tags": [],
            "needs_background": "light"
          }
        }
      ]
    },
    {
      "cell_type": "code",
      "metadata": {
        "colab": {
          "base_uri": "https://localhost:8080/",
          "height": 284
        },
        "id": "1SDeAaS3J6-f",
        "outputId": "90fb787d-e9f1-44d8-ddac-96e40bf6b211"
      },
      "source": [
        "sns.catplot(\n",
        "    data=result_all,\n",
        "    x='City',\n",
        "    y='Profit',\n",
        "    row='Company',\n",
        "    kind='box',\n",
        "    height=3, \n",
        "    aspect=10,\n",
        "    color='blue');"
      ],
      "execution_count": 130,
      "outputs": [
        {
          "output_type": "display_data",
          "data": {
            "image/png": "[encoded data removed]",
            "text/plain": [
              "<Figure size 2160x432 with 2 Axes>"
            ]
          },
          "metadata": {
            "tags": [],
            "needs_background": "light"
          }
        }
      ]
    }
  ]
}