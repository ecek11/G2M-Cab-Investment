{
  "nbformat": 4,
  "nbformat_minor": 0,
  "metadata": {
    "colab": {
      "name": "G2M CAB_INVESTMENT.ipynb",
      "provenance": [],
      "collapsed_sections": []
    },
    "kernelspec": {
      "name": "python3",
      "display_name": "Python 3"
    },
    "language_info": {
      "name": "python"
    }
  },
  "cells": [
    {
      "cell_type": "code",
      "metadata": {
        "id": "m5Qoh548Xx9F"
      },
      "source": [
        "import pandas as pd\n",
        "import numpy as np\n",
        "import matplotlib.pyplot as plt\n",
        "from os.path import join\n",
        "import seaborn as sns\n",
        "%matplotlib inline\n"
      ],
      "execution_count": 2,
      "outputs": []
    },
    {
      "cell_type": "markdown",
      "metadata": {
        "id": "pDnfvaf_6uqt"
      },
      "source": [
        "Hypothesis:\n",
        "\n",
        " Yellow cab company has the higher profit according to the years.\n",
        "\n",
        "Yellow cab company has the most profit.\n",
        "How the genders distribute according to cab companies\n",
        "\n",
        "Card as a payment method is mostly used.\n",
        "\n",
        "New York is the city that the companies get the most profit.\n",
        "\n",
        "Pink cab company customers mostly use cards.\n",
        "\n",
        "Profit increases each year for both companies.\n",
        "\n",
        "As KM travelled increases , price charged also increases.\n",
        "\n",
        "There ıs dıfference between card or cash payıng on profıt. \n",
        "\n",
        "There is difference between genders for profit in both companies.\n",
        "\n",
        "There is difference between ages for profit in both companies.\n",
        "\u000b\n"
      ]
    },
    {
      "cell_type": "code",
      "metadata": {
        "colab": {
          "base_uri": "https://localhost:8080/",
          "height": 200
        },
        "id": "sO2p0FZ9WZhY",
        "outputId": "cedaa573-9d8f-4ce9-c0e0-36f62af02f73"
      },
      "source": [
        "import pandas as pd\n",
        "\n",
        "url_data = (r'https://raw.githubusercontent.com/DataGlacier/DataSets/main/Cab_Data.csv')\n",
        "\n",
        "Cab_Data= pd.read_csv(url_data)\n",
        "\n",
        "Cab_Data.head()"
      ],
      "execution_count": 3,
      "outputs": [
        {
          "output_type": "execute_result",
          "data": {
            "text/html": [
              "<div>\n",
              "<style scoped>\n",
              "    .dataframe tbody tr th:only-of-type {\n",
              "        vertical-align: middle;\n",
              "    }\n",
              "\n",
              "    .dataframe tbody tr th {\n",
              "        vertical-align: top;\n",
              "    }\n",
              "\n",
              "    .dataframe thead th {\n",
              "        text-align: right;\n",
              "    }\n",
              "</style>\n",
              "<table border=\"1\" class=\"dataframe\">\n",
              "  <thead>\n",
              "    <tr style=\"text-align: right;\">\n",
              "      <th></th>\n",
              "      <th>Transaction ID</th>\n",
              "      <th>Date of Travel</th>\n",
              "      <th>Company</th>\n",
              "      <th>City</th>\n",
              "      <th>KM Travelled</th>\n",
              "      <th>Price Charged</th>\n",
              "      <th>Cost of Trip</th>\n",
              "    </tr>\n",
              "  </thead>\n",
              "  <tbody>\n",
              "    <tr>\n",
              "      <th>0</th>\n",
              "      <td>10000011</td>\n",
              "      <td>42377</td>\n",
              "      <td>Pink Cab</td>\n",
              "      <td>ATLANTA GA</td>\n",
              "      <td>30.45</td>\n",
              "      <td>370.95</td>\n",
              "      <td>313.635</td>\n",
              "    </tr>\n",
              "    <tr>\n",
              "      <th>1</th>\n",
              "      <td>10000012</td>\n",
              "      <td>42375</td>\n",
              "      <td>Pink Cab</td>\n",
              "      <td>ATLANTA GA</td>\n",
              "      <td>28.62</td>\n",
              "      <td>358.52</td>\n",
              "      <td>334.854</td>\n",
              "    </tr>\n",
              "    <tr>\n",
              "      <th>2</th>\n",
              "      <td>10000013</td>\n",
              "      <td>42371</td>\n",
              "      <td>Pink Cab</td>\n",
              "      <td>ATLANTA GA</td>\n",
              "      <td>9.04</td>\n",
              "      <td>125.20</td>\n",
              "      <td>97.632</td>\n",
              "    </tr>\n",
              "    <tr>\n",
              "      <th>3</th>\n",
              "      <td>10000014</td>\n",
              "      <td>42376</td>\n",
              "      <td>Pink Cab</td>\n",
              "      <td>ATLANTA GA</td>\n",
              "      <td>33.17</td>\n",
              "      <td>377.40</td>\n",
              "      <td>351.602</td>\n",
              "    </tr>\n",
              "    <tr>\n",
              "      <th>4</th>\n",
              "      <td>10000015</td>\n",
              "      <td>42372</td>\n",
              "      <td>Pink Cab</td>\n",
              "      <td>ATLANTA GA</td>\n",
              "      <td>8.73</td>\n",
              "      <td>114.62</td>\n",
              "      <td>97.776</td>\n",
              "    </tr>\n",
              "  </tbody>\n",
              "</table>\n",
              "</div>"
            ],
            "text/plain": [
              "   Transaction ID  Date of Travel  ... Price Charged Cost of Trip\n",
              "0        10000011           42377  ...        370.95      313.635\n",
              "1        10000012           42375  ...        358.52      334.854\n",
              "2        10000013           42371  ...        125.20       97.632\n",
              "3        10000014           42376  ...        377.40      351.602\n",
              "4        10000015           42372  ...        114.62       97.776\n",
              "\n",
              "[5 rows x 7 columns]"
            ]
          },
          "metadata": {
            "tags": []
          },
          "execution_count": 3
        }
      ]
    },
    {
      "cell_type": "code",
      "metadata": {
        "colab": {
          "base_uri": "https://localhost:8080/"
        },
        "id": "rZzWcOMKL7bM",
        "outputId": "ca02edfc-0e8f-407b-cf85-578c816ad83b"
      },
      "source": [
        "Cab_Data.info"
      ],
      "execution_count": 4,
      "outputs": [
        {
          "output_type": "execute_result",
          "data": {
            "text/plain": [
              "<bound method DataFrame.info of         Transaction ID  Date of Travel  ... Price Charged Cost of Trip\n",
              "0             10000011           42377  ...        370.95     313.6350\n",
              "1             10000012           42375  ...        358.52     334.8540\n",
              "2             10000013           42371  ...        125.20      97.6320\n",
              "3             10000014           42376  ...        377.40     351.6020\n",
              "4             10000015           42372  ...        114.62      97.7760\n",
              "...                ...             ...  ...           ...          ...\n",
              "359387        10440101           43108  ...         69.24      63.3600\n",
              "359388        10440104           43104  ...        113.75     106.8480\n",
              "359389        10440105           43105  ...        437.07     349.6500\n",
              "359390        10440106           43105  ...        146.19     114.0480\n",
              "359391        10440107           43102  ...        191.58     177.6192\n",
              "\n",
              "[359392 rows x 7 columns]>"
            ]
          },
          "metadata": {
            "tags": []
          },
          "execution_count": 4
        }
      ]
    },
    {
      "cell_type": "code",
      "metadata": {
        "colab": {
          "base_uri": "https://localhost:8080/",
          "height": 200
        },
        "id": "7Xlve7E8Wu_j",
        "outputId": "925c4341-6250-4b1c-9fc1-fda4a36a05d0"
      },
      "source": [
        "url_data2 = (r'https://raw.githubusercontent.com/DataGlacier/DataSets/main/City.csv')\n",
        "\n",
        "City= pd.read_csv(url_data2)\n",
        "\n",
        "City.head()"
      ],
      "execution_count": 5,
      "outputs": [
        {
          "output_type": "execute_result",
          "data": {
            "text/html": [
              "<div>\n",
              "<style scoped>\n",
              "    .dataframe tbody tr th:only-of-type {\n",
              "        vertical-align: middle;\n",
              "    }\n",
              "\n",
              "    .dataframe tbody tr th {\n",
              "        vertical-align: top;\n",
              "    }\n",
              "\n",
              "    .dataframe thead th {\n",
              "        text-align: right;\n",
              "    }\n",
              "</style>\n",
              "<table border=\"1\" class=\"dataframe\">\n",
              "  <thead>\n",
              "    <tr style=\"text-align: right;\">\n",
              "      <th></th>\n",
              "      <th>City</th>\n",
              "      <th>Population</th>\n",
              "      <th>Users</th>\n",
              "    </tr>\n",
              "  </thead>\n",
              "  <tbody>\n",
              "    <tr>\n",
              "      <th>0</th>\n",
              "      <td>NEW YORK NY</td>\n",
              "      <td>8,405,837</td>\n",
              "      <td>302,149</td>\n",
              "    </tr>\n",
              "    <tr>\n",
              "      <th>1</th>\n",
              "      <td>CHICAGO IL</td>\n",
              "      <td>1,955,130</td>\n",
              "      <td>164,468</td>\n",
              "    </tr>\n",
              "    <tr>\n",
              "      <th>2</th>\n",
              "      <td>LOS ANGELES CA</td>\n",
              "      <td>1,595,037</td>\n",
              "      <td>144,132</td>\n",
              "    </tr>\n",
              "    <tr>\n",
              "      <th>3</th>\n",
              "      <td>MIAMI FL</td>\n",
              "      <td>1,339,155</td>\n",
              "      <td>17,675</td>\n",
              "    </tr>\n",
              "    <tr>\n",
              "      <th>4</th>\n",
              "      <td>SILICON VALLEY</td>\n",
              "      <td>1,177,609</td>\n",
              "      <td>27,247</td>\n",
              "    </tr>\n",
              "  </tbody>\n",
              "</table>\n",
              "</div>"
            ],
            "text/plain": [
              "             City   Population      Users\n",
              "0     NEW YORK NY   8,405,837    302,149 \n",
              "1      CHICAGO IL   1,955,130    164,468 \n",
              "2  LOS ANGELES CA   1,595,037    144,132 \n",
              "3        MIAMI FL   1,339,155     17,675 \n",
              "4  SILICON VALLEY   1,177,609     27,247 "
            ]
          },
          "metadata": {
            "tags": []
          },
          "execution_count": 5
        }
      ]
    },
    {
      "cell_type": "code",
      "metadata": {
        "colab": {
          "base_uri": "https://localhost:8080/"
        },
        "id": "djQBF7esxutn",
        "outputId": "0d14d8e3-d190-48de-8730-41440f83d732"
      },
      "source": [
        "City.dtypes"
      ],
      "execution_count": 6,
      "outputs": [
        {
          "output_type": "execute_result",
          "data": {
            "text/plain": [
              "City          object\n",
              "Population    object\n",
              "Users         object\n",
              "dtype: object"
            ]
          },
          "metadata": {
            "tags": []
          },
          "execution_count": 6
        }
      ]
    },
    {
      "cell_type": "code",
      "metadata": {
        "colab": {
          "base_uri": "https://localhost:8080/"
        },
        "id": "OQfTTMOqxwYx",
        "outputId": "23b36c8f-17bd-4164-e8fd-3114b089acf8"
      },
      "source": [
        "City['Population'] = [x.replace(',','') for x in City['Population']]\n",
        "City['Users'] = [x.replace(',','') for x in City['Users']]\n",
        "City['Population'] = City['Population'].astype(float)\n",
        "City['Users'] = City['Users'].astype(float)\n",
        "City.dtypes"
      ],
      "execution_count": 7,
      "outputs": [
        {
          "output_type": "execute_result",
          "data": {
            "text/plain": [
              "City           object\n",
              "Population    float64\n",
              "Users         float64\n",
              "dtype: object"
            ]
          },
          "metadata": {
            "tags": []
          },
          "execution_count": 7
        }
      ]
    },
    {
      "cell_type": "code",
      "metadata": {
        "colab": {
          "base_uri": "https://localhost:8080/",
          "height": 200
        },
        "id": "J8CYtD-FXEDA",
        "outputId": "8edbc945-96d6-46fa-ddf4-ee31e7c2d47c"
      },
      "source": [
        "url_data3 = (r'https://raw.githubusercontent.com/DataGlacier/DataSets/main/Customer_ID.csv')\n",
        "\n",
        "Customer_ID= pd.read_csv(url_data3)\n",
        "\n",
        "Customer_ID.head()"
      ],
      "execution_count": 8,
      "outputs": [
        {
          "output_type": "execute_result",
          "data": {
            "text/html": [
              "<div>\n",
              "<style scoped>\n",
              "    .dataframe tbody tr th:only-of-type {\n",
              "        vertical-align: middle;\n",
              "    }\n",
              "\n",
              "    .dataframe tbody tr th {\n",
              "        vertical-align: top;\n",
              "    }\n",
              "\n",
              "    .dataframe thead th {\n",
              "        text-align: right;\n",
              "    }\n",
              "</style>\n",
              "<table border=\"1\" class=\"dataframe\">\n",
              "  <thead>\n",
              "    <tr style=\"text-align: right;\">\n",
              "      <th></th>\n",
              "      <th>Customer ID</th>\n",
              "      <th>Gender</th>\n",
              "      <th>Age</th>\n",
              "      <th>Income (USD/Month)</th>\n",
              "    </tr>\n",
              "  </thead>\n",
              "  <tbody>\n",
              "    <tr>\n",
              "      <th>0</th>\n",
              "      <td>29290</td>\n",
              "      <td>Male</td>\n",
              "      <td>28</td>\n",
              "      <td>10813</td>\n",
              "    </tr>\n",
              "    <tr>\n",
              "      <th>1</th>\n",
              "      <td>27703</td>\n",
              "      <td>Male</td>\n",
              "      <td>27</td>\n",
              "      <td>9237</td>\n",
              "    </tr>\n",
              "    <tr>\n",
              "      <th>2</th>\n",
              "      <td>28712</td>\n",
              "      <td>Male</td>\n",
              "      <td>53</td>\n",
              "      <td>11242</td>\n",
              "    </tr>\n",
              "    <tr>\n",
              "      <th>3</th>\n",
              "      <td>28020</td>\n",
              "      <td>Male</td>\n",
              "      <td>23</td>\n",
              "      <td>23327</td>\n",
              "    </tr>\n",
              "    <tr>\n",
              "      <th>4</th>\n",
              "      <td>27182</td>\n",
              "      <td>Male</td>\n",
              "      <td>33</td>\n",
              "      <td>8536</td>\n",
              "    </tr>\n",
              "  </tbody>\n",
              "</table>\n",
              "</div>"
            ],
            "text/plain": [
              "   Customer ID Gender  Age  Income (USD/Month)\n",
              "0        29290   Male   28               10813\n",
              "1        27703   Male   27                9237\n",
              "2        28712   Male   53               11242\n",
              "3        28020   Male   23               23327\n",
              "4        27182   Male   33                8536"
            ]
          },
          "metadata": {
            "tags": []
          },
          "execution_count": 8
        }
      ]
    },
    {
      "cell_type": "code",
      "metadata": {
        "colab": {
          "base_uri": "https://localhost:8080/"
        },
        "id": "42zA3RDGyGz9",
        "outputId": "f6db98f9-7bcc-4d3e-ece7-6600a897b37b"
      },
      "source": [
        "Customer_ID.dtypes"
      ],
      "execution_count": 9,
      "outputs": [
        {
          "output_type": "execute_result",
          "data": {
            "text/plain": [
              "Customer ID            int64\n",
              "Gender                object\n",
              "Age                    int64\n",
              "Income (USD/Month)     int64\n",
              "dtype: object"
            ]
          },
          "metadata": {
            "tags": []
          },
          "execution_count": 9
        }
      ]
    },
    {
      "cell_type": "code",
      "metadata": {
        "colab": {
          "base_uri": "https://localhost:8080/",
          "height": 200
        },
        "id": "O4lnssRvXX12",
        "outputId": "e96410b2-92cb-45a2-eb22-e023f4c7e4d1"
      },
      "source": [
        "\n",
        "url_data4 = (r'https://raw.githubusercontent.com/DataGlacier/DataSets/main/Transaction_ID.csv')\n",
        "\n",
        "Transaction_ID= pd.read_csv(url_data4)\n",
        "\n",
        "Transaction_ID.head()"
      ],
      "execution_count": 10,
      "outputs": [
        {
          "output_type": "execute_result",
          "data": {
            "text/html": [
              "<div>\n",
              "<style scoped>\n",
              "    .dataframe tbody tr th:only-of-type {\n",
              "        vertical-align: middle;\n",
              "    }\n",
              "\n",
              "    .dataframe tbody tr th {\n",
              "        vertical-align: top;\n",
              "    }\n",
              "\n",
              "    .dataframe thead th {\n",
              "        text-align: right;\n",
              "    }\n",
              "</style>\n",
              "<table border=\"1\" class=\"dataframe\">\n",
              "  <thead>\n",
              "    <tr style=\"text-align: right;\">\n",
              "      <th></th>\n",
              "      <th>Transaction ID</th>\n",
              "      <th>Customer ID</th>\n",
              "      <th>Payment_Mode</th>\n",
              "    </tr>\n",
              "  </thead>\n",
              "  <tbody>\n",
              "    <tr>\n",
              "      <th>0</th>\n",
              "      <td>10000011</td>\n",
              "      <td>29290</td>\n",
              "      <td>Card</td>\n",
              "    </tr>\n",
              "    <tr>\n",
              "      <th>1</th>\n",
              "      <td>10000012</td>\n",
              "      <td>27703</td>\n",
              "      <td>Card</td>\n",
              "    </tr>\n",
              "    <tr>\n",
              "      <th>2</th>\n",
              "      <td>10000013</td>\n",
              "      <td>28712</td>\n",
              "      <td>Cash</td>\n",
              "    </tr>\n",
              "    <tr>\n",
              "      <th>3</th>\n",
              "      <td>10000014</td>\n",
              "      <td>28020</td>\n",
              "      <td>Cash</td>\n",
              "    </tr>\n",
              "    <tr>\n",
              "      <th>4</th>\n",
              "      <td>10000015</td>\n",
              "      <td>27182</td>\n",
              "      <td>Card</td>\n",
              "    </tr>\n",
              "  </tbody>\n",
              "</table>\n",
              "</div>"
            ],
            "text/plain": [
              "   Transaction ID  Customer ID Payment_Mode\n",
              "0        10000011        29290         Card\n",
              "1        10000012        27703         Card\n",
              "2        10000013        28712         Cash\n",
              "3        10000014        28020         Cash\n",
              "4        10000015        27182         Card"
            ]
          },
          "metadata": {
            "tags": []
          },
          "execution_count": 10
        }
      ]
    },
    {
      "cell_type": "code",
      "metadata": {
        "colab": {
          "base_uri": "https://localhost:8080/"
        },
        "id": "p8AAnLhGXnTk",
        "outputId": "26231b0f-d7e1-4f23-e672-45d5763d39c7"
      },
      "source": [
        "numberofrows_1, numberofcolumns_1 = Transaction_ID.shape\n",
        "print(\"There are {} rows and {} columns\".format(numberofrows_1, numberofcolumns_1)+\" in our Transaction_ID Dataset.\")"
      ],
      "execution_count": 11,
      "outputs": [
        {
          "output_type": "stream",
          "text": [
            "There are 440098 rows and 3 columns in our Transaction_ID Dataset.\n"
          ],
          "name": "stdout"
        }
      ]
    },
    {
      "cell_type": "code",
      "metadata": {
        "colab": {
          "base_uri": "https://localhost:8080/"
        },
        "id": "I0lhQGLdYBm4",
        "outputId": "9d85d9ae-01df-4b6d-d1b5-ebd15da75d2a"
      },
      "source": [
        "numberofrows_2, numberofcolumns_2 = City.shape\n",
        "print(\"There are {} rows and {} columns\".format(numberofrows_2, numberofcolumns_2)+\" in our City Dataset.\")"
      ],
      "execution_count": 12,
      "outputs": [
        {
          "output_type": "stream",
          "text": [
            "There are 20 rows and 3 columns in our City Dataset.\n"
          ],
          "name": "stdout"
        }
      ]
    },
    {
      "cell_type": "code",
      "metadata": {
        "colab": {
          "base_uri": "https://localhost:8080/"
        },
        "id": "zvfkp28zjvKk",
        "outputId": "be4cd2f4-b546-4689-acc9-efb0cc7cd492"
      },
      "source": [
        "numberofrows_3, numberofcolumns_3 = Customer_ID.shape\n",
        "print(\"There are {} rows and {} columns\".format(numberofrows_3, numberofcolumns_3)+\" in our Customer_ID Dataset.\")"
      ],
      "execution_count": 13,
      "outputs": [
        {
          "output_type": "stream",
          "text": [
            "There are 49171 rows and 4 columns in our Customer_ID Dataset.\n"
          ],
          "name": "stdout"
        }
      ]
    },
    {
      "cell_type": "code",
      "metadata": {
        "colab": {
          "base_uri": "https://localhost:8080/"
        },
        "id": "5lty4xWIj21M",
        "outputId": "1a7ffa4b-4708-4aba-fab4-0f95c1b33870"
      },
      "source": [
        "numberofrows_4, numberofcolumns_4 = Cab_Data.shape\n",
        "print(\"There are {} rows and {} columns\".format(numberofrows_4, numberofcolumns_4)+\" in our Cab_Data Dataset.\")"
      ],
      "execution_count": 14,
      "outputs": [
        {
          "output_type": "stream",
          "text": [
            "There are 359392 rows and 7 columns in our Cab_Data Dataset.\n"
          ],
          "name": "stdout"
        }
      ]
    },
    {
      "cell_type": "code",
      "metadata": {
        "colab": {
          "base_uri": "https://localhost:8080/",
          "height": 351
        },
        "id": "__iCuBFij9Uc",
        "outputId": "1093bf63-2879-4366-d4c7-dd00a6269139"
      },
      "source": [
        "result_merged= pd.merge(left=Transaction_ID, right=Customer_ID, left_on='Customer ID', right_on='Customer ID')\n",
        "result_merged.head(10)"
      ],
      "execution_count": 15,
      "outputs": [
        {
          "output_type": "execute_result",
          "data": {
            "text/html": [
              "<div>\n",
              "<style scoped>\n",
              "    .dataframe tbody tr th:only-of-type {\n",
              "        vertical-align: middle;\n",
              "    }\n",
              "\n",
              "    .dataframe tbody tr th {\n",
              "        vertical-align: top;\n",
              "    }\n",
              "\n",
              "    .dataframe thead th {\n",
              "        text-align: right;\n",
              "    }\n",
              "</style>\n",
              "<table border=\"1\" class=\"dataframe\">\n",
              "  <thead>\n",
              "    <tr style=\"text-align: right;\">\n",
              "      <th></th>\n",
              "      <th>Transaction ID</th>\n",
              "      <th>Customer ID</th>\n",
              "      <th>Payment_Mode</th>\n",
              "      <th>Gender</th>\n",
              "      <th>Age</th>\n",
              "      <th>Income (USD/Month)</th>\n",
              "    </tr>\n",
              "  </thead>\n",
              "  <tbody>\n",
              "    <tr>\n",
              "      <th>0</th>\n",
              "      <td>10000011</td>\n",
              "      <td>29290</td>\n",
              "      <td>Card</td>\n",
              "      <td>Male</td>\n",
              "      <td>28</td>\n",
              "      <td>10813</td>\n",
              "    </tr>\n",
              "    <tr>\n",
              "      <th>1</th>\n",
              "      <td>10351127</td>\n",
              "      <td>29290</td>\n",
              "      <td>Cash</td>\n",
              "      <td>Male</td>\n",
              "      <td>28</td>\n",
              "      <td>10813</td>\n",
              "    </tr>\n",
              "    <tr>\n",
              "      <th>2</th>\n",
              "      <td>10412921</td>\n",
              "      <td>29290</td>\n",
              "      <td>Card</td>\n",
              "      <td>Male</td>\n",
              "      <td>28</td>\n",
              "      <td>10813</td>\n",
              "    </tr>\n",
              "    <tr>\n",
              "      <th>3</th>\n",
              "      <td>10000012</td>\n",
              "      <td>27703</td>\n",
              "      <td>Card</td>\n",
              "      <td>Male</td>\n",
              "      <td>27</td>\n",
              "      <td>9237</td>\n",
              "    </tr>\n",
              "    <tr>\n",
              "      <th>4</th>\n",
              "      <td>10320494</td>\n",
              "      <td>27703</td>\n",
              "      <td>Card</td>\n",
              "      <td>Male</td>\n",
              "      <td>27</td>\n",
              "      <td>9237</td>\n",
              "    </tr>\n",
              "    <tr>\n",
              "      <th>5</th>\n",
              "      <td>10324737</td>\n",
              "      <td>27703</td>\n",
              "      <td>Cash</td>\n",
              "      <td>Male</td>\n",
              "      <td>27</td>\n",
              "      <td>9237</td>\n",
              "    </tr>\n",
              "    <tr>\n",
              "      <th>6</th>\n",
              "      <td>10395626</td>\n",
              "      <td>27703</td>\n",
              "      <td>Card</td>\n",
              "      <td>Male</td>\n",
              "      <td>27</td>\n",
              "      <td>9237</td>\n",
              "    </tr>\n",
              "    <tr>\n",
              "      <th>7</th>\n",
              "      <td>10000013</td>\n",
              "      <td>28712</td>\n",
              "      <td>Cash</td>\n",
              "      <td>Male</td>\n",
              "      <td>53</td>\n",
              "      <td>11242</td>\n",
              "    </tr>\n",
              "    <tr>\n",
              "      <th>8</th>\n",
              "      <td>10079404</td>\n",
              "      <td>28712</td>\n",
              "      <td>Card</td>\n",
              "      <td>Male</td>\n",
              "      <td>53</td>\n",
              "      <td>11242</td>\n",
              "    </tr>\n",
              "    <tr>\n",
              "      <th>9</th>\n",
              "      <td>10186994</td>\n",
              "      <td>28712</td>\n",
              "      <td>Card</td>\n",
              "      <td>Male</td>\n",
              "      <td>53</td>\n",
              "      <td>11242</td>\n",
              "    </tr>\n",
              "  </tbody>\n",
              "</table>\n",
              "</div>"
            ],
            "text/plain": [
              "   Transaction ID  Customer ID Payment_Mode Gender  Age  Income (USD/Month)\n",
              "0        10000011        29290         Card   Male   28               10813\n",
              "1        10351127        29290         Cash   Male   28               10813\n",
              "2        10412921        29290         Card   Male   28               10813\n",
              "3        10000012        27703         Card   Male   27                9237\n",
              "4        10320494        27703         Card   Male   27                9237\n",
              "5        10324737        27703         Cash   Male   27                9237\n",
              "6        10395626        27703         Card   Male   27                9237\n",
              "7        10000013        28712         Cash   Male   53               11242\n",
              "8        10079404        28712         Card   Male   53               11242\n",
              "9        10186994        28712         Card   Male   53               11242"
            ]
          },
          "metadata": {
            "tags": []
          },
          "execution_count": 15
        }
      ]
    },
    {
      "cell_type": "code",
      "metadata": {
        "colab": {
          "base_uri": "https://localhost:8080/",
          "height": 351
        },
        "id": "F76dD5Dxkyh0",
        "outputId": "959a8119-4cf3-4f09-b622-efbbb4983738"
      },
      "source": [
        "result= pd.merge(left=Transaction_ID, right=Cab_Data , left_on='Transaction ID', right_on='Transaction ID')\n",
        "result.head(10)"
      ],
      "execution_count": 16,
      "outputs": [
        {
          "output_type": "execute_result",
          "data": {
            "text/html": [
              "<div>\n",
              "<style scoped>\n",
              "    .dataframe tbody tr th:only-of-type {\n",
              "        vertical-align: middle;\n",
              "    }\n",
              "\n",
              "    .dataframe tbody tr th {\n",
              "        vertical-align: top;\n",
              "    }\n",
              "\n",
              "    .dataframe thead th {\n",
              "        text-align: right;\n",
              "    }\n",
              "</style>\n",
              "<table border=\"1\" class=\"dataframe\">\n",
              "  <thead>\n",
              "    <tr style=\"text-align: right;\">\n",
              "      <th></th>\n",
              "      <th>Transaction ID</th>\n",
              "      <th>Customer ID</th>\n",
              "      <th>Payment_Mode</th>\n",
              "      <th>Date of Travel</th>\n",
              "      <th>Company</th>\n",
              "      <th>City</th>\n",
              "      <th>KM Travelled</th>\n",
              "      <th>Price Charged</th>\n",
              "      <th>Cost of Trip</th>\n",
              "    </tr>\n",
              "  </thead>\n",
              "  <tbody>\n",
              "    <tr>\n",
              "      <th>0</th>\n",
              "      <td>10000011</td>\n",
              "      <td>29290</td>\n",
              "      <td>Card</td>\n",
              "      <td>42377</td>\n",
              "      <td>Pink Cab</td>\n",
              "      <td>ATLANTA GA</td>\n",
              "      <td>30.45</td>\n",
              "      <td>370.95</td>\n",
              "      <td>313.635</td>\n",
              "    </tr>\n",
              "    <tr>\n",
              "      <th>1</th>\n",
              "      <td>10000012</td>\n",
              "      <td>27703</td>\n",
              "      <td>Card</td>\n",
              "      <td>42375</td>\n",
              "      <td>Pink Cab</td>\n",
              "      <td>ATLANTA GA</td>\n",
              "      <td>28.62</td>\n",
              "      <td>358.52</td>\n",
              "      <td>334.854</td>\n",
              "    </tr>\n",
              "    <tr>\n",
              "      <th>2</th>\n",
              "      <td>10000013</td>\n",
              "      <td>28712</td>\n",
              "      <td>Cash</td>\n",
              "      <td>42371</td>\n",
              "      <td>Pink Cab</td>\n",
              "      <td>ATLANTA GA</td>\n",
              "      <td>9.04</td>\n",
              "      <td>125.20</td>\n",
              "      <td>97.632</td>\n",
              "    </tr>\n",
              "    <tr>\n",
              "      <th>3</th>\n",
              "      <td>10000014</td>\n",
              "      <td>28020</td>\n",
              "      <td>Cash</td>\n",
              "      <td>42376</td>\n",
              "      <td>Pink Cab</td>\n",
              "      <td>ATLANTA GA</td>\n",
              "      <td>33.17</td>\n",
              "      <td>377.40</td>\n",
              "      <td>351.602</td>\n",
              "    </tr>\n",
              "    <tr>\n",
              "      <th>4</th>\n",
              "      <td>10000015</td>\n",
              "      <td>27182</td>\n",
              "      <td>Card</td>\n",
              "      <td>42372</td>\n",
              "      <td>Pink Cab</td>\n",
              "      <td>ATLANTA GA</td>\n",
              "      <td>8.73</td>\n",
              "      <td>114.62</td>\n",
              "      <td>97.776</td>\n",
              "    </tr>\n",
              "    <tr>\n",
              "      <th>5</th>\n",
              "      <td>10000016</td>\n",
              "      <td>27318</td>\n",
              "      <td>Cash</td>\n",
              "      <td>42376</td>\n",
              "      <td>Pink Cab</td>\n",
              "      <td>ATLANTA GA</td>\n",
              "      <td>6.06</td>\n",
              "      <td>72.43</td>\n",
              "      <td>63.024</td>\n",
              "    </tr>\n",
              "    <tr>\n",
              "      <th>6</th>\n",
              "      <td>10000017</td>\n",
              "      <td>33788</td>\n",
              "      <td>Card</td>\n",
              "      <td>42372</td>\n",
              "      <td>Pink Cab</td>\n",
              "      <td>AUSTIN TX</td>\n",
              "      <td>44.00</td>\n",
              "      <td>576.15</td>\n",
              "      <td>475.200</td>\n",
              "    </tr>\n",
              "    <tr>\n",
              "      <th>7</th>\n",
              "      <td>10000018</td>\n",
              "      <td>34106</td>\n",
              "      <td>Card</td>\n",
              "      <td>42376</td>\n",
              "      <td>Pink Cab</td>\n",
              "      <td>AUSTIN TX</td>\n",
              "      <td>35.65</td>\n",
              "      <td>466.10</td>\n",
              "      <td>377.890</td>\n",
              "    </tr>\n",
              "    <tr>\n",
              "      <th>8</th>\n",
              "      <td>10000019</td>\n",
              "      <td>59799</td>\n",
              "      <td>Cash</td>\n",
              "      <td>42381</td>\n",
              "      <td>Pink Cab</td>\n",
              "      <td>BOSTON MA</td>\n",
              "      <td>14.40</td>\n",
              "      <td>191.61</td>\n",
              "      <td>146.880</td>\n",
              "    </tr>\n",
              "    <tr>\n",
              "      <th>9</th>\n",
              "      <td>10000020</td>\n",
              "      <td>57982</td>\n",
              "      <td>Cash</td>\n",
              "      <td>42375</td>\n",
              "      <td>Pink Cab</td>\n",
              "      <td>BOSTON MA</td>\n",
              "      <td>10.89</td>\n",
              "      <td>156.98</td>\n",
              "      <td>113.256</td>\n",
              "    </tr>\n",
              "  </tbody>\n",
              "</table>\n",
              "</div>"
            ],
            "text/plain": [
              "   Transaction ID  Customer ID  ... Price Charged  Cost of Trip\n",
              "0        10000011        29290  ...        370.95       313.635\n",
              "1        10000012        27703  ...        358.52       334.854\n",
              "2        10000013        28712  ...        125.20        97.632\n",
              "3        10000014        28020  ...        377.40       351.602\n",
              "4        10000015        27182  ...        114.62        97.776\n",
              "5        10000016        27318  ...         72.43        63.024\n",
              "6        10000017        33788  ...        576.15       475.200\n",
              "7        10000018        34106  ...        466.10       377.890\n",
              "8        10000019        59799  ...        191.61       146.880\n",
              "9        10000020        57982  ...        156.98       113.256\n",
              "\n",
              "[10 rows x 9 columns]"
            ]
          },
          "metadata": {
            "tags": []
          },
          "execution_count": 16
        }
      ]
    },
    {
      "cell_type": "code",
      "metadata": {
        "colab": {
          "base_uri": "https://localhost:8080/",
          "height": 351
        },
        "id": "EuOE_S1XlPst",
        "outputId": "9bc45ad6-1b50-4e53-8ea2-55507a16dfac"
      },
      "source": [
        "result_all= pd.merge(left=result, right=result_merged, left_on='Transaction ID', right_on='Transaction ID')\n",
        "result_all.head(10)"
      ],
      "execution_count": 17,
      "outputs": [
        {
          "output_type": "execute_result",
          "data": {
            "text/html": [
              "<div>\n",
              "<style scoped>\n",
              "    .dataframe tbody tr th:only-of-type {\n",
              "        vertical-align: middle;\n",
              "    }\n",
              "\n",
              "    .dataframe tbody tr th {\n",
              "        vertical-align: top;\n",
              "    }\n",
              "\n",
              "    .dataframe thead th {\n",
              "        text-align: right;\n",
              "    }\n",
              "</style>\n",
              "<table border=\"1\" class=\"dataframe\">\n",
              "  <thead>\n",
              "    <tr style=\"text-align: right;\">\n",
              "      <th></th>\n",
              "      <th>Transaction ID</th>\n",
              "      <th>Customer ID_x</th>\n",
              "      <th>Payment_Mode_x</th>\n",
              "      <th>Date of Travel</th>\n",
              "      <th>Company</th>\n",
              "      <th>City</th>\n",
              "      <th>KM Travelled</th>\n",
              "      <th>Price Charged</th>\n",
              "      <th>Cost of Trip</th>\n",
              "      <th>Customer ID_y</th>\n",
              "      <th>Payment_Mode_y</th>\n",
              "      <th>Gender</th>\n",
              "      <th>Age</th>\n",
              "      <th>Income (USD/Month)</th>\n",
              "    </tr>\n",
              "  </thead>\n",
              "  <tbody>\n",
              "    <tr>\n",
              "      <th>0</th>\n",
              "      <td>10000011</td>\n",
              "      <td>29290</td>\n",
              "      <td>Card</td>\n",
              "      <td>42377</td>\n",
              "      <td>Pink Cab</td>\n",
              "      <td>ATLANTA GA</td>\n",
              "      <td>30.45</td>\n",
              "      <td>370.95</td>\n",
              "      <td>313.635</td>\n",
              "      <td>29290</td>\n",
              "      <td>Card</td>\n",
              "      <td>Male</td>\n",
              "      <td>28</td>\n",
              "      <td>10813</td>\n",
              "    </tr>\n",
              "    <tr>\n",
              "      <th>1</th>\n",
              "      <td>10000012</td>\n",
              "      <td>27703</td>\n",
              "      <td>Card</td>\n",
              "      <td>42375</td>\n",
              "      <td>Pink Cab</td>\n",
              "      <td>ATLANTA GA</td>\n",
              "      <td>28.62</td>\n",
              "      <td>358.52</td>\n",
              "      <td>334.854</td>\n",
              "      <td>27703</td>\n",
              "      <td>Card</td>\n",
              "      <td>Male</td>\n",
              "      <td>27</td>\n",
              "      <td>9237</td>\n",
              "    </tr>\n",
              "    <tr>\n",
              "      <th>2</th>\n",
              "      <td>10000013</td>\n",
              "      <td>28712</td>\n",
              "      <td>Cash</td>\n",
              "      <td>42371</td>\n",
              "      <td>Pink Cab</td>\n",
              "      <td>ATLANTA GA</td>\n",
              "      <td>9.04</td>\n",
              "      <td>125.20</td>\n",
              "      <td>97.632</td>\n",
              "      <td>28712</td>\n",
              "      <td>Cash</td>\n",
              "      <td>Male</td>\n",
              "      <td>53</td>\n",
              "      <td>11242</td>\n",
              "    </tr>\n",
              "    <tr>\n",
              "      <th>3</th>\n",
              "      <td>10000014</td>\n",
              "      <td>28020</td>\n",
              "      <td>Cash</td>\n",
              "      <td>42376</td>\n",
              "      <td>Pink Cab</td>\n",
              "      <td>ATLANTA GA</td>\n",
              "      <td>33.17</td>\n",
              "      <td>377.40</td>\n",
              "      <td>351.602</td>\n",
              "      <td>28020</td>\n",
              "      <td>Cash</td>\n",
              "      <td>Male</td>\n",
              "      <td>23</td>\n",
              "      <td>23327</td>\n",
              "    </tr>\n",
              "    <tr>\n",
              "      <th>4</th>\n",
              "      <td>10000015</td>\n",
              "      <td>27182</td>\n",
              "      <td>Card</td>\n",
              "      <td>42372</td>\n",
              "      <td>Pink Cab</td>\n",
              "      <td>ATLANTA GA</td>\n",
              "      <td>8.73</td>\n",
              "      <td>114.62</td>\n",
              "      <td>97.776</td>\n",
              "      <td>27182</td>\n",
              "      <td>Card</td>\n",
              "      <td>Male</td>\n",
              "      <td>33</td>\n",
              "      <td>8536</td>\n",
              "    </tr>\n",
              "    <tr>\n",
              "      <th>5</th>\n",
              "      <td>10000016</td>\n",
              "      <td>27318</td>\n",
              "      <td>Cash</td>\n",
              "      <td>42376</td>\n",
              "      <td>Pink Cab</td>\n",
              "      <td>ATLANTA GA</td>\n",
              "      <td>6.06</td>\n",
              "      <td>72.43</td>\n",
              "      <td>63.024</td>\n",
              "      <td>27318</td>\n",
              "      <td>Cash</td>\n",
              "      <td>Male</td>\n",
              "      <td>25</td>\n",
              "      <td>13984</td>\n",
              "    </tr>\n",
              "    <tr>\n",
              "      <th>6</th>\n",
              "      <td>10000017</td>\n",
              "      <td>33788</td>\n",
              "      <td>Card</td>\n",
              "      <td>42372</td>\n",
              "      <td>Pink Cab</td>\n",
              "      <td>AUSTIN TX</td>\n",
              "      <td>44.00</td>\n",
              "      <td>576.15</td>\n",
              "      <td>475.200</td>\n",
              "      <td>33788</td>\n",
              "      <td>Card</td>\n",
              "      <td>Male</td>\n",
              "      <td>23</td>\n",
              "      <td>23788</td>\n",
              "    </tr>\n",
              "    <tr>\n",
              "      <th>7</th>\n",
              "      <td>10000018</td>\n",
              "      <td>34106</td>\n",
              "      <td>Card</td>\n",
              "      <td>42376</td>\n",
              "      <td>Pink Cab</td>\n",
              "      <td>AUSTIN TX</td>\n",
              "      <td>35.65</td>\n",
              "      <td>466.10</td>\n",
              "      <td>377.890</td>\n",
              "      <td>34106</td>\n",
              "      <td>Card</td>\n",
              "      <td>Male</td>\n",
              "      <td>19</td>\n",
              "      <td>19980</td>\n",
              "    </tr>\n",
              "    <tr>\n",
              "      <th>8</th>\n",
              "      <td>10000019</td>\n",
              "      <td>59799</td>\n",
              "      <td>Cash</td>\n",
              "      <td>42381</td>\n",
              "      <td>Pink Cab</td>\n",
              "      <td>BOSTON MA</td>\n",
              "      <td>14.40</td>\n",
              "      <td>191.61</td>\n",
              "      <td>146.880</td>\n",
              "      <td>59799</td>\n",
              "      <td>Cash</td>\n",
              "      <td>Male</td>\n",
              "      <td>33</td>\n",
              "      <td>19271</td>\n",
              "    </tr>\n",
              "    <tr>\n",
              "      <th>9</th>\n",
              "      <td>10000020</td>\n",
              "      <td>57982</td>\n",
              "      <td>Cash</td>\n",
              "      <td>42375</td>\n",
              "      <td>Pink Cab</td>\n",
              "      <td>BOSTON MA</td>\n",
              "      <td>10.89</td>\n",
              "      <td>156.98</td>\n",
              "      <td>113.256</td>\n",
              "      <td>57982</td>\n",
              "      <td>Cash</td>\n",
              "      <td>Male</td>\n",
              "      <td>57</td>\n",
              "      <td>5068</td>\n",
              "    </tr>\n",
              "  </tbody>\n",
              "</table>\n",
              "</div>"
            ],
            "text/plain": [
              "   Transaction ID  Customer ID_x Payment_Mode_x  ...  Gender Age Income (USD/Month)\n",
              "0        10000011          29290           Card  ...    Male  28              10813\n",
              "1        10000012          27703           Card  ...    Male  27               9237\n",
              "2        10000013          28712           Cash  ...    Male  53              11242\n",
              "3        10000014          28020           Cash  ...    Male  23              23327\n",
              "4        10000015          27182           Card  ...    Male  33               8536\n",
              "5        10000016          27318           Cash  ...    Male  25              13984\n",
              "6        10000017          33788           Card  ...    Male  23              23788\n",
              "7        10000018          34106           Card  ...    Male  19              19980\n",
              "8        10000019          59799           Cash  ...    Male  33              19271\n",
              "9        10000020          57982           Cash  ...    Male  57               5068\n",
              "\n",
              "[10 rows x 14 columns]"
            ]
          },
          "metadata": {
            "tags": []
          },
          "execution_count": 17
        }
      ]
    },
    {
      "cell_type": "markdown",
      "metadata": {
        "id": "M66LJOu7lhkN"
      },
      "source": [
        "**DATA** **CLEANING**"
      ]
    },
    {
      "cell_type": "code",
      "metadata": {
        "id": "0InvMuFxxBho"
      },
      "source": [
        "from datetime import datetime, timedelta"
      ],
      "execution_count": 18,
      "outputs": []
    },
    {
      "cell_type": "code",
      "metadata": {
        "id": "JZe1J0l9xDSD"
      },
      "source": [
        "def to_date_format(n):\n",
        "    date_str =(datetime(1899,12,30) + timedelta(n-1)).strftime(\"%d-%m-%Y\")\n",
        "    date_date =  datetime.strptime(date_str, \"%d-%m-%Y\")\n",
        "    return date_date"
      ],
      "execution_count": 19,
      "outputs": []
    },
    {
      "cell_type": "code",
      "metadata": {
        "id": "Or8eIvSSxhMs"
      },
      "source": [
        "result_all['Date of Travel']=result_all['Date of Travel'].apply(lambda x:to_date_format(x))\n"
      ],
      "execution_count": 20,
      "outputs": []
    },
    {
      "cell_type": "code",
      "metadata": {
        "id": "JMx4uDuLxZGf"
      },
      "source": [
        "result_all=result_all.sort_values(by=['Date of Travel'])\n",
        "result_all=result_all.reset_index(drop= True )"
      ],
      "execution_count": 21,
      "outputs": []
    },
    {
      "cell_type": "code",
      "metadata": {
        "colab": {
          "base_uri": "https://localhost:8080/",
          "height": 351
        },
        "id": "IEDNNOOzxL2d",
        "outputId": "40bb6ca6-b390-41ca-e2a3-f963631dae63"
      },
      "source": [
        "result_all.head(10)"
      ],
      "execution_count": 22,
      "outputs": [
        {
          "output_type": "execute_result",
          "data": {
            "text/html": [
              "<div>\n",
              "<style scoped>\n",
              "    .dataframe tbody tr th:only-of-type {\n",
              "        vertical-align: middle;\n",
              "    }\n",
              "\n",
              "    .dataframe tbody tr th {\n",
              "        vertical-align: top;\n",
              "    }\n",
              "\n",
              "    .dataframe thead th {\n",
              "        text-align: right;\n",
              "    }\n",
              "</style>\n",
              "<table border=\"1\" class=\"dataframe\">\n",
              "  <thead>\n",
              "    <tr style=\"text-align: right;\">\n",
              "      <th></th>\n",
              "      <th>Transaction ID</th>\n",
              "      <th>Customer ID_x</th>\n",
              "      <th>Payment_Mode_x</th>\n",
              "      <th>Date of Travel</th>\n",
              "      <th>Company</th>\n",
              "      <th>City</th>\n",
              "      <th>KM Travelled</th>\n",
              "      <th>Price Charged</th>\n",
              "      <th>Cost of Trip</th>\n",
              "      <th>Customer ID_y</th>\n",
              "      <th>Payment_Mode_y</th>\n",
              "      <th>Gender</th>\n",
              "      <th>Age</th>\n",
              "      <th>Income (USD/Month)</th>\n",
              "    </tr>\n",
              "  </thead>\n",
              "  <tbody>\n",
              "    <tr>\n",
              "      <th>0</th>\n",
              "      <td>10001340</td>\n",
              "      <td>52536</td>\n",
              "      <td>Card</td>\n",
              "      <td>2016-01-01</td>\n",
              "      <td>Yellow Cab</td>\n",
              "      <td>WASHINGTON DC</td>\n",
              "      <td>10.20</td>\n",
              "      <td>202.54</td>\n",
              "      <td>135.8640</td>\n",
              "      <td>52536</td>\n",
              "      <td>Card</td>\n",
              "      <td>Male</td>\n",
              "      <td>24</td>\n",
              "      <td>10606</td>\n",
              "    </tr>\n",
              "    <tr>\n",
              "      <th>1</th>\n",
              "      <td>10000640</td>\n",
              "      <td>4844</td>\n",
              "      <td>Cash</td>\n",
              "      <td>2016-01-01</td>\n",
              "      <td>Yellow Cab</td>\n",
              "      <td>CHICAGO IL</td>\n",
              "      <td>15.60</td>\n",
              "      <td>374.66</td>\n",
              "      <td>209.6640</td>\n",
              "      <td>4844</td>\n",
              "      <td>Cash</td>\n",
              "      <td>Male</td>\n",
              "      <td>32</td>\n",
              "      <td>5548</td>\n",
              "    </tr>\n",
              "    <tr>\n",
              "      <th>2</th>\n",
              "      <td>10000635</td>\n",
              "      <td>5671</td>\n",
              "      <td>Cash</td>\n",
              "      <td>2016-01-01</td>\n",
              "      <td>Yellow Cab</td>\n",
              "      <td>CHICAGO IL</td>\n",
              "      <td>25.08</td>\n",
              "      <td>532.83</td>\n",
              "      <td>337.0752</td>\n",
              "      <td>5671</td>\n",
              "      <td>Cash</td>\n",
              "      <td>Male</td>\n",
              "      <td>24</td>\n",
              "      <td>7081</td>\n",
              "    </tr>\n",
              "    <tr>\n",
              "      <th>3</th>\n",
              "      <td>10001001</td>\n",
              "      <td>2761</td>\n",
              "      <td>Card</td>\n",
              "      <td>2016-01-01</td>\n",
              "      <td>Yellow Cab</td>\n",
              "      <td>NEW YORK NY</td>\n",
              "      <td>46.80</td>\n",
              "      <td>1391.91</td>\n",
              "      <td>595.2960</td>\n",
              "      <td>2761</td>\n",
              "      <td>Card</td>\n",
              "      <td>Male</td>\n",
              "      <td>40</td>\n",
              "      <td>11462</td>\n",
              "    </tr>\n",
              "    <tr>\n",
              "      <th>4</th>\n",
              "      <td>10000171</td>\n",
              "      <td>20687</td>\n",
              "      <td>Cash</td>\n",
              "      <td>2016-01-01</td>\n",
              "      <td>Pink Cab</td>\n",
              "      <td>SAN DIEGO CA</td>\n",
              "      <td>14.28</td>\n",
              "      <td>269.15</td>\n",
              "      <td>147.0840</td>\n",
              "      <td>20687</td>\n",
              "      <td>Cash</td>\n",
              "      <td>Male</td>\n",
              "      <td>39</td>\n",
              "      <td>8926</td>\n",
              "    </tr>\n",
              "    <tr>\n",
              "      <th>5</th>\n",
              "      <td>10001009</td>\n",
              "      <td>21481</td>\n",
              "      <td>Card</td>\n",
              "      <td>2016-01-01</td>\n",
              "      <td>Yellow Cab</td>\n",
              "      <td>PHOENIX AZ</td>\n",
              "      <td>30.00</td>\n",
              "      <td>1000.52</td>\n",
              "      <td>403.2000</td>\n",
              "      <td>21481</td>\n",
              "      <td>Card</td>\n",
              "      <td>Male</td>\n",
              "      <td>28</td>\n",
              "      <td>18030</td>\n",
              "    </tr>\n",
              "    <tr>\n",
              "      <th>6</th>\n",
              "      <td>10000605</td>\n",
              "      <td>3251</td>\n",
              "      <td>Cash</td>\n",
              "      <td>2016-01-01</td>\n",
              "      <td>Yellow Cab</td>\n",
              "      <td>CHICAGO IL</td>\n",
              "      <td>35.52</td>\n",
              "      <td>760.86</td>\n",
              "      <td>430.5024</td>\n",
              "      <td>3251</td>\n",
              "      <td>Cash</td>\n",
              "      <td>Male</td>\n",
              "      <td>23</td>\n",
              "      <td>13077</td>\n",
              "    </tr>\n",
              "    <tr>\n",
              "      <th>7</th>\n",
              "      <td>10001014</td>\n",
              "      <td>47687</td>\n",
              "      <td>Card</td>\n",
              "      <td>2016-01-01</td>\n",
              "      <td>Yellow Cab</td>\n",
              "      <td>SACRAMENTO CA</td>\n",
              "      <td>38.00</td>\n",
              "      <td>1065.42</td>\n",
              "      <td>547.2000</td>\n",
              "      <td>47687</td>\n",
              "      <td>Card</td>\n",
              "      <td>Male</td>\n",
              "      <td>25</td>\n",
              "      <td>16088</td>\n",
              "    </tr>\n",
              "    <tr>\n",
              "      <th>8</th>\n",
              "      <td>10000600</td>\n",
              "      <td>3363</td>\n",
              "      <td>Cash</td>\n",
              "      <td>2016-01-01</td>\n",
              "      <td>Yellow Cab</td>\n",
              "      <td>CHICAGO IL</td>\n",
              "      <td>23.75</td>\n",
              "      <td>531.25</td>\n",
              "      <td>336.3000</td>\n",
              "      <td>3363</td>\n",
              "      <td>Cash</td>\n",
              "      <td>Male</td>\n",
              "      <td>31</td>\n",
              "      <td>23320</td>\n",
              "    </tr>\n",
              "    <tr>\n",
              "      <th>9</th>\n",
              "      <td>10000182</td>\n",
              "      <td>18418</td>\n",
              "      <td>Cash</td>\n",
              "      <td>2016-01-01</td>\n",
              "      <td>Pink Cab</td>\n",
              "      <td>SAN DIEGO CA</td>\n",
              "      <td>2.36</td>\n",
              "      <td>47.89</td>\n",
              "      <td>23.6000</td>\n",
              "      <td>18418</td>\n",
              "      <td>Cash</td>\n",
              "      <td>Male</td>\n",
              "      <td>39</td>\n",
              "      <td>13112</td>\n",
              "    </tr>\n",
              "  </tbody>\n",
              "</table>\n",
              "</div>"
            ],
            "text/plain": [
              "   Transaction ID  Customer ID_x Payment_Mode_x  ... Gender Age Income (USD/Month)\n",
              "0        10001340          52536           Card  ...   Male  24              10606\n",
              "1        10000640           4844           Cash  ...   Male  32               5548\n",
              "2        10000635           5671           Cash  ...   Male  24               7081\n",
              "3        10001001           2761           Card  ...   Male  40              11462\n",
              "4        10000171          20687           Cash  ...   Male  39               8926\n",
              "5        10001009          21481           Card  ...   Male  28              18030\n",
              "6        10000605           3251           Cash  ...   Male  23              13077\n",
              "7        10001014          47687           Card  ...   Male  25              16088\n",
              "8        10000600           3363           Cash  ...   Male  31              23320\n",
              "9        10000182          18418           Cash  ...   Male  39              13112\n",
              "\n",
              "[10 rows x 14 columns]"
            ]
          },
          "metadata": {
            "tags": []
          },
          "execution_count": 22
        }
      ]
    },
    {
      "cell_type": "code",
      "metadata": {
        "colab": {
          "base_uri": "https://localhost:8080/"
        },
        "id": "ncJcPZ0_mHOC",
        "outputId": "eff4a58f-0c67-4603-9de1-1b98ba06b5df"
      },
      "source": [
        "result_all.columns"
      ],
      "execution_count": 23,
      "outputs": [
        {
          "output_type": "execute_result",
          "data": {
            "text/plain": [
              "Index(['Transaction ID', 'Customer ID_x', 'Payment_Mode_x', 'Date of Travel',\n",
              "       'Company', 'City', 'KM Travelled', 'Price Charged', 'Cost of Trip',\n",
              "       'Customer ID_y', 'Payment_Mode_y', 'Gender', 'Age',\n",
              "       'Income (USD/Month)'],\n",
              "      dtype='object')"
            ]
          },
          "metadata": {
            "tags": []
          },
          "execution_count": 23
        }
      ]
    },
    {
      "cell_type": "code",
      "metadata": {
        "colab": {
          "base_uri": "https://localhost:8080/"
        },
        "id": "ZWeoNF97mQHM",
        "outputId": "60b1fb78-2cd9-43d9-9d05-b6c352a675e3"
      },
      "source": [
        "result_all.isnull().sum().sum()"
      ],
      "execution_count": 24,
      "outputs": [
        {
          "output_type": "execute_result",
          "data": {
            "text/plain": [
              "0"
            ]
          },
          "metadata": {
            "tags": []
          },
          "execution_count": 24
        }
      ]
    },
    {
      "cell_type": "markdown",
      "metadata": {
        "id": "FOWeyarEmXtF"
      },
      "source": [
        "ADD THIS TO PRESENTATION\n"
      ]
    },
    {
      "cell_type": "code",
      "metadata": {
        "colab": {
          "base_uri": "https://localhost:8080/",
          "height": 737
        },
        "id": "nhoWNSuemR-9",
        "outputId": "e1a21b99-fc52-4e89-d929-71f017292c8a"
      },
      "source": [
        "import missingno as msno\n",
        "%matplotlib inline\n",
        "msno.matrix(result_all)"
      ],
      "execution_count": 25,
      "outputs": [
        {
          "output_type": "execute_result",
          "data": {
            "text/plain": [
              "<matplotlib.axes._subplots.AxesSubplot at 0x7f82f9a15e90>"
            ]
          },
          "metadata": {
            "tags": []
          },
          "execution_count": 25
        },
        {
          "output_type": "display_data",
          "data": {
            "image/png": "[encoded data removed]",
            "text/plain": [
              "<Figure size 1800x720 with 2 Axes>"
            ]
          },
          "metadata": {
            "tags": [],
            "needs_background": "light"
          }
        }
      ]
    },
    {
      "cell_type": "markdown",
      "metadata": {
        "id": "ZQN6EMsbb6PG"
      },
      "source": [
        "No missing attributes in our datasets."
      ]
    },
    {
      "cell_type": "code",
      "metadata": {
        "colab": {
          "base_uri": "https://localhost:8080/"
        },
        "id": "jgUEEWfimbMI",
        "outputId": "1411c935-e29a-410e-a3b1-64e05f0222fa"
      },
      "source": [
        "print('\\nNumber of missing values by columns :') \n",
        "result_all.isnull().sum()"
      ],
      "execution_count": 26,
      "outputs": [
        {
          "output_type": "stream",
          "text": [
            "\n",
            "Number of missing values by columns :\n"
          ],
          "name": "stdout"
        },
        {
          "output_type": "execute_result",
          "data": {
            "text/plain": [
              "Transaction ID        0\n",
              "Customer ID_x         0\n",
              "Payment_Mode_x        0\n",
              "Date of Travel        0\n",
              "Company               0\n",
              "City                  0\n",
              "KM Travelled          0\n",
              "Price Charged         0\n",
              "Cost of Trip          0\n",
              "Customer ID_y         0\n",
              "Payment_Mode_y        0\n",
              "Gender                0\n",
              "Age                   0\n",
              "Income (USD/Month)    0\n",
              "dtype: int64"
            ]
          },
          "metadata": {
            "tags": []
          },
          "execution_count": 26
        }
      ]
    },
    {
      "cell_type": "code",
      "metadata": {
        "colab": {
          "base_uri": "https://localhost:8080/",
          "height": 108
        },
        "id": "-d7IAvk3mfzo",
        "outputId": "0fcb367b-0d8f-433c-d6c4-9d42bf9e6f1d"
      },
      "source": [
        "result_all.drop([\"Payment_Mode_y\", \"Customer ID_y\"],axis=1,inplace=True)\n",
        "result_all .head(2)"
      ],
      "execution_count": 27,
      "outputs": [
        {
          "output_type": "execute_result",
          "data": {
            "text/html": [
              "<div>\n",
              "<style scoped>\n",
              "    .dataframe tbody tr th:only-of-type {\n",
              "        vertical-align: middle;\n",
              "    }\n",
              "\n",
              "    .dataframe tbody tr th {\n",
              "        vertical-align: top;\n",
              "    }\n",
              "\n",
              "    .dataframe thead th {\n",
              "        text-align: right;\n",
              "    }\n",
              "</style>\n",
              "<table border=\"1\" class=\"dataframe\">\n",
              "  <thead>\n",
              "    <tr style=\"text-align: right;\">\n",
              "      <th></th>\n",
              "      <th>Transaction ID</th>\n",
              "      <th>Customer ID_x</th>\n",
              "      <th>Payment_Mode_x</th>\n",
              "      <th>Date of Travel</th>\n",
              "      <th>Company</th>\n",
              "      <th>City</th>\n",
              "      <th>KM Travelled</th>\n",
              "      <th>Price Charged</th>\n",
              "      <th>Cost of Trip</th>\n",
              "      <th>Gender</th>\n",
              "      <th>Age</th>\n",
              "      <th>Income (USD/Month)</th>\n",
              "    </tr>\n",
              "  </thead>\n",
              "  <tbody>\n",
              "    <tr>\n",
              "      <th>0</th>\n",
              "      <td>10001340</td>\n",
              "      <td>52536</td>\n",
              "      <td>Card</td>\n",
              "      <td>2016-01-01</td>\n",
              "      <td>Yellow Cab</td>\n",
              "      <td>WASHINGTON DC</td>\n",
              "      <td>10.2</td>\n",
              "      <td>202.54</td>\n",
              "      <td>135.864</td>\n",
              "      <td>Male</td>\n",
              "      <td>24</td>\n",
              "      <td>10606</td>\n",
              "    </tr>\n",
              "    <tr>\n",
              "      <th>1</th>\n",
              "      <td>10000640</td>\n",
              "      <td>4844</td>\n",
              "      <td>Cash</td>\n",
              "      <td>2016-01-01</td>\n",
              "      <td>Yellow Cab</td>\n",
              "      <td>CHICAGO IL</td>\n",
              "      <td>15.6</td>\n",
              "      <td>374.66</td>\n",
              "      <td>209.664</td>\n",
              "      <td>Male</td>\n",
              "      <td>32</td>\n",
              "      <td>5548</td>\n",
              "    </tr>\n",
              "  </tbody>\n",
              "</table>\n",
              "</div>"
            ],
            "text/plain": [
              "   Transaction ID  Customer ID_x Payment_Mode_x  ... Gender Age Income (USD/Month)\n",
              "0        10001340          52536           Card  ...   Male  24              10606\n",
              "1        10000640           4844           Cash  ...   Male  32               5548\n",
              "\n",
              "[2 rows x 12 columns]"
            ]
          },
          "metadata": {
            "tags": []
          },
          "execution_count": 27
        }
      ]
    },
    {
      "cell_type": "code",
      "metadata": {
        "colab": {
          "base_uri": "https://localhost:8080/",
          "height": 200
        },
        "id": "FNWjpPkynlos",
        "outputId": "d5dc5abf-e497-4d3d-8641-dc20d5d60ca1"
      },
      "source": [
        "result_all.rename(columns={\"Customer ID_x\":\"Customer ID\",\"Payment_Mode_x\":\"Payment Mode\"}, inplace=True)\n",
        "result_all.head(5)"
      ],
      "execution_count": 28,
      "outputs": [
        {
          "output_type": "execute_result",
          "data": {
            "text/html": [
              "<div>\n",
              "<style scoped>\n",
              "    .dataframe tbody tr th:only-of-type {\n",
              "        vertical-align: middle;\n",
              "    }\n",
              "\n",
              "    .dataframe tbody tr th {\n",
              "        vertical-align: top;\n",
              "    }\n",
              "\n",
              "    .dataframe thead th {\n",
              "        text-align: right;\n",
              "    }\n",
              "</style>\n",
              "<table border=\"1\" class=\"dataframe\">\n",
              "  <thead>\n",
              "    <tr style=\"text-align: right;\">\n",
              "      <th></th>\n",
              "      <th>Transaction ID</th>\n",
              "      <th>Customer ID</th>\n",
              "      <th>Payment Mode</th>\n",
              "      <th>Date of Travel</th>\n",
              "      <th>Company</th>\n",
              "      <th>City</th>\n",
              "      <th>KM Travelled</th>\n",
              "      <th>Price Charged</th>\n",
              "      <th>Cost of Trip</th>\n",
              "      <th>Gender</th>\n",
              "      <th>Age</th>\n",
              "      <th>Income (USD/Month)</th>\n",
              "    </tr>\n",
              "  </thead>\n",
              "  <tbody>\n",
              "    <tr>\n",
              "      <th>0</th>\n",
              "      <td>10001340</td>\n",
              "      <td>52536</td>\n",
              "      <td>Card</td>\n",
              "      <td>2016-01-01</td>\n",
              "      <td>Yellow Cab</td>\n",
              "      <td>WASHINGTON DC</td>\n",
              "      <td>10.20</td>\n",
              "      <td>202.54</td>\n",
              "      <td>135.8640</td>\n",
              "      <td>Male</td>\n",
              "      <td>24</td>\n",
              "      <td>10606</td>\n",
              "    </tr>\n",
              "    <tr>\n",
              "      <th>1</th>\n",
              "      <td>10000640</td>\n",
              "      <td>4844</td>\n",
              "      <td>Cash</td>\n",
              "      <td>2016-01-01</td>\n",
              "      <td>Yellow Cab</td>\n",
              "      <td>CHICAGO IL</td>\n",
              "      <td>15.60</td>\n",
              "      <td>374.66</td>\n",
              "      <td>209.6640</td>\n",
              "      <td>Male</td>\n",
              "      <td>32</td>\n",
              "      <td>5548</td>\n",
              "    </tr>\n",
              "    <tr>\n",
              "      <th>2</th>\n",
              "      <td>10000635</td>\n",
              "      <td>5671</td>\n",
              "      <td>Cash</td>\n",
              "      <td>2016-01-01</td>\n",
              "      <td>Yellow Cab</td>\n",
              "      <td>CHICAGO IL</td>\n",
              "      <td>25.08</td>\n",
              "      <td>532.83</td>\n",
              "      <td>337.0752</td>\n",
              "      <td>Male</td>\n",
              "      <td>24</td>\n",
              "      <td>7081</td>\n",
              "    </tr>\n",
              "    <tr>\n",
              "      <th>3</th>\n",
              "      <td>10001001</td>\n",
              "      <td>2761</td>\n",
              "      <td>Card</td>\n",
              "      <td>2016-01-01</td>\n",
              "      <td>Yellow Cab</td>\n",
              "      <td>NEW YORK NY</td>\n",
              "      <td>46.80</td>\n",
              "      <td>1391.91</td>\n",
              "      <td>595.2960</td>\n",
              "      <td>Male</td>\n",
              "      <td>40</td>\n",
              "      <td>11462</td>\n",
              "    </tr>\n",
              "    <tr>\n",
              "      <th>4</th>\n",
              "      <td>10000171</td>\n",
              "      <td>20687</td>\n",
              "      <td>Cash</td>\n",
              "      <td>2016-01-01</td>\n",
              "      <td>Pink Cab</td>\n",
              "      <td>SAN DIEGO CA</td>\n",
              "      <td>14.28</td>\n",
              "      <td>269.15</td>\n",
              "      <td>147.0840</td>\n",
              "      <td>Male</td>\n",
              "      <td>39</td>\n",
              "      <td>8926</td>\n",
              "    </tr>\n",
              "  </tbody>\n",
              "</table>\n",
              "</div>"
            ],
            "text/plain": [
              "   Transaction ID  Customer ID Payment Mode  ... Gender Age Income (USD/Month)\n",
              "0        10001340        52536         Card  ...   Male  24              10606\n",
              "1        10000640         4844         Cash  ...   Male  32               5548\n",
              "2        10000635         5671         Cash  ...   Male  24               7081\n",
              "3        10001001         2761         Card  ...   Male  40              11462\n",
              "4        10000171        20687         Cash  ...   Male  39               8926\n",
              "\n",
              "[5 rows x 12 columns]"
            ]
          },
          "metadata": {
            "tags": []
          },
          "execution_count": 28
        }
      ]
    },
    {
      "cell_type": "code",
      "metadata": {
        "colab": {
          "base_uri": "https://localhost:8080/",
          "height": 281
        },
        "id": "Dhy0ZXSQQ5mu",
        "outputId": "dc3cde50-3784-420d-e2e8-d52c5a3beb79"
      },
      "source": [
        "result_all.rename(columns={\"Payment Mode\":\"Payment_Mode\"}, inplace=True)\n",
        "result_all.head(5)"
      ],
      "execution_count": 63,
      "outputs": [
        {
          "output_type": "execute_result",
          "data": {
            "text/html": [
              "<div>\n",
              "<style scoped>\n",
              "    .dataframe tbody tr th:only-of-type {\n",
              "        vertical-align: middle;\n",
              "    }\n",
              "\n",
              "    .dataframe tbody tr th {\n",
              "        vertical-align: top;\n",
              "    }\n",
              "\n",
              "    .dataframe thead th {\n",
              "        text-align: right;\n",
              "    }\n",
              "</style>\n",
              "<table border=\"1\" class=\"dataframe\">\n",
              "  <thead>\n",
              "    <tr style=\"text-align: right;\">\n",
              "      <th></th>\n",
              "      <th>Transaction_ID</th>\n",
              "      <th>Customer ID</th>\n",
              "      <th>Payment_Mode</th>\n",
              "      <th>Date of Travel</th>\n",
              "      <th>Company</th>\n",
              "      <th>City</th>\n",
              "      <th>KM Travelled</th>\n",
              "      <th>Price Charged</th>\n",
              "      <th>Cost of Trip</th>\n",
              "      <th>Gender</th>\n",
              "      <th>Age</th>\n",
              "      <th>Income (USD/Month)</th>\n",
              "      <th>company</th>\n",
              "      <th>Month of Travel</th>\n",
              "      <th>Year of Travel</th>\n",
              "      <th>Profit</th>\n",
              "    </tr>\n",
              "  </thead>\n",
              "  <tbody>\n",
              "    <tr>\n",
              "      <th>0</th>\n",
              "      <td>10001340</td>\n",
              "      <td>52536</td>\n",
              "      <td>Card</td>\n",
              "      <td>2016-01-01</td>\n",
              "      <td>Yellow Cab</td>\n",
              "      <td>WASHINGTON DC</td>\n",
              "      <td>10.20</td>\n",
              "      <td>202.54</td>\n",
              "      <td>135.8640</td>\n",
              "      <td>Male</td>\n",
              "      <td>24</td>\n",
              "      <td>10606</td>\n",
              "      <td>1.0</td>\n",
              "      <td>1</td>\n",
              "      <td>2016</td>\n",
              "      <td>66.6760</td>\n",
              "    </tr>\n",
              "    <tr>\n",
              "      <th>1</th>\n",
              "      <td>10000640</td>\n",
              "      <td>4844</td>\n",
              "      <td>Cash</td>\n",
              "      <td>2016-01-01</td>\n",
              "      <td>Yellow Cab</td>\n",
              "      <td>CHICAGO IL</td>\n",
              "      <td>15.60</td>\n",
              "      <td>374.66</td>\n",
              "      <td>209.6640</td>\n",
              "      <td>Male</td>\n",
              "      <td>32</td>\n",
              "      <td>5548</td>\n",
              "      <td>1.0</td>\n",
              "      <td>1</td>\n",
              "      <td>2016</td>\n",
              "      <td>164.9960</td>\n",
              "    </tr>\n",
              "    <tr>\n",
              "      <th>2</th>\n",
              "      <td>10000635</td>\n",
              "      <td>5671</td>\n",
              "      <td>Cash</td>\n",
              "      <td>2016-01-01</td>\n",
              "      <td>Yellow Cab</td>\n",
              "      <td>CHICAGO IL</td>\n",
              "      <td>25.08</td>\n",
              "      <td>532.83</td>\n",
              "      <td>337.0752</td>\n",
              "      <td>Male</td>\n",
              "      <td>24</td>\n",
              "      <td>7081</td>\n",
              "      <td>1.0</td>\n",
              "      <td>1</td>\n",
              "      <td>2016</td>\n",
              "      <td>195.7548</td>\n",
              "    </tr>\n",
              "    <tr>\n",
              "      <th>4</th>\n",
              "      <td>10000171</td>\n",
              "      <td>20687</td>\n",
              "      <td>Cash</td>\n",
              "      <td>2016-01-01</td>\n",
              "      <td>Pink Cab</td>\n",
              "      <td>SAN DIEGO CA</td>\n",
              "      <td>14.28</td>\n",
              "      <td>269.15</td>\n",
              "      <td>147.0840</td>\n",
              "      <td>Male</td>\n",
              "      <td>39</td>\n",
              "      <td>8926</td>\n",
              "      <td>0.0</td>\n",
              "      <td>1</td>\n",
              "      <td>2016</td>\n",
              "      <td>122.0660</td>\n",
              "    </tr>\n",
              "    <tr>\n",
              "      <th>5</th>\n",
              "      <td>10001009</td>\n",
              "      <td>21481</td>\n",
              "      <td>Card</td>\n",
              "      <td>2016-01-01</td>\n",
              "      <td>Yellow Cab</td>\n",
              "      <td>PHOENIX AZ</td>\n",
              "      <td>30.00</td>\n",
              "      <td>1000.52</td>\n",
              "      <td>403.2000</td>\n",
              "      <td>Male</td>\n",
              "      <td>28</td>\n",
              "      <td>18030</td>\n",
              "      <td>1.0</td>\n",
              "      <td>1</td>\n",
              "      <td>2016</td>\n",
              "      <td>597.3200</td>\n",
              "    </tr>\n",
              "  </tbody>\n",
              "</table>\n",
              "</div>"
            ],
            "text/plain": [
              "   Transaction_ID  Customer ID  ... Year of Travel    Profit\n",
              "0        10001340        52536  ...           2016   66.6760\n",
              "1        10000640         4844  ...           2016  164.9960\n",
              "2        10000635         5671  ...           2016  195.7548\n",
              "4        10000171        20687  ...           2016  122.0660\n",
              "5        10001009        21481  ...           2016  597.3200\n",
              "\n",
              "[5 rows x 16 columns]"
            ]
          },
          "metadata": {
            "tags": []
          },
          "execution_count": 63
        }
      ]
    },
    {
      "cell_type": "code",
      "metadata": {
        "colab": {
          "base_uri": "https://localhost:8080/"
        },
        "id": "GGeKbdQTomoN",
        "outputId": "a53712c4-b022-41d4-957e-d08956390603"
      },
      "source": [
        "result_all.info()"
      ],
      "execution_count": 29,
      "outputs": [
        {
          "output_type": "stream",
          "text": [
            "<class 'pandas.core.frame.DataFrame'>\n",
            "RangeIndex: 359392 entries, 0 to 359391\n",
            "Data columns (total 12 columns):\n",
            " #   Column              Non-Null Count   Dtype         \n",
            "---  ------              --------------   -----         \n",
            " 0   Transaction ID      359392 non-null  int64         \n",
            " 1   Customer ID         359392 non-null  int64         \n",
            " 2   Payment Mode        359392 non-null  object        \n",
            " 3   Date of Travel      359392 non-null  datetime64[ns]\n",
            " 4   Company             359392 non-null  object        \n",
            " 5   City                359392 non-null  object        \n",
            " 6   KM Travelled        359392 non-null  float64       \n",
            " 7   Price Charged       359392 non-null  float64       \n",
            " 8   Cost of Trip        359392 non-null  float64       \n",
            " 9   Gender              359392 non-null  object        \n",
            " 10  Age                 359392 non-null  int64         \n",
            " 11  Income (USD/Month)  359392 non-null  int64         \n",
            "dtypes: datetime64[ns](1), float64(3), int64(4), object(4)\n",
            "memory usage: 32.9+ MB\n"
          ],
          "name": "stdout"
        }
      ]
    },
    {
      "cell_type": "markdown",
      "metadata": {
        "id": "D1UGiS1Wr1cO"
      },
      "source": [
        "**REMOVING** **OUTLIERS**"
      ]
    },
    {
      "cell_type": "code",
      "metadata": {
        "id": "GaZ_D9AHoqMJ"
      },
      "source": [
        "from scipy import stats\n",
        "\n",
        "def drop_numerical_outliers(df, z_thresh=3):\n",
        "    # Constrains will contain `True` or `False` depending on if it is a value below the threshold.\n",
        "    constrains = df.select_dtypes(include=[np.number]) \\\n",
        "        .apply(lambda x: np.abs(stats.zscore(x)) < z_thresh) \\\n",
        "        .all(axis=1)\n",
        "    # Drop (inplace) values set to be rejected\n",
        "    df.drop(df.index[~constrains], inplace=True)"
      ],
      "execution_count": 30,
      "outputs": []
    },
    {
      "cell_type": "code",
      "metadata": {
        "id": "H4jzDH6bq9u1"
      },
      "source": [
        "drop_numerical_outliers(result_all)"
      ],
      "execution_count": 31,
      "outputs": []
    },
    {
      "cell_type": "code",
      "metadata": {
        "id": "JFi9rOY-cIgo"
      },
      "source": [
        "no spesific outliers here."
      ],
      "execution_count": null,
      "outputs": []
    },
    {
      "cell_type": "code",
      "metadata": {
        "colab": {
          "base_uri": "https://localhost:8080/"
        },
        "id": "c1bGsgT0vthg",
        "outputId": "e29f0ced-17b7-4af2-f390-f8bf43c4050e"
      },
      "source": [
        "result_all['Company'].value_counts()"
      ],
      "execution_count": 33,
      "outputs": [
        {
          "output_type": "execute_result",
          "data": {
            "text/plain": [
              "Yellow Cab    271495\n",
              "Pink Cab       84702\n",
              "Name: Company, dtype: int64"
            ]
          },
          "metadata": {
            "tags": []
          },
          "execution_count": 33
        }
      ]
    },
    {
      "cell_type": "markdown",
      "metadata": {
        "id": "uspmViIUcST4"
      },
      "source": [
        "yellow cab useage is more common than pink cab usage."
      ]
    },
    {
      "cell_type": "code",
      "metadata": {
        "colab": {
          "base_uri": "https://localhost:8080/"
        },
        "id": "kh4Iba4zw4_a",
        "outputId": "b8b80c61-4386-4623-f554-ae8e69c15cbd"
      },
      "source": [
        "result_all['KM Travelled'].value_counts()"
      ],
      "execution_count": 34,
      "outputs": [
        {
          "output_type": "execute_result",
          "data": {
            "text/plain": [
              "33.60    1526\n",
              "24.00    1080\n",
              "22.80    1075\n",
              "16.80    1065\n",
              "35.70    1058\n",
              "         ... \n",
              "41.07     300\n",
              "42.40     296\n",
              "21.84     293\n",
              "39.39     290\n",
              "44.84     283\n",
              "Name: KM Travelled, Length: 874, dtype: int64"
            ]
          },
          "metadata": {
            "tags": []
          },
          "execution_count": 34
        }
      ]
    },
    {
      "cell_type": "code",
      "metadata": {
        "id": "dc3QGjT7xA0F"
      },
      "source": [
        "result_all['Payment Mode'].value_counts()"
      ],
      "execution_count": null,
      "outputs": []
    },
    {
      "cell_type": "markdown",
      "metadata": {
        "id": "D-rxmDMpxb_U"
      },
      "source": [
        "Customers used card more as paymnet method."
      ]
    },
    {
      "cell_type": "code",
      "metadata": {
        "id": "FPO6i2GixjpK"
      },
      "source": [
        "result_all['Gender'].value_counts()"
      ],
      "execution_count": null,
      "outputs": []
    },
    {
      "cell_type": "markdown",
      "metadata": {
        "id": "4yDGQuPex3gq"
      },
      "source": [
        "Gender male is more frequent."
      ]
    },
    {
      "cell_type": "code",
      "metadata": {
        "id": "BBGoJ31Fx8Yt"
      },
      "source": [
        "result_all['Age'].value_counts(ascending=True)"
      ],
      "execution_count": null,
      "outputs": []
    },
    {
      "cell_type": "markdown",
      "metadata": {
        "id": "yyg785Y4yO_2"
      },
      "source": [
        "The age for cab usage is most frequent at age 20-35,elders don't use cab as much as them."
      ]
    },
    {
      "cell_type": "code",
      "metadata": {
        "id": "fn4nQOVgyc9V"
      },
      "source": [
        "result_all['Income (USD/Month)'].value_counts()"
      ],
      "execution_count": null,
      "outputs": []
    },
    {
      "cell_type": "code",
      "metadata": {
        "id": "AZaGaUz9u32D"
      },
      "source": [
        "result_all['City'].value_counts()"
      ],
      "execution_count": null,
      "outputs": []
    },
    {
      "cell_type": "code",
      "metadata": {
        "id": "v4o9z4vKv1uL"
      },
      "source": [
        "result_all['Transaction ID'].value_counts()"
      ],
      "execution_count": null,
      "outputs": []
    },
    {
      "cell_type": "code",
      "metadata": {
        "id": "c2-hwFS2zZFS"
      },
      "source": [
        "profit=result_all['Price Charged']-result_all['Cost of Trip']\n",
        "result_all['Profit']= profit"
      ],
      "execution_count": 47,
      "outputs": []
    },
    {
      "cell_type": "code",
      "metadata": {
        "id": "PdvNgEJ52UYU"
      },
      "source": [
        "correlations = result_all.corr()\n",
        "correlations"
      ],
      "execution_count": null,
      "outputs": []
    },
    {
      "cell_type": "markdown",
      "metadata": {
        "id": "sdXqiDPAcj23"
      },
      "source": [
        "Proift is obviously correlated to price charged,cost of trip\n",
        " km travelled,"
      ]
    },
    {
      "cell_type": "code",
      "metadata": {
        "id": "7OQXQve02m_b"
      },
      "source": [
        "print(correlations[\"Profit\"])"
      ],
      "execution_count": null,
      "outputs": []
    },
    {
      "cell_type": "code",
      "metadata": {
        "colab": {
          "base_uri": "https://localhost:8080/",
          "height": 200
        },
        "id": "1V7hhEBd51iY",
        "outputId": "bc12d140-487f-4091-e7b4-b73f4de1debd"
      },
      "source": [
        "from sklearn.preprocessing import OrdinalEncoder\n",
        "\n",
        "ord_enc = OrdinalEncoder()\n",
        "result_all[\"company\"] = ord_enc.fit_transform(result_all[[\"Company\"]])\n",
        "result_all.head(5)\n"
      ],
      "execution_count": 35,
      "outputs": [
        {
          "output_type": "execute_result",
          "data": {
            "text/html": [
              "<div>\n",
              "<style scoped>\n",
              "    .dataframe tbody tr th:only-of-type {\n",
              "        vertical-align: middle;\n",
              "    }\n",
              "\n",
              "    .dataframe tbody tr th {\n",
              "        vertical-align: top;\n",
              "    }\n",
              "\n",
              "    .dataframe thead th {\n",
              "        text-align: right;\n",
              "    }\n",
              "</style>\n",
              "<table border=\"1\" class=\"dataframe\">\n",
              "  <thead>\n",
              "    <tr style=\"text-align: right;\">\n",
              "      <th></th>\n",
              "      <th>Transaction ID</th>\n",
              "      <th>Customer ID</th>\n",
              "      <th>Payment Mode</th>\n",
              "      <th>Date of Travel</th>\n",
              "      <th>Company</th>\n",
              "      <th>City</th>\n",
              "      <th>KM Travelled</th>\n",
              "      <th>Price Charged</th>\n",
              "      <th>Cost of Trip</th>\n",
              "      <th>Gender</th>\n",
              "      <th>Age</th>\n",
              "      <th>Income (USD/Month)</th>\n",
              "      <th>company</th>\n",
              "    </tr>\n",
              "  </thead>\n",
              "  <tbody>\n",
              "    <tr>\n",
              "      <th>0</th>\n",
              "      <td>10001340</td>\n",
              "      <td>52536</td>\n",
              "      <td>Card</td>\n",
              "      <td>2016-01-01</td>\n",
              "      <td>Yellow Cab</td>\n",
              "      <td>WASHINGTON DC</td>\n",
              "      <td>10.20</td>\n",
              "      <td>202.54</td>\n",
              "      <td>135.8640</td>\n",
              "      <td>Male</td>\n",
              "      <td>24</td>\n",
              "      <td>10606</td>\n",
              "      <td>1.0</td>\n",
              "    </tr>\n",
              "    <tr>\n",
              "      <th>1</th>\n",
              "      <td>10000640</td>\n",
              "      <td>4844</td>\n",
              "      <td>Cash</td>\n",
              "      <td>2016-01-01</td>\n",
              "      <td>Yellow Cab</td>\n",
              "      <td>CHICAGO IL</td>\n",
              "      <td>15.60</td>\n",
              "      <td>374.66</td>\n",
              "      <td>209.6640</td>\n",
              "      <td>Male</td>\n",
              "      <td>32</td>\n",
              "      <td>5548</td>\n",
              "      <td>1.0</td>\n",
              "    </tr>\n",
              "    <tr>\n",
              "      <th>2</th>\n",
              "      <td>10000635</td>\n",
              "      <td>5671</td>\n",
              "      <td>Cash</td>\n",
              "      <td>2016-01-01</td>\n",
              "      <td>Yellow Cab</td>\n",
              "      <td>CHICAGO IL</td>\n",
              "      <td>25.08</td>\n",
              "      <td>532.83</td>\n",
              "      <td>337.0752</td>\n",
              "      <td>Male</td>\n",
              "      <td>24</td>\n",
              "      <td>7081</td>\n",
              "      <td>1.0</td>\n",
              "    </tr>\n",
              "    <tr>\n",
              "      <th>4</th>\n",
              "      <td>10000171</td>\n",
              "      <td>20687</td>\n",
              "      <td>Cash</td>\n",
              "      <td>2016-01-01</td>\n",
              "      <td>Pink Cab</td>\n",
              "      <td>SAN DIEGO CA</td>\n",
              "      <td>14.28</td>\n",
              "      <td>269.15</td>\n",
              "      <td>147.0840</td>\n",
              "      <td>Male</td>\n",
              "      <td>39</td>\n",
              "      <td>8926</td>\n",
              "      <td>0.0</td>\n",
              "    </tr>\n",
              "    <tr>\n",
              "      <th>5</th>\n",
              "      <td>10001009</td>\n",
              "      <td>21481</td>\n",
              "      <td>Card</td>\n",
              "      <td>2016-01-01</td>\n",
              "      <td>Yellow Cab</td>\n",
              "      <td>PHOENIX AZ</td>\n",
              "      <td>30.00</td>\n",
              "      <td>1000.52</td>\n",
              "      <td>403.2000</td>\n",
              "      <td>Male</td>\n",
              "      <td>28</td>\n",
              "      <td>18030</td>\n",
              "      <td>1.0</td>\n",
              "    </tr>\n",
              "  </tbody>\n",
              "</table>\n",
              "</div>"
            ],
            "text/plain": [
              "   Transaction ID  Customer ID Payment Mode  ... Age Income (USD/Month) company\n",
              "0        10001340        52536         Card  ...  24              10606     1.0\n",
              "1        10000640         4844         Cash  ...  32               5548     1.0\n",
              "2        10000635         5671         Cash  ...  24               7081     1.0\n",
              "4        10000171        20687         Cash  ...  39               8926     0.0\n",
              "5        10001009        21481         Card  ...  28              18030     1.0\n",
              "\n",
              "[5 rows x 13 columns]"
            ]
          },
          "metadata": {
            "tags": []
          },
          "execution_count": 35
        }
      ]
    },
    {
      "cell_type": "code",
      "metadata": {
        "id": "Lw8NASm4tcnL"
      },
      "source": [
        "result_all2=result_all.sample(n = 250)"
      ],
      "execution_count": null,
      "outputs": []
    },
    {
      "cell_type": "code",
      "metadata": {
        "id": "47O_8wNtvJ_W"
      },
      "source": [
        "import matplotlib.pyplot as plt\n",
        "import pandas as pd\n",
        "\n",
        "result_all.groupby(['company','Payment Mode']).size().unstack().plot(kind='bar',stacked=True)\n",
        "plt.show()"
      ],
      "execution_count": null,
      "outputs": []
    },
    {
      "cell_type": "markdown",
      "metadata": {
        "id": "xqLCwJOTc0-P"
      },
      "source": [
        "1.0 is for yellow cab ,and 0.0 is for pink cab company. Card used more than cash."
      ]
    },
    {
      "cell_type": "code",
      "metadata": {
        "id": "mz5QOYMXvTVT"
      },
      "source": [
        "import matplotlib.pyplot as plt\n",
        "import pandas as pd\n",
        "\n",
        "result_all[['Age']].plot(kind='hist',bins=[0,20,40,60,80,100],rwidth=0.8)\n",
        "plt.show()"
      ],
      "execution_count": null,
      "outputs": []
    },
    {
      "cell_type": "code",
      "metadata": {
        "id": "qThcEWALyYP5"
      },
      "source": [
        "import matplotlib.pyplot as plt\n",
        "import pandas as pd\n",
        "\n",
        "pinkcab[['Age']].plot(kind='hist',bins=[0,20,40,60,80,100],rwidth=0.8)\n",
        "plt.show()"
      ],
      "execution_count": null,
      "outputs": []
    },
    {
      "cell_type": "code",
      "metadata": {
        "id": "qMIQqMu9-DUs"
      },
      "source": [
        "result_all.rename({'Transaction ID':'Transaction_ID'}, axis=1,inplace=True)"
      ],
      "execution_count": 42,
      "outputs": []
    },
    {
      "cell_type": "code",
      "metadata": {
        "id": "y80lJ128yhlO"
      },
      "source": [
        "import matplotlib.pyplot as plt\n",
        "import pandas as pd\n",
        "\n",
        "yellowcab[['Age']].plot(kind='hist',bins=[0,20,40,60,80,100],rwidth=0.8)\n",
        "plt.show()"
      ],
      "execution_count": null,
      "outputs": []
    },
    {
      "cell_type": "markdown",
      "metadata": {
        "id": "rOYyYz_IdPkp"
      },
      "source": [
        "Usage of cab is more common in the age gap 20-40."
      ]
    },
    {
      "cell_type": "code",
      "metadata": {
        "id": "ElqfvMmmyenw"
      },
      "source": [
        "plt.figure(figsize=(7,5))\n",
        "sns.countplot(data=result_all, x=\"Gender\")\n",
        "plt.title(\"Gender plot\", fontsize=10)\n",
        "plt.ylabel('Frequency')\n",
        "plt.xlabel('Gender')"
      ],
      "execution_count": null,
      "outputs": []
    },
    {
      "cell_type": "code",
      "metadata": {
        "id": "JcdwNE_AdWUW"
      },
      "source": [
        "Mostly males uses cab."
      ],
      "execution_count": null,
      "outputs": []
    },
    {
      "cell_type": "code",
      "metadata": {
        "id": "ibBjZgU9Bo5t"
      },
      "source": [
        "import matplotlib.pyplot as plt\n",
        "import pandas as pd\n",
        "\n",
        "result_all.groupby(['Company','Gender']).size().unstack().plot(kind='bar',stacked=True)\n",
        "plt.show()"
      ],
      "execution_count": null,
      "outputs": []
    },
    {
      "cell_type": "markdown",
      "metadata": {
        "id": "xRwUbvfzdbPA"
      },
      "source": [
        "Males are more common in yellow cab and there is not a significant difference between gender in pink cab."
      ]
    },
    {
      "cell_type": "code",
      "metadata": {
        "id": "yvY5J5Bk0JTN"
      },
      "source": [
        "result_all['Year of Travel'] = result_all['Date of Travel'].dt.year"
      ],
      "execution_count": 38,
      "outputs": []
    },
    {
      "cell_type": "code",
      "metadata": {
        "id": "ZHISNmN8997c"
      },
      "source": [
        ""
      ],
      "execution_count": null,
      "outputs": []
    },
    {
      "cell_type": "code",
      "metadata": {
        "id": "0tiqxZuukoD3"
      },
      "source": [
        "result_all['Month of Travel'] = result_all['Date of Travel'].dt.month"
      ],
      "execution_count": 37,
      "outputs": []
    },
    {
      "cell_type": "code",
      "metadata": {
        "colab": {
          "base_uri": "https://localhost:8080/",
          "height": 497
        },
        "id": "1hHrIPJl0MWy",
        "outputId": "69b76c84-b38f-4537-8bb8-36d336cc1170"
      },
      "source": [
        "result_all.head(10)"
      ],
      "execution_count": 43,
      "outputs": [
        {
          "output_type": "execute_result",
          "data": {
            "text/html": [
              "<div>\n",
              "<style scoped>\n",
              "    .dataframe tbody tr th:only-of-type {\n",
              "        vertical-align: middle;\n",
              "    }\n",
              "\n",
              "    .dataframe tbody tr th {\n",
              "        vertical-align: top;\n",
              "    }\n",
              "\n",
              "    .dataframe thead th {\n",
              "        text-align: right;\n",
              "    }\n",
              "</style>\n",
              "<table border=\"1\" class=\"dataframe\">\n",
              "  <thead>\n",
              "    <tr style=\"text-align: right;\">\n",
              "      <th></th>\n",
              "      <th>Transaction_ID</th>\n",
              "      <th>Customer ID</th>\n",
              "      <th>Payment Mode</th>\n",
              "      <th>Date of Travel</th>\n",
              "      <th>Company</th>\n",
              "      <th>City</th>\n",
              "      <th>KM Travelled</th>\n",
              "      <th>Price Charged</th>\n",
              "      <th>Cost of Trip</th>\n",
              "      <th>Gender</th>\n",
              "      <th>Age</th>\n",
              "      <th>Income (USD/Month)</th>\n",
              "      <th>company</th>\n",
              "      <th>Month of Travel</th>\n",
              "      <th>Year of Travel</th>\n",
              "    </tr>\n",
              "  </thead>\n",
              "  <tbody>\n",
              "    <tr>\n",
              "      <th>0</th>\n",
              "      <td>10001340</td>\n",
              "      <td>52536</td>\n",
              "      <td>Card</td>\n",
              "      <td>2016-01-01</td>\n",
              "      <td>Yellow Cab</td>\n",
              "      <td>WASHINGTON DC</td>\n",
              "      <td>10.20</td>\n",
              "      <td>202.54</td>\n",
              "      <td>135.8640</td>\n",
              "      <td>Male</td>\n",
              "      <td>24</td>\n",
              "      <td>10606</td>\n",
              "      <td>1.0</td>\n",
              "      <td>1</td>\n",
              "      <td>2016</td>\n",
              "    </tr>\n",
              "    <tr>\n",
              "      <th>1</th>\n",
              "      <td>10000640</td>\n",
              "      <td>4844</td>\n",
              "      <td>Cash</td>\n",
              "      <td>2016-01-01</td>\n",
              "      <td>Yellow Cab</td>\n",
              "      <td>CHICAGO IL</td>\n",
              "      <td>15.60</td>\n",
              "      <td>374.66</td>\n",
              "      <td>209.6640</td>\n",
              "      <td>Male</td>\n",
              "      <td>32</td>\n",
              "      <td>5548</td>\n",
              "      <td>1.0</td>\n",
              "      <td>1</td>\n",
              "      <td>2016</td>\n",
              "    </tr>\n",
              "    <tr>\n",
              "      <th>2</th>\n",
              "      <td>10000635</td>\n",
              "      <td>5671</td>\n",
              "      <td>Cash</td>\n",
              "      <td>2016-01-01</td>\n",
              "      <td>Yellow Cab</td>\n",
              "      <td>CHICAGO IL</td>\n",
              "      <td>25.08</td>\n",
              "      <td>532.83</td>\n",
              "      <td>337.0752</td>\n",
              "      <td>Male</td>\n",
              "      <td>24</td>\n",
              "      <td>7081</td>\n",
              "      <td>1.0</td>\n",
              "      <td>1</td>\n",
              "      <td>2016</td>\n",
              "    </tr>\n",
              "    <tr>\n",
              "      <th>4</th>\n",
              "      <td>10000171</td>\n",
              "      <td>20687</td>\n",
              "      <td>Cash</td>\n",
              "      <td>2016-01-01</td>\n",
              "      <td>Pink Cab</td>\n",
              "      <td>SAN DIEGO CA</td>\n",
              "      <td>14.28</td>\n",
              "      <td>269.15</td>\n",
              "      <td>147.0840</td>\n",
              "      <td>Male</td>\n",
              "      <td>39</td>\n",
              "      <td>8926</td>\n",
              "      <td>0.0</td>\n",
              "      <td>1</td>\n",
              "      <td>2016</td>\n",
              "    </tr>\n",
              "    <tr>\n",
              "      <th>5</th>\n",
              "      <td>10001009</td>\n",
              "      <td>21481</td>\n",
              "      <td>Card</td>\n",
              "      <td>2016-01-01</td>\n",
              "      <td>Yellow Cab</td>\n",
              "      <td>PHOENIX AZ</td>\n",
              "      <td>30.00</td>\n",
              "      <td>1000.52</td>\n",
              "      <td>403.2000</td>\n",
              "      <td>Male</td>\n",
              "      <td>28</td>\n",
              "      <td>18030</td>\n",
              "      <td>1.0</td>\n",
              "      <td>1</td>\n",
              "      <td>2016</td>\n",
              "    </tr>\n",
              "    <tr>\n",
              "      <th>6</th>\n",
              "      <td>10000605</td>\n",
              "      <td>3251</td>\n",
              "      <td>Cash</td>\n",
              "      <td>2016-01-01</td>\n",
              "      <td>Yellow Cab</td>\n",
              "      <td>CHICAGO IL</td>\n",
              "      <td>35.52</td>\n",
              "      <td>760.86</td>\n",
              "      <td>430.5024</td>\n",
              "      <td>Male</td>\n",
              "      <td>23</td>\n",
              "      <td>13077</td>\n",
              "      <td>1.0</td>\n",
              "      <td>1</td>\n",
              "      <td>2016</td>\n",
              "    </tr>\n",
              "    <tr>\n",
              "      <th>7</th>\n",
              "      <td>10001014</td>\n",
              "      <td>47687</td>\n",
              "      <td>Card</td>\n",
              "      <td>2016-01-01</td>\n",
              "      <td>Yellow Cab</td>\n",
              "      <td>SACRAMENTO CA</td>\n",
              "      <td>38.00</td>\n",
              "      <td>1065.42</td>\n",
              "      <td>547.2000</td>\n",
              "      <td>Male</td>\n",
              "      <td>25</td>\n",
              "      <td>16088</td>\n",
              "      <td>1.0</td>\n",
              "      <td>1</td>\n",
              "      <td>2016</td>\n",
              "    </tr>\n",
              "    <tr>\n",
              "      <th>8</th>\n",
              "      <td>10000600</td>\n",
              "      <td>3363</td>\n",
              "      <td>Cash</td>\n",
              "      <td>2016-01-01</td>\n",
              "      <td>Yellow Cab</td>\n",
              "      <td>CHICAGO IL</td>\n",
              "      <td>23.75</td>\n",
              "      <td>531.25</td>\n",
              "      <td>336.3000</td>\n",
              "      <td>Male</td>\n",
              "      <td>31</td>\n",
              "      <td>23320</td>\n",
              "      <td>1.0</td>\n",
              "      <td>1</td>\n",
              "      <td>2016</td>\n",
              "    </tr>\n",
              "    <tr>\n",
              "      <th>9</th>\n",
              "      <td>10000182</td>\n",
              "      <td>18418</td>\n",
              "      <td>Cash</td>\n",
              "      <td>2016-01-01</td>\n",
              "      <td>Pink Cab</td>\n",
              "      <td>SAN DIEGO CA</td>\n",
              "      <td>2.36</td>\n",
              "      <td>47.89</td>\n",
              "      <td>23.6000</td>\n",
              "      <td>Male</td>\n",
              "      <td>39</td>\n",
              "      <td>13112</td>\n",
              "      <td>0.0</td>\n",
              "      <td>1</td>\n",
              "      <td>2016</td>\n",
              "    </tr>\n",
              "    <tr>\n",
              "      <th>10</th>\n",
              "      <td>10001291</td>\n",
              "      <td>53683</td>\n",
              "      <td>Card</td>\n",
              "      <td>2016-01-01</td>\n",
              "      <td>Yellow Cab</td>\n",
              "      <td>WASHINGTON DC</td>\n",
              "      <td>8.73</td>\n",
              "      <td>168.07</td>\n",
              "      <td>104.7600</td>\n",
              "      <td>Male</td>\n",
              "      <td>26</td>\n",
              "      <td>9389</td>\n",
              "      <td>1.0</td>\n",
              "      <td>1</td>\n",
              "      <td>2016</td>\n",
              "    </tr>\n",
              "  </tbody>\n",
              "</table>\n",
              "</div>"
            ],
            "text/plain": [
              "    Transaction_ID  Customer ID  ... Month of Travel Year of Travel\n",
              "0         10001340        52536  ...               1           2016\n",
              "1         10000640         4844  ...               1           2016\n",
              "2         10000635         5671  ...               1           2016\n",
              "4         10000171        20687  ...               1           2016\n",
              "5         10001009        21481  ...               1           2016\n",
              "6         10000605         3251  ...               1           2016\n",
              "7         10001014        47687  ...               1           2016\n",
              "8         10000600         3363  ...               1           2016\n",
              "9         10000182        18418  ...               1           2016\n",
              "10        10001291        53683  ...               1           2016\n",
              "\n",
              "[10 rows x 15 columns]"
            ]
          },
          "metadata": {
            "tags": []
          },
          "execution_count": 43
        }
      ]
    },
    {
      "cell_type": "code",
      "metadata": {
        "colab": {
          "base_uri": "https://localhost:8080/",
          "height": 313
        },
        "id": "aooQCKD6zUrr",
        "outputId": "71288d42-da5e-4d34-f578-2862d9cb2b71"
      },
      "source": [
        "yellowcab= result_all[result_all.Company.isin(['Yellow Cab'])]\n",
        "print(yellowcab.shape)\n",
        "yellowcab.head()\n"
      ],
      "execution_count": 48,
      "outputs": [
        {
          "output_type": "stream",
          "text": [
            "(271495, 16)\n"
          ],
          "name": "stdout"
        },
        {
          "output_type": "execute_result",
          "data": {
            "text/html": [
              "<div>\n",
              "<style scoped>\n",
              "    .dataframe tbody tr th:only-of-type {\n",
              "        vertical-align: middle;\n",
              "    }\n",
              "\n",
              "    .dataframe tbody tr th {\n",
              "        vertical-align: top;\n",
              "    }\n",
              "\n",
              "    .dataframe thead th {\n",
              "        text-align: right;\n",
              "    }\n",
              "</style>\n",
              "<table border=\"1\" class=\"dataframe\">\n",
              "  <thead>\n",
              "    <tr style=\"text-align: right;\">\n",
              "      <th></th>\n",
              "      <th>Transaction_ID</th>\n",
              "      <th>Customer ID</th>\n",
              "      <th>Payment Mode</th>\n",
              "      <th>Date of Travel</th>\n",
              "      <th>Company</th>\n",
              "      <th>City</th>\n",
              "      <th>KM Travelled</th>\n",
              "      <th>Price Charged</th>\n",
              "      <th>Cost of Trip</th>\n",
              "      <th>Gender</th>\n",
              "      <th>Age</th>\n",
              "      <th>Income (USD/Month)</th>\n",
              "      <th>company</th>\n",
              "      <th>Month of Travel</th>\n",
              "      <th>Year of Travel</th>\n",
              "      <th>Profit</th>\n",
              "    </tr>\n",
              "  </thead>\n",
              "  <tbody>\n",
              "    <tr>\n",
              "      <th>0</th>\n",
              "      <td>10001340</td>\n",
              "      <td>52536</td>\n",
              "      <td>Card</td>\n",
              "      <td>2016-01-01</td>\n",
              "      <td>Yellow Cab</td>\n",
              "      <td>WASHINGTON DC</td>\n",
              "      <td>10.20</td>\n",
              "      <td>202.54</td>\n",
              "      <td>135.8640</td>\n",
              "      <td>Male</td>\n",
              "      <td>24</td>\n",
              "      <td>10606</td>\n",
              "      <td>1.0</td>\n",
              "      <td>1</td>\n",
              "      <td>2016</td>\n",
              "      <td>66.6760</td>\n",
              "    </tr>\n",
              "    <tr>\n",
              "      <th>1</th>\n",
              "      <td>10000640</td>\n",
              "      <td>4844</td>\n",
              "      <td>Cash</td>\n",
              "      <td>2016-01-01</td>\n",
              "      <td>Yellow Cab</td>\n",
              "      <td>CHICAGO IL</td>\n",
              "      <td>15.60</td>\n",
              "      <td>374.66</td>\n",
              "      <td>209.6640</td>\n",
              "      <td>Male</td>\n",
              "      <td>32</td>\n",
              "      <td>5548</td>\n",
              "      <td>1.0</td>\n",
              "      <td>1</td>\n",
              "      <td>2016</td>\n",
              "      <td>164.9960</td>\n",
              "    </tr>\n",
              "    <tr>\n",
              "      <th>2</th>\n",
              "      <td>10000635</td>\n",
              "      <td>5671</td>\n",
              "      <td>Cash</td>\n",
              "      <td>2016-01-01</td>\n",
              "      <td>Yellow Cab</td>\n",
              "      <td>CHICAGO IL</td>\n",
              "      <td>25.08</td>\n",
              "      <td>532.83</td>\n",
              "      <td>337.0752</td>\n",
              "      <td>Male</td>\n",
              "      <td>24</td>\n",
              "      <td>7081</td>\n",
              "      <td>1.0</td>\n",
              "      <td>1</td>\n",
              "      <td>2016</td>\n",
              "      <td>195.7548</td>\n",
              "    </tr>\n",
              "    <tr>\n",
              "      <th>5</th>\n",
              "      <td>10001009</td>\n",
              "      <td>21481</td>\n",
              "      <td>Card</td>\n",
              "      <td>2016-01-01</td>\n",
              "      <td>Yellow Cab</td>\n",
              "      <td>PHOENIX AZ</td>\n",
              "      <td>30.00</td>\n",
              "      <td>1000.52</td>\n",
              "      <td>403.2000</td>\n",
              "      <td>Male</td>\n",
              "      <td>28</td>\n",
              "      <td>18030</td>\n",
              "      <td>1.0</td>\n",
              "      <td>1</td>\n",
              "      <td>2016</td>\n",
              "      <td>597.3200</td>\n",
              "    </tr>\n",
              "    <tr>\n",
              "      <th>6</th>\n",
              "      <td>10000605</td>\n",
              "      <td>3251</td>\n",
              "      <td>Cash</td>\n",
              "      <td>2016-01-01</td>\n",
              "      <td>Yellow Cab</td>\n",
              "      <td>CHICAGO IL</td>\n",
              "      <td>35.52</td>\n",
              "      <td>760.86</td>\n",
              "      <td>430.5024</td>\n",
              "      <td>Male</td>\n",
              "      <td>23</td>\n",
              "      <td>13077</td>\n",
              "      <td>1.0</td>\n",
              "      <td>1</td>\n",
              "      <td>2016</td>\n",
              "      <td>330.3576</td>\n",
              "    </tr>\n",
              "  </tbody>\n",
              "</table>\n",
              "</div>"
            ],
            "text/plain": [
              "   Transaction_ID  Customer ID  ... Year of Travel    Profit\n",
              "0        10001340        52536  ...           2016   66.6760\n",
              "1        10000640         4844  ...           2016  164.9960\n",
              "2        10000635         5671  ...           2016  195.7548\n",
              "5        10001009        21481  ...           2016  597.3200\n",
              "6        10000605         3251  ...           2016  330.3576\n",
              "\n",
              "[5 rows x 16 columns]"
            ]
          },
          "metadata": {
            "tags": []
          },
          "execution_count": 48
        }
      ]
    },
    {
      "cell_type": "code",
      "metadata": {
        "colab": {
          "base_uri": "https://localhost:8080/",
          "height": 313
        },
        "id": "h0m4C3ixysfc",
        "outputId": "dc848a19-21a8-4cc4-90f9-9fbe5fc6476f"
      },
      "source": [
        "pinkcab= result_all[result_all.Company.isin(['Pink Cab'])]\n",
        "print(pinkcab.shape)\n",
        "pinkcab.head()"
      ],
      "execution_count": 49,
      "outputs": [
        {
          "output_type": "stream",
          "text": [
            "(84702, 16)\n"
          ],
          "name": "stdout"
        },
        {
          "output_type": "execute_result",
          "data": {
            "text/html": [
              "<div>\n",
              "<style scoped>\n",
              "    .dataframe tbody tr th:only-of-type {\n",
              "        vertical-align: middle;\n",
              "    }\n",
              "\n",
              "    .dataframe tbody tr th {\n",
              "        vertical-align: top;\n",
              "    }\n",
              "\n",
              "    .dataframe thead th {\n",
              "        text-align: right;\n",
              "    }\n",
              "</style>\n",
              "<table border=\"1\" class=\"dataframe\">\n",
              "  <thead>\n",
              "    <tr style=\"text-align: right;\">\n",
              "      <th></th>\n",
              "      <th>Transaction_ID</th>\n",
              "      <th>Customer ID</th>\n",
              "      <th>Payment Mode</th>\n",
              "      <th>Date of Travel</th>\n",
              "      <th>Company</th>\n",
              "      <th>City</th>\n",
              "      <th>KM Travelled</th>\n",
              "      <th>Price Charged</th>\n",
              "      <th>Cost of Trip</th>\n",
              "      <th>Gender</th>\n",
              "      <th>Age</th>\n",
              "      <th>Income (USD/Month)</th>\n",
              "      <th>company</th>\n",
              "      <th>Month of Travel</th>\n",
              "      <th>Year of Travel</th>\n",
              "      <th>Profit</th>\n",
              "    </tr>\n",
              "  </thead>\n",
              "  <tbody>\n",
              "    <tr>\n",
              "      <th>4</th>\n",
              "      <td>10000171</td>\n",
              "      <td>20687</td>\n",
              "      <td>Cash</td>\n",
              "      <td>2016-01-01</td>\n",
              "      <td>Pink Cab</td>\n",
              "      <td>SAN DIEGO CA</td>\n",
              "      <td>14.28</td>\n",
              "      <td>269.15</td>\n",
              "      <td>147.084</td>\n",
              "      <td>Male</td>\n",
              "      <td>39</td>\n",
              "      <td>8926</td>\n",
              "      <td>0.0</td>\n",
              "      <td>1</td>\n",
              "      <td>2016</td>\n",
              "      <td>122.066</td>\n",
              "    </tr>\n",
              "    <tr>\n",
              "      <th>9</th>\n",
              "      <td>10000182</td>\n",
              "      <td>18418</td>\n",
              "      <td>Cash</td>\n",
              "      <td>2016-01-01</td>\n",
              "      <td>Pink Cab</td>\n",
              "      <td>SAN DIEGO CA</td>\n",
              "      <td>2.36</td>\n",
              "      <td>47.89</td>\n",
              "      <td>23.600</td>\n",
              "      <td>Male</td>\n",
              "      <td>39</td>\n",
              "      <td>13112</td>\n",
              "      <td>0.0</td>\n",
              "      <td>1</td>\n",
              "      <td>2016</td>\n",
              "      <td>24.290</td>\n",
              "    </tr>\n",
              "    <tr>\n",
              "      <th>12</th>\n",
              "      <td>10000187</td>\n",
              "      <td>18817</td>\n",
              "      <td>Cash</td>\n",
              "      <td>2016-01-01</td>\n",
              "      <td>Pink Cab</td>\n",
              "      <td>SAN DIEGO CA</td>\n",
              "      <td>23.80</td>\n",
              "      <td>485.21</td>\n",
              "      <td>252.280</td>\n",
              "      <td>Male</td>\n",
              "      <td>40</td>\n",
              "      <td>5038</td>\n",
              "      <td>0.0</td>\n",
              "      <td>1</td>\n",
              "      <td>2016</td>\n",
              "      <td>232.930</td>\n",
              "    </tr>\n",
              "    <tr>\n",
              "      <th>14</th>\n",
              "      <td>10000189</td>\n",
              "      <td>18488</td>\n",
              "      <td>Cash</td>\n",
              "      <td>2016-01-01</td>\n",
              "      <td>Pink Cab</td>\n",
              "      <td>SAN DIEGO CA</td>\n",
              "      <td>41.76</td>\n",
              "      <td>793.63</td>\n",
              "      <td>476.064</td>\n",
              "      <td>Male</td>\n",
              "      <td>37</td>\n",
              "      <td>22441</td>\n",
              "      <td>0.0</td>\n",
              "      <td>1</td>\n",
              "      <td>2016</td>\n",
              "      <td>317.566</td>\n",
              "    </tr>\n",
              "    <tr>\n",
              "      <th>18</th>\n",
              "      <td>10000195</td>\n",
              "      <td>20752</td>\n",
              "      <td>Cash</td>\n",
              "      <td>2016-01-01</td>\n",
              "      <td>Pink Cab</td>\n",
              "      <td>SAN DIEGO CA</td>\n",
              "      <td>32.30</td>\n",
              "      <td>654.50</td>\n",
              "      <td>368.220</td>\n",
              "      <td>Male</td>\n",
              "      <td>63</td>\n",
              "      <td>18683</td>\n",
              "      <td>0.0</td>\n",
              "      <td>1</td>\n",
              "      <td>2016</td>\n",
              "      <td>286.280</td>\n",
              "    </tr>\n",
              "  </tbody>\n",
              "</table>\n",
              "</div>"
            ],
            "text/plain": [
              "    Transaction_ID  Customer ID  ... Year of Travel   Profit\n",
              "4         10000171        20687  ...           2016  122.066\n",
              "9         10000182        18418  ...           2016   24.290\n",
              "12        10000187        18817  ...           2016  232.930\n",
              "14        10000189        18488  ...           2016  317.566\n",
              "18        10000195        20752  ...           2016  286.280\n",
              "\n",
              "[5 rows x 16 columns]"
            ]
          },
          "metadata": {
            "tags": []
          },
          "execution_count": 49
        }
      ]
    },
    {
      "cell_type": "code",
      "metadata": {
        "id": "rESPdf0N0ciZ"
      },
      "source": [
        "result_all.sort_values('Year of Travel').head()"
      ],
      "execution_count": null,
      "outputs": []
    },
    {
      "cell_type": "markdown",
      "metadata": {
        "id": "VS0UImC8dvsn"
      },
      "source": [
        "Pink cab get the most profit in 2017."
      ]
    },
    {
      "cell_type": "code",
      "metadata": {
        "colab": {
          "base_uri": "https://localhost:8080/",
          "height": 170
        },
        "id": "AW3jUn44jBx5",
        "outputId": "ed4e7f3e-0044-454c-a78e-40f3e8d4e611"
      },
      "source": [
        "pinkcab_profit=pinkcab.groupby(['Company', 'Year of Travel']).Profit.sum().to_frame('Profit')\n",
        "pinkcab_profit.head(3)"
      ],
      "execution_count": 50,
      "outputs": [
        {
          "output_type": "execute_result",
          "data": {
            "text/html": [
              "<div>\n",
              "<style scoped>\n",
              "    .dataframe tbody tr th:only-of-type {\n",
              "        vertical-align: middle;\n",
              "    }\n",
              "\n",
              "    .dataframe tbody tr th {\n",
              "        vertical-align: top;\n",
              "    }\n",
              "\n",
              "    .dataframe thead th {\n",
              "        text-align: right;\n",
              "    }\n",
              "</style>\n",
              "<table border=\"1\" class=\"dataframe\">\n",
              "  <thead>\n",
              "    <tr style=\"text-align: right;\">\n",
              "      <th></th>\n",
              "      <th></th>\n",
              "      <th>Profit</th>\n",
              "    </tr>\n",
              "    <tr>\n",
              "      <th>Company</th>\n",
              "      <th>Year of Travel</th>\n",
              "      <th></th>\n",
              "    </tr>\n",
              "  </thead>\n",
              "  <tbody>\n",
              "    <tr>\n",
              "      <th rowspan=\"3\" valign=\"top\">Pink Cab</th>\n",
              "      <th>2016</th>\n",
              "      <td>1735971.834</td>\n",
              "    </tr>\n",
              "    <tr>\n",
              "      <th>2017</th>\n",
              "      <td>2011165.587</td>\n",
              "    </tr>\n",
              "    <tr>\n",
              "      <th>2018</th>\n",
              "      <td>1551517.496</td>\n",
              "    </tr>\n",
              "  </tbody>\n",
              "</table>\n",
              "</div>"
            ],
            "text/plain": [
              "                              Profit\n",
              "Company  Year of Travel             \n",
              "Pink Cab 2016            1735971.834\n",
              "         2017            2011165.587\n",
              "         2018            1551517.496"
            ]
          },
          "metadata": {
            "tags": []
          },
          "execution_count": 50
        }
      ]
    },
    {
      "cell_type": "code",
      "metadata": {
        "colab": {
          "base_uri": "https://localhost:8080/",
          "height": 170
        },
        "id": "4xx4GLvavv4O",
        "outputId": "f3f631e7-a587-4576-fb4b-191e77d28844"
      },
      "source": [
        "pinkcab_profit=pinkcab.groupby(['Company', 'Year of Travel']).Profit.sum().to_frame('Profit')\n",
        "pinkcab_profit.head(3)"
      ],
      "execution_count": 51,
      "outputs": [
        {
          "output_type": "execute_result",
          "data": {
            "text/html": [
              "<div>\n",
              "<style scoped>\n",
              "    .dataframe tbody tr th:only-of-type {\n",
              "        vertical-align: middle;\n",
              "    }\n",
              "\n",
              "    .dataframe tbody tr th {\n",
              "        vertical-align: top;\n",
              "    }\n",
              "\n",
              "    .dataframe thead th {\n",
              "        text-align: right;\n",
              "    }\n",
              "</style>\n",
              "<table border=\"1\" class=\"dataframe\">\n",
              "  <thead>\n",
              "    <tr style=\"text-align: right;\">\n",
              "      <th></th>\n",
              "      <th></th>\n",
              "      <th>Profit</th>\n",
              "    </tr>\n",
              "    <tr>\n",
              "      <th>Company</th>\n",
              "      <th>Year of Travel</th>\n",
              "      <th></th>\n",
              "    </tr>\n",
              "  </thead>\n",
              "  <tbody>\n",
              "    <tr>\n",
              "      <th rowspan=\"3\" valign=\"top\">Pink Cab</th>\n",
              "      <th>2016</th>\n",
              "      <td>1735971.834</td>\n",
              "    </tr>\n",
              "    <tr>\n",
              "      <th>2017</th>\n",
              "      <td>2011165.587</td>\n",
              "    </tr>\n",
              "    <tr>\n",
              "      <th>2018</th>\n",
              "      <td>1551517.496</td>\n",
              "    </tr>\n",
              "  </tbody>\n",
              "</table>\n",
              "</div>"
            ],
            "text/plain": [
              "                              Profit\n",
              "Company  Year of Travel             \n",
              "Pink Cab 2016            1735971.834\n",
              "         2017            2011165.587\n",
              "         2018            1551517.496"
            ]
          },
          "metadata": {
            "tags": []
          },
          "execution_count": 51
        }
      ]
    },
    {
      "cell_type": "code",
      "metadata": {
        "id": "HyKZ59md0sAv"
      },
      "source": [
        "pinkcab_profit.head(3)"
      ],
      "execution_count": null,
      "outputs": []
    },
    {
      "cell_type": "markdown",
      "metadata": {
        "id": "hCeT9P2Sd3hJ"
      },
      "source": [
        "Total profit of pink cab."
      ]
    },
    {
      "cell_type": "code",
      "metadata": {
        "colab": {
          "base_uri": "https://localhost:8080/",
          "height": 170
        },
        "id": "VWLKZ-YY1H3x",
        "outputId": "1105e657-1d47-4507-84d7-2c85b1264d2b"
      },
      "source": [
        "yellowcab_profit=yellowcab.groupby(['Company', 'Year of Travel']).Profit.sum().to_frame('Profit')\n",
        "yellowcab_profit.head(3)"
      ],
      "execution_count": 52,
      "outputs": [
        {
          "output_type": "execute_result",
          "data": {
            "text/html": [
              "<div>\n",
              "<style scoped>\n",
              "    .dataframe tbody tr th:only-of-type {\n",
              "        vertical-align: middle;\n",
              "    }\n",
              "\n",
              "    .dataframe tbody tr th {\n",
              "        vertical-align: top;\n",
              "    }\n",
              "\n",
              "    .dataframe thead th {\n",
              "        text-align: right;\n",
              "    }\n",
              "</style>\n",
              "<table border=\"1\" class=\"dataframe\">\n",
              "  <thead>\n",
              "    <tr style=\"text-align: right;\">\n",
              "      <th></th>\n",
              "      <th></th>\n",
              "      <th>Profit</th>\n",
              "    </tr>\n",
              "    <tr>\n",
              "      <th>Company</th>\n",
              "      <th>Year of Travel</th>\n",
              "      <th></th>\n",
              "    </tr>\n",
              "  </thead>\n",
              "  <tbody>\n",
              "    <tr>\n",
              "      <th rowspan=\"3\" valign=\"top\">Yellow Cab</th>\n",
              "      <th>2016</th>\n",
              "      <td>1.305023e+07</td>\n",
              "    </tr>\n",
              "    <tr>\n",
              "      <th>2017</th>\n",
              "      <td>1.528913e+07</td>\n",
              "    </tr>\n",
              "    <tr>\n",
              "      <th>2018</th>\n",
              "      <td>1.303142e+07</td>\n",
              "    </tr>\n",
              "  </tbody>\n",
              "</table>\n",
              "</div>"
            ],
            "text/plain": [
              "                                 Profit\n",
              "Company    Year of Travel              \n",
              "Yellow Cab 2016            1.305023e+07\n",
              "           2017            1.528913e+07\n",
              "           2018            1.303142e+07"
            ]
          },
          "metadata": {
            "tags": []
          },
          "execution_count": 52
        }
      ]
    },
    {
      "cell_type": "markdown",
      "metadata": {
        "id": "vyq06VMQd7Gw"
      },
      "source": [
        "Also yellow cab got the most profit in 2017."
      ]
    },
    {
      "cell_type": "code",
      "metadata": {
        "colab": {
          "base_uri": "https://localhost:8080/"
        },
        "id": "993gPbVm2wia",
        "outputId": "eec77b0e-fb34-4a40-c04c-df94b22bc66a"
      },
      "source": [
        "yellowcab_profit['Profit'].sum(axis=0)"
      ],
      "execution_count": 53,
      "outputs": [
        {
          "output_type": "execute_result",
          "data": {
            "text/plain": [
              "41370781.93799985"
            ]
          },
          "metadata": {
            "tags": []
          },
          "execution_count": 53
        }
      ]
    },
    {
      "cell_type": "markdown",
      "metadata": {
        "id": "E9NufIqEeA9W"
      },
      "source": [
        "Yellow cab's total profit is much higher than pink cab."
      ]
    },
    {
      "cell_type": "markdown",
      "metadata": {
        "id": "fA0oKm0H3-5v"
      },
      "source": [
        "## **Average profits per City**\n"
      ]
    },
    {
      "cell_type": "code",
      "metadata": {
        "id": "Sz9HzX0q3-Bn"
      },
      "source": [
        "grp= yellowcab.groupby('City').Profit.sum()\n",
        "grp= pd.DataFrame(grp)\n",
        "grp = grp.sort_values(by='Profit', ascending= False )\n",
        "grp.head()\n",
        "\n",
        "plt.figure(figsize=(22,11))\n",
        "fig= grp.Profit.plot.bar(color = 'yellow',linewidth=1.5)\n",
        "plt.xticks(rotation=45)\n",
        "\n",
        "plt.ylabel('Profits', fontsize=16)\n",
        "plt.xlabel('Cities', fontsize=16)\n",
        "plt.title('Yellow Cab Profit distribution according to Cities',fontsize=20)\n"
      ],
      "execution_count": null,
      "outputs": []
    },
    {
      "cell_type": "code",
      "metadata": {
        "id": "IyYgykMt6ZP4"
      },
      "source": [
        "grp2= yellowcab.groupby('City').Profit.sum()\n",
        "grp2= pd.DataFrame(grp2)\n",
        "grp2 = grp2.sort_values(by='Profit', ascending= False )\n",
        "grp2.head()\n",
        "\n",
        "plt.figure(figsize=(22,11))\n",
        "fig= grp2.Profit.plot.bar(color = 'pink',linewidth=1.5)\n",
        "plt.xticks(rotation=45)\n",
        "\n",
        "plt.ylabel('Profits', fontsize=16)\n",
        "plt.xlabel('Cities', fontsize=16)\n",
        "plt.title('PinkCab Profit distribution according to Cities',fontsize=20)\n"
      ],
      "execution_count": null,
      "outputs": []
    },
    {
      "cell_type": "code",
      "metadata": {
        "id": "gXl1ian_FFfp"
      },
      "source": [
        "plt.figure(figsize=(10,9))\n",
        "sns.lineplot(data=result_all, x=\"KM Travelled\",y='Price Charged', color= 'blue')\n",
        "plt.title('Cost of Trip / KM Travelled', fontsize=14)\n",
        "plt.xlabel('Travelled')\n",
        "plt.ylabel('Price Charged for Trip')\n",
        "plt.show()"
      ],
      "execution_count": null,
      "outputs": []
    },
    {
      "cell_type": "code",
      "metadata": {
        "id": "1SDeAaS3J6-f"
      },
      "source": [
        "sns.catplot(\n",
        "    data=result_all,\n",
        "    x='City',\n",
        "    y='Profit',\n",
        "    row='Company',\n",
        "    kind='box',\n",
        "    height=3, \n",
        "    aspect=10,\n",
        "    color='blue');"
      ],
      "execution_count": null,
      "outputs": []
    },
    {
      "cell_type": "code",
      "metadata": {
        "id": "meEcuhnhjMtI"
      },
      "source": [
        "plt.figure(figsize=(14,6))\n",
        "sns.barplot(x=pltt.index,y=pltt.values)\n",
        "plt.title('Travel frequency by Month (Pink Cab)')\n",
        "plt.show()\n"
      ],
      "execution_count": null,
      "outputs": []
    },
    {
      "cell_type": "code",
      "metadata": {
        "id": "wiooWWGWnlev"
      },
      "source": [
        "plt.figure(figsize=(14,6))\n",
        "sns.barplot(x=pltt2.index,y=pltt2.values)\n",
        "plt.title('Travel frequency by Month (Yellow Cab)')\n",
        "plt.show()"
      ],
      "execution_count": null,
      "outputs": []
    },
    {
      "cell_type": "code",
      "metadata": {
        "id": "Fu7pHLAYjmRR"
      },
      "source": [
        "pltt = result_all[result_all.Company=='Pink Cab'].groupby(['Month of Travel']).company.count()\n",
        "pltt"
      ],
      "execution_count": null,
      "outputs": []
    },
    {
      "cell_type": "code",
      "metadata": {
        "id": "OWZbaQBWk3iY"
      },
      "source": [
        "pltt2 = result_all[result_all.Company=='Yellow Cab'].groupby(['Month of Travel']).company.count()\n",
        "pltt2"
      ],
      "execution_count": null,
      "outputs": []
    },
    {
      "cell_type": "code",
      "metadata": {
        "id": "yP3k48-okC7H"
      },
      "source": [
        "result_all.head(3)"
      ],
      "execution_count": null,
      "outputs": []
    },
    {
      "cell_type": "code",
      "metadata": {
        "id": "iTxvZxN_5wB4"
      },
      "source": [
        "# Results of profit table \n",
        "pinkcab['Profit'].sum()\n",
        "yellowcab['Profit'].sum()\n",
        "pinkcab.Transaction_ID.nunique()\n",
        "yellowcab.Transaction_ID.nunique()\n",
        "pink_prf = pinkcab['Profit'].sum() / pinkcab.Transaction_ID.nunique() \n",
        "yellow_prf = yellowcab['Profit'].sum() / yellowcab.Transaction_ID.nunique()"
      ],
      "execution_count": 56,
      "outputs": []
    },
    {
      "cell_type": "code",
      "metadata": {
        "colab": {
          "base_uri": "https://localhost:8080/"
        },
        "id": "05sJqR-N9tp4",
        "outputId": "4a7e6c7c-0405-4566-b1c3-19de55d1a685"
      },
      "source": [
        "pinkcab.Transaction_ID.nunique()"
      ],
      "execution_count": 54,
      "outputs": [
        {
          "output_type": "execute_result",
          "data": {
            "text/plain": [
              "84702"
            ]
          },
          "metadata": {
            "tags": []
          },
          "execution_count": 54
        }
      ]
    },
    {
      "cell_type": "markdown",
      "metadata": {
        "id": "Kbp46KlGEBee"
      },
      "source": [
        "HYPOTHESIS IS; For yellow Cabs: There is difference in profit between genders."
      ]
    },
    {
      "cell_type": "code",
      "metadata": {
        "colab": {
          "base_uri": "https://localhost:8080/"
        },
        "id": "GeRJFQrsB-t6",
        "outputId": "e95d2ef1-31d4-4021-e2e3-cf17ec97b05d"
      },
      "source": [
        "new1= result_all[(result_all.Gender=='Female')&(result_all.Company=='Yellow Cab')].groupby('Transaction_ID').Profit.mean()\n",
        "new2 = result_all[(result_all.Gender=='Male')&(result_all.Company=='Yellow Cab')].groupby('Transaction_ID').Profit.mean()\n",
        "print(new1.shape[0],new2.shape[0])\n",
        "\n",
        "from scipy import stats\n",
        "_, p_value = stats.ttest_ind(a.values,b=new2.values,equal_var=True)\n",
        "if(p_value<0.05):\n",
        "    print('We accept alternate hypothesis ')\n",
        "else:\n",
        "    print('We accept null hypothesis')\n",
        "    \n",
        "print('P value is ', p_value)\n"
      ],
      "execution_count": 69,
      "outputs": [
        {
          "output_type": "stream",
          "text": [
            "114739 156756\n",
            "We accept alternate hypothesis \n",
            "P value is  1.3871297223749354e-22\n"
          ],
          "name": "stdout"
        }
      ]
    },
    {
      "cell_type": "markdown",
      "metadata": {
        "id": "tyzcRwXsPZWx"
      },
      "source": [
        "There is difference between genders in profit in yellow cabs.\n"
      ]
    },
    {
      "cell_type": "markdown",
      "metadata": {
        "id": "K6bbuKVCO5xo"
      },
      "source": [
        "HYPOTHESIS IS; For Pink Cabs: There is difference in profit between genders."
      ]
    },
    {
      "cell_type": "code",
      "metadata": {
        "colab": {
          "base_uri": "https://localhost:8080/"
        },
        "id": "XW-C2GelPAah",
        "outputId": "4de8f31b-fe91-4a98-d759-19efe5496cc5"
      },
      "source": [
        "new1= result_all[(result_all.Gender=='Female')&(result_all.Company=='Pink Cab')].groupby('Transaction_ID').Profit.mean()\n",
        "new2 = result_all[(result_all.Gender=='Male')&(result_all.Company=='Pink Cab')].groupby('Transaction_ID').Profit.mean()\n",
        "print(new1.shape[0],new2.shape[0])\n",
        "\n",
        "from scipy import stats\n",
        "_, p_value = stats.ttest_ind(a.values,b=new2.values,equal_var=True)\n",
        "if(p_value<0.05):\n",
        "    print('We accept alternate hypothesis ')\n",
        "else:\n",
        "    print('We accept null hypothesis')\n",
        "    \n",
        "print('P value is ', p_value)\n"
      ],
      "execution_count": 68,
      "outputs": [
        {
          "output_type": "stream",
          "text": [
            "37478 47224\n",
            "We accept alternate hypothesis \n",
            "P value is  0.0\n"
          ],
          "name": "stdout"
        }
      ]
    },
    {
      "cell_type": "markdown",
      "metadata": {
        "id": "5DEsAEpkPlbF"
      },
      "source": [
        "There is difference between genders in profit in pink cabs."
      ]
    },
    {
      "cell_type": "code",
      "metadata": {
        "id": "x-RKYBk8PyjO"
      },
      "source": [
        "new1= result_all[(result_all.Gender=='Female')&(result_all.Company=='Pink Cab')].groupby('Transaction_ID').Profit.mean()\n",
        "new2 = result_all[(result_all.Gender=='Male')&(result_all.Company=='Pink Cab')].groupby('Transaction_ID').Profit.mean()\n",
        "print(new1.shape[0],new2.shape[0])\n",
        "\n",
        "from scipy import stats\n",
        "_, p_value = stats.ttest_ind(a.values,b=new2.values,equal_var=True)\n",
        "if(p_value<0.05):\n",
        "    print('We accept alternate hypothesis ')\n",
        "else:\n",
        "    print('We accept null hypothesis')\n",
        "    \n",
        "print('P value  ', p_value)\n"
      ],
      "execution_count": null,
      "outputs": []
    },
    {
      "cell_type": "markdown",
      "metadata": {
        "id": "D1s2bhcNQaPL"
      },
      "source": [
        "ANY DIFFERENCE IN PROFIT WHILE PAYING WITH CARD OR CASH?"
      ]
    },
    {
      "cell_type": "code",
      "metadata": {
        "colab": {
          "base_uri": "https://localhost:8080/"
        },
        "id": "Bak4ZSisQV7W",
        "outputId": "ef79c18d-5de8-48c1-f781-efd473b5bfa6"
      },
      "source": [
        "new1= result_all[(result_all.Payment_Mode=='Card')&(result_all.Company=='Pink Cab')].groupby('Transaction_ID').Profit.mean()\n",
        "new2 = result_all[(result_all.Gender=='Cash')&(result_all.Company=='Pink Cab')].groupby('Transaction_ID').Profit.mean()\n",
        "print(new1.shape[0],new2.shape[0])\n",
        "\n",
        "from scipy import stats\n",
        "_, p_value = stats.ttest_ind(a.values,b=new2.values,equal_var=True)\n",
        "if(p_value<0.05):\n",
        "    print('We accept alternate hypothesis ')\n",
        "else:\n",
        "    print('We accept null hypothesis')\n",
        "    \n",
        "print('P value ', p_value)\n"
      ],
      "execution_count": 65,
      "outputs": [
        {
          "output_type": "stream",
          "text": [
            "50714 0\n",
            "We accept null hypothesis\n",
            "P value is  nan\n"
          ],
          "name": "stdout"
        }
      ]
    },
    {
      "cell_type": "code",
      "metadata": {
        "colab": {
          "base_uri": "https://localhost:8080/"
        },
        "id": "urnnyyATRtEz",
        "outputId": "d94b2d46-c409-400c-9b15-f9851e67b785"
      },
      "source": [
        "new1= result_all[(result_all.Payment_Mode=='Card')&(result_all.Company=='Yellow Cab')].groupby('Transaction_ID').Profit.mean()\n",
        "new2 = result_all[(result_all.Gender=='Cash')&(result_all.Company=='Yellow Cab')].groupby('Transaction_ID').Profit.mean()\n",
        "print(new1.shape[0],new2.shape[0])\n",
        "\n",
        "from scipy import stats\n",
        "_, p_value = stats.ttest_ind(a.values,b=new2.values,equal_var=True)\n",
        "if(p_value<0.05):\n",
        "    print('We accept alternate hypothesis ')\n",
        "else:\n",
        "    print('We accept null hypothesis')\n",
        "    \n",
        "print('P value  ', p_value)\n"
      ],
      "execution_count": 66,
      "outputs": [
        {
          "output_type": "stream",
          "text": [
            "162899 0\n",
            "We accept null hypothesis\n",
            "P value is  nan\n"
          ],
          "name": "stdout"
        }
      ]
    },
    {
      "cell_type": "code",
      "metadata": {
        "colab": {
          "base_uri": "https://localhost:8080/"
        },
        "id": "MaQqy3UIV5hR",
        "outputId": "6d855fc0-7354-443e-e12a-c3c440beccf4"
      },
      "source": [
        "new1= result_all[(result_all.Age>30)&(result_all.company=='Yellow Cab')].groupby('Transaction_ID').Profit.mean()\n",
        "new2 = result_all[(result_all.Age<=30)&(result_all.Company=='Yellow Cab')].groupby('Transaction_ID').Profit.mean()\n",
        "print(new1.shape[0],new2.shape[0])\n",
        "\n",
        "from scipy import stats\n",
        "_, p_value = stats.ttest_ind(a.values,b=new2.values,equal_var=True)\n",
        "if(p_value<0.05):\n",
        "    print('We accept alternate hypothesis ')\n",
        "else:\n",
        "    print('We accept null hypothesis')\n",
        "    \n",
        "print('P value  ', p_value)\n"
      ],
      "execution_count": 70,
      "outputs": [
        {
          "output_type": "stream",
          "text": [
            "0 113181\n",
            "We accept alternate hypothesis \n",
            "P value is  1.1339016700314598e-06\n"
          ],
          "name": "stdout"
        }
      ]
    },
    {
      "cell_type": "code",
      "metadata": {
        "colab": {
          "base_uri": "https://localhost:8080/"
        },
        "id": "H1Sq0mNRWlSe",
        "outputId": "75e783e1-6826-4952-fd15-88d58547bf9b"
      },
      "source": [
        "new1= result_all[(result_all.Age>30)&(result_all.company=='Pink Cab')].groupby('Transaction_ID').Profit.mean()\n",
        "new2 = result_all[(result_all.Age<=30)&(result_all.Company=='Pink Cab')].groupby('Transaction_ID').Profit.mean()\n",
        "print(new1.shape[0],new2.shape[0])\n",
        "\n",
        "from scipy import stats\n",
        "_, p_value = stats.ttest_ind(a.values,b=new2.values,equal_var=True)\n",
        "if(p_value<0.05):\n",
        "    print('We accept alternate hypothesis ')\n",
        "else:\n",
        "    print('We accept null hypothesis')\n",
        "    \n",
        "print('P value  ', p_value)\n"
      ],
      "execution_count": 74,
      "outputs": [
        {
          "output_type": "stream",
          "text": [
            "0 35549\n",
            "We accept alternate hypothesis \n",
            "P value is  0.0\n"
          ],
          "name": "stdout"
        }
      ]
    },
    {
      "cell_type": "code",
      "metadata": {
        "colab": {
          "base_uri": "https://localhost:8080/"
        },
        "id": "xq6qA7NaXi1L",
        "outputId": "52d172b9-584b-4ee8-cfc6-471054a078a5"
      },
      "source": [
        "result_all[result_all.Age>30].groupby('Company').Profit.mean()"
      ],
      "execution_count": 75,
      "outputs": [
        {
          "output_type": "execute_result",
          "data": {
            "text/plain": [
              "Company\n",
              "Pink Cab       62.173791\n",
              "Yellow Cab    152.577058\n",
              "Name: Profit, dtype: float64"
            ]
          },
          "metadata": {
            "tags": []
          },
          "execution_count": 75
        }
      ]
    },
    {
      "cell_type": "code",
      "metadata": {
        "colab": {
          "base_uri": "https://localhost:8080/"
        },
        "id": "WxDb9f0XXpYs",
        "outputId": "7fa0129e-169f-4cc9-9e38-ae38712ce676"
      },
      "source": [
        "result_all[result_all.Age<=30].groupby('Company').Profit.mean()"
      ],
      "execution_count": 76,
      "outputs": [
        {
          "output_type": "execute_result",
          "data": {
            "text/plain": [
              "Company\n",
              "Pink Cab       63.085504\n",
              "Yellow Cab    152.107665\n",
              "Name: Profit, dtype: float64"
            ]
          },
          "metadata": {
            "tags": []
          },
          "execution_count": 76
        }
      ]
    },
    {
      "cell_type": "code",
      "metadata": {
        "colab": {
          "base_uri": "https://localhost:8080/"
        },
        "id": "fjepUp2JXvQz",
        "outputId": "0878f32c-2632-4e31-c850-0b3210a304a1"
      },
      "source": [
        "result_all[result_all.Gender=='Female'].groupby('Company').Profit.mean()"
      ],
      "execution_count": 77,
      "outputs": [
        {
          "output_type": "execute_result",
          "data": {
            "text/plain": [
              "Company\n",
              "Pink Cab       62.127932\n",
              "Yellow Cab    148.959664\n",
              "Name: Profit, dtype: float64"
            ]
          },
          "metadata": {
            "tags": []
          },
          "execution_count": 77
        }
      ]
    },
    {
      "cell_type": "code",
      "metadata": {
        "colab": {
          "base_uri": "https://localhost:8080/"
        },
        "id": "1lwnE9XiX5Ow",
        "outputId": "388d6c24-b529-4b9e-e30f-f4e03c57d720"
      },
      "source": [
        "result_all[result_all.Gender=='Male'].groupby('Company').Profit.mean()"
      ],
      "execution_count": 78,
      "outputs": [
        {
          "output_type": "execute_result",
          "data": {
            "text/plain": [
              "Company\n",
              "Pink Cab       62.896500\n",
              "Yellow Cab    154.885931\n",
              "Name: Profit, dtype: float64"
            ]
          },
          "metadata": {
            "tags": []
          },
          "execution_count": 78
        }
      ]
    }
  ]
}